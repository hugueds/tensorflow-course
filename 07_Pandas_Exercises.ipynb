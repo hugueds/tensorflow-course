{
  "nbformat": 4,
  "nbformat_minor": 0,
  "metadata": {
    "kernelspec": {
      "display_name": "Python 3",
      "language": "python",
      "name": "python3"
    },
    "language_info": {
      "codemirror_mode": {
        "name": "ipython",
        "version": 3
      },
      "file_extension": ".py",
      "mimetype": "text/x-python",
      "name": "python",
      "nbconvert_exporter": "python",
      "pygments_lexer": "ipython3",
      "version": "3.7.4"
    },
    "colab": {
      "name": "07-Pandas-Exercises.ipynb",
      "provenance": [],
      "include_colab_link": true
    }
  },
  "cells": [
    {
      "cell_type": "markdown",
      "metadata": {
        "id": "view-in-github",
        "colab_type": "text"
      },
      "source": [
        "<a href=\"https://colab.research.google.com/github/hugueds/tensorflow-course/blob/master/07_Pandas_Exercises.ipynb\" target=\"_parent\"><img src=\"https://colab.research.google.com/assets/colab-badge.svg\" alt=\"Open In Colab\"/></a>"
      ]
    },
    {
      "cell_type": "markdown",
      "metadata": {
        "id": "xnVoFIQobF0a",
        "colab_type": "text"
      },
      "source": [
        "\n",
        "<a href='http://www.pieriandata.com'><img src='../Pierian_Data_Logo.png'/></a>\n",
        "___\n",
        "<center><em>Copyright Pierian Data</em></center>\n",
        "<center><em>For more information, visit us at <a href='http://www.pieriandata.com'>www.pieriandata.com</a></em></center>"
      ]
    },
    {
      "cell_type": "markdown",
      "metadata": {
        "id": "n2FX6dJqbF0d",
        "colab_type": "text"
      },
      "source": [
        "# Pandas Exercises\n",
        "\n",
        "**Source of the Data: https://www.kaggle.com/chirin/africa-economic-banking-and-systemic-crisis-data/downloads/africa-economic-banking-and-systemic-crisis-data.zip/1**\n",
        "\n",
        "\n",
        "This dataset is a derivative of Reinhart et. al's Global Financial Stability dataset which can be found online at: https://www.hbs.edu/behavioral-finance-and-financial-stability/data/Pages/global.aspx\n",
        "\n",
        "The dataset will be valuable to those who seek to understand the dynamics of financial stability within the African context.\n",
        "\n",
        "Content\n",
        "The dataset specifically focuses on the Banking, Debt, Financial, Inflation and Systemic Crises that occurred, from 1860 to 2014, in 13 African countries, including: Algeria, Angola, Central African Republic, Ivory Coast, Egypt, Kenya, Mauritius, Morocco, Nigeria, South Africa, Tunisia, Zambia and Zimbabwe.\n",
        "\n",
        "\n",
        "\n",
        "* caseA     number which denotes a specific country\n",
        "* cc3A     three letter country code\n",
        "* country    The name of the country\n",
        "* year   The year of the observation\n",
        "* systemic_crisis\"0\" means that no systemic crisis occurred in the year and \"1\" means that a systemic crisis occurred in the year.\n",
        "* exch_usd    The exchange rate of the country vis-a-vis the USD\n",
        "* domestic_debt_in_default   \"0\" means that no sovereign domestic debt default occurred in the year and \"1\" means that a sovereign domestic debt default occurred in the year\n",
        "* sovereign_external_debt_default  \"0\" means that no sovereign external debt default occurred in the year and \"1\" means that a sovereign external debt default occurred in the year\n",
        "* gdp_weighted_default    The total debt in default vis-a-vis the GDP\n",
        "* inflation_annual_cpi    The annual CPI Inflation rate\n",
        "* independence   \"0\" means \"no independence\" and \"1\" means \"independence\"\n",
        "* currency_crises  \"0\" means that no currency crisis occurred in the year and \"1\" means that a currency crisis occurred in the year\n",
        "* inflation_crises  \"0\" means that no inflation crisis occurred in the year and \"1\" means that an inflation crisis occurred in the year\n",
        "* banking_crisis\"no_crisis\" means that no banking crisis occurred in the year and \"crisis\" means that a banking crisis occurred in the year"
      ]
    },
    {
      "cell_type": "markdown",
      "metadata": {
        "id": "MghA-CvHbF0f",
        "colab_type": "text"
      },
      "source": [
        "---\n",
        "---\n",
        "***PLEASE NOTE! THERE ARE MANY,MANY DIFFERENT POSSIBLE SOLUTIONS TO THESE QUESTIONS! PLEASE DON'T POST ASKING IF YOUR SOLUTION IS OK IF ITS DIFFERENT. AS LONG AS YOU GOT THE CORRECT ANSWER IT IS OK!***\n",
        "\n",
        "---\n",
        "---\n",
        "# Complete the Tasks Below\n",
        "---"
      ]
    },
    {
      "cell_type": "markdown",
      "metadata": {
        "id": "8h3JQhIBbF0g",
        "colab_type": "text"
      },
      "source": [
        "**TASK: Import pandas**"
      ]
    },
    {
      "cell_type": "code",
      "metadata": {
        "id": "bJzpTUaZbF0h",
        "colab_type": "code",
        "colab": {}
      },
      "source": [
        "import pandas as pd"
      ],
      "execution_count": 0,
      "outputs": []
    },
    {
      "cell_type": "code",
      "metadata": {
        "id": "EoVBbRxebF0l",
        "colab_type": "code",
        "colab": {}
      },
      "source": [
        ""
      ],
      "execution_count": 0,
      "outputs": []
    },
    {
      "cell_type": "markdown",
      "metadata": {
        "id": "Gv8_xaV1bF0n",
        "colab_type": "text"
      },
      "source": [
        "**TASK:  Read in the african_econ_crises.csv file that is located under the 01-Crash-Course-Pandas folder. Pay close attention to where the .csv file is located! Please don't post to the QA forums if you can't figure this one out, instead, run our solutions notebook directly to see how its done.**"
      ]
    },
    {
      "cell_type": "code",
      "metadata": {
        "id": "kj8C8UBrbF0o",
        "colab_type": "code",
        "colab": {}
      },
      "source": [
        "df = pd.read_csv('african_econ_crises.csv')"
      ],
      "execution_count": 0,
      "outputs": []
    },
    {
      "cell_type": "code",
      "metadata": {
        "id": "T7GaM3fmbF0r",
        "colab_type": "code",
        "colab": {}
      },
      "source": [
        ""
      ],
      "execution_count": 0,
      "outputs": []
    },
    {
      "cell_type": "markdown",
      "metadata": {
        "id": "OjKALR_5bF0u",
        "colab_type": "text"
      },
      "source": [
        "**TASK: Display the first 5 rows of the data set**"
      ]
    },
    {
      "cell_type": "code",
      "metadata": {
        "id": "1y05k-9BbF0v",
        "colab_type": "code",
        "colab": {
          "base_uri": "https://localhost:8080/",
          "height": 224
        },
        "outputId": "29d089ca-9546-4132-da1b-fe0f8523a09d"
      },
      "source": [
        "df[:5]"
      ],
      "execution_count": 3,
      "outputs": [
        {
          "output_type": "execute_result",
          "data": {
            "text/html": [
              "<div>\n",
              "<style scoped>\n",
              "    .dataframe tbody tr th:only-of-type {\n",
              "        vertical-align: middle;\n",
              "    }\n",
              "\n",
              "    .dataframe tbody tr th {\n",
              "        vertical-align: top;\n",
              "    }\n",
              "\n",
              "    .dataframe thead th {\n",
              "        text-align: right;\n",
              "    }\n",
              "</style>\n",
              "<table border=\"1\" class=\"dataframe\">\n",
              "  <thead>\n",
              "    <tr style=\"text-align: right;\">\n",
              "      <th></th>\n",
              "      <th>case</th>\n",
              "      <th>cc3</th>\n",
              "      <th>country</th>\n",
              "      <th>year</th>\n",
              "      <th>systemic_crisis</th>\n",
              "      <th>exch_usd</th>\n",
              "      <th>domestic_debt_in_default</th>\n",
              "      <th>sovereign_external_debt_default</th>\n",
              "      <th>gdp_weighted_default</th>\n",
              "      <th>inflation_annual_cpi</th>\n",
              "      <th>independence</th>\n",
              "      <th>currency_crises</th>\n",
              "      <th>inflation_crises</th>\n",
              "      <th>banking_crisis</th>\n",
              "    </tr>\n",
              "  </thead>\n",
              "  <tbody>\n",
              "    <tr>\n",
              "      <th>0</th>\n",
              "      <td>1</td>\n",
              "      <td>DZA</td>\n",
              "      <td>Algeria</td>\n",
              "      <td>1870</td>\n",
              "      <td>1</td>\n",
              "      <td>0.052264</td>\n",
              "      <td>0</td>\n",
              "      <td>0</td>\n",
              "      <td>0.0</td>\n",
              "      <td>3.441456</td>\n",
              "      <td>0</td>\n",
              "      <td>0</td>\n",
              "      <td>0</td>\n",
              "      <td>crisis</td>\n",
              "    </tr>\n",
              "    <tr>\n",
              "      <th>1</th>\n",
              "      <td>1</td>\n",
              "      <td>DZA</td>\n",
              "      <td>Algeria</td>\n",
              "      <td>1871</td>\n",
              "      <td>0</td>\n",
              "      <td>0.052798</td>\n",
              "      <td>0</td>\n",
              "      <td>0</td>\n",
              "      <td>0.0</td>\n",
              "      <td>14.149140</td>\n",
              "      <td>0</td>\n",
              "      <td>0</td>\n",
              "      <td>0</td>\n",
              "      <td>no_crisis</td>\n",
              "    </tr>\n",
              "    <tr>\n",
              "      <th>2</th>\n",
              "      <td>1</td>\n",
              "      <td>DZA</td>\n",
              "      <td>Algeria</td>\n",
              "      <td>1872</td>\n",
              "      <td>0</td>\n",
              "      <td>0.052274</td>\n",
              "      <td>0</td>\n",
              "      <td>0</td>\n",
              "      <td>0.0</td>\n",
              "      <td>-3.718593</td>\n",
              "      <td>0</td>\n",
              "      <td>0</td>\n",
              "      <td>0</td>\n",
              "      <td>no_crisis</td>\n",
              "    </tr>\n",
              "    <tr>\n",
              "      <th>3</th>\n",
              "      <td>1</td>\n",
              "      <td>DZA</td>\n",
              "      <td>Algeria</td>\n",
              "      <td>1873</td>\n",
              "      <td>0</td>\n",
              "      <td>0.051680</td>\n",
              "      <td>0</td>\n",
              "      <td>0</td>\n",
              "      <td>0.0</td>\n",
              "      <td>11.203897</td>\n",
              "      <td>0</td>\n",
              "      <td>0</td>\n",
              "      <td>0</td>\n",
              "      <td>no_crisis</td>\n",
              "    </tr>\n",
              "    <tr>\n",
              "      <th>4</th>\n",
              "      <td>1</td>\n",
              "      <td>DZA</td>\n",
              "      <td>Algeria</td>\n",
              "      <td>1874</td>\n",
              "      <td>0</td>\n",
              "      <td>0.051308</td>\n",
              "      <td>0</td>\n",
              "      <td>0</td>\n",
              "      <td>0.0</td>\n",
              "      <td>-3.848561</td>\n",
              "      <td>0</td>\n",
              "      <td>0</td>\n",
              "      <td>0</td>\n",
              "      <td>no_crisis</td>\n",
              "    </tr>\n",
              "  </tbody>\n",
              "</table>\n",
              "</div>"
            ],
            "text/plain": [
              "   case  cc3  country  ...  currency_crises  inflation_crises  banking_crisis\n",
              "0     1  DZA  Algeria  ...                0                 0          crisis\n",
              "1     1  DZA  Algeria  ...                0                 0       no_crisis\n",
              "2     1  DZA  Algeria  ...                0                 0       no_crisis\n",
              "3     1  DZA  Algeria  ...                0                 0       no_crisis\n",
              "4     1  DZA  Algeria  ...                0                 0       no_crisis\n",
              "\n",
              "[5 rows x 14 columns]"
            ]
          },
          "metadata": {
            "tags": []
          },
          "execution_count": 3
        }
      ]
    },
    {
      "cell_type": "code",
      "metadata": {
        "id": "SW4cQHZ7bF0z",
        "colab_type": "code",
        "colab": {},
        "outputId": "666d8140-70ea-4ca7-8596-2c70ca28232b"
      },
      "source": [
        ""
      ],
      "execution_count": 0,
      "outputs": [
        {
          "output_type": "execute_result",
          "data": {
            "text/html": [
              "<div>\n",
              "<style scoped>\n",
              "    .dataframe tbody tr th:only-of-type {\n",
              "        vertical-align: middle;\n",
              "    }\n",
              "\n",
              "    .dataframe tbody tr th {\n",
              "        vertical-align: top;\n",
              "    }\n",
              "\n",
              "    .dataframe thead th {\n",
              "        text-align: right;\n",
              "    }\n",
              "</style>\n",
              "<table border=\"1\" class=\"dataframe\">\n",
              "  <thead>\n",
              "    <tr style=\"text-align: right;\">\n",
              "      <th></th>\n",
              "      <th>case</th>\n",
              "      <th>cc3</th>\n",
              "      <th>country</th>\n",
              "      <th>year</th>\n",
              "      <th>systemic_crisis</th>\n",
              "      <th>exch_usd</th>\n",
              "      <th>domestic_debt_in_default</th>\n",
              "      <th>sovereign_external_debt_default</th>\n",
              "      <th>gdp_weighted_default</th>\n",
              "      <th>inflation_annual_cpi</th>\n",
              "      <th>independence</th>\n",
              "      <th>currency_crises</th>\n",
              "      <th>inflation_crises</th>\n",
              "      <th>banking_crisis</th>\n",
              "    </tr>\n",
              "  </thead>\n",
              "  <tbody>\n",
              "    <tr>\n",
              "      <td>0</td>\n",
              "      <td>1</td>\n",
              "      <td>DZA</td>\n",
              "      <td>Algeria</td>\n",
              "      <td>1870</td>\n",
              "      <td>1</td>\n",
              "      <td>0.052264</td>\n",
              "      <td>0</td>\n",
              "      <td>0</td>\n",
              "      <td>0.0</td>\n",
              "      <td>3.441456</td>\n",
              "      <td>0</td>\n",
              "      <td>0</td>\n",
              "      <td>0</td>\n",
              "      <td>crisis</td>\n",
              "    </tr>\n",
              "    <tr>\n",
              "      <td>1</td>\n",
              "      <td>1</td>\n",
              "      <td>DZA</td>\n",
              "      <td>Algeria</td>\n",
              "      <td>1871</td>\n",
              "      <td>0</td>\n",
              "      <td>0.052798</td>\n",
              "      <td>0</td>\n",
              "      <td>0</td>\n",
              "      <td>0.0</td>\n",
              "      <td>14.149140</td>\n",
              "      <td>0</td>\n",
              "      <td>0</td>\n",
              "      <td>0</td>\n",
              "      <td>no_crisis</td>\n",
              "    </tr>\n",
              "    <tr>\n",
              "      <td>2</td>\n",
              "      <td>1</td>\n",
              "      <td>DZA</td>\n",
              "      <td>Algeria</td>\n",
              "      <td>1872</td>\n",
              "      <td>0</td>\n",
              "      <td>0.052274</td>\n",
              "      <td>0</td>\n",
              "      <td>0</td>\n",
              "      <td>0.0</td>\n",
              "      <td>-3.718593</td>\n",
              "      <td>0</td>\n",
              "      <td>0</td>\n",
              "      <td>0</td>\n",
              "      <td>no_crisis</td>\n",
              "    </tr>\n",
              "    <tr>\n",
              "      <td>3</td>\n",
              "      <td>1</td>\n",
              "      <td>DZA</td>\n",
              "      <td>Algeria</td>\n",
              "      <td>1873</td>\n",
              "      <td>0</td>\n",
              "      <td>0.051680</td>\n",
              "      <td>0</td>\n",
              "      <td>0</td>\n",
              "      <td>0.0</td>\n",
              "      <td>11.203897</td>\n",
              "      <td>0</td>\n",
              "      <td>0</td>\n",
              "      <td>0</td>\n",
              "      <td>no_crisis</td>\n",
              "    </tr>\n",
              "    <tr>\n",
              "      <td>4</td>\n",
              "      <td>1</td>\n",
              "      <td>DZA</td>\n",
              "      <td>Algeria</td>\n",
              "      <td>1874</td>\n",
              "      <td>0</td>\n",
              "      <td>0.051308</td>\n",
              "      <td>0</td>\n",
              "      <td>0</td>\n",
              "      <td>0.0</td>\n",
              "      <td>-3.848561</td>\n",
              "      <td>0</td>\n",
              "      <td>0</td>\n",
              "      <td>0</td>\n",
              "      <td>no_crisis</td>\n",
              "    </tr>\n",
              "  </tbody>\n",
              "</table>\n",
              "</div>"
            ],
            "text/plain": [
              "   case  cc3  country  year  systemic_crisis  exch_usd  \\\n",
              "0     1  DZA  Algeria  1870                1  0.052264   \n",
              "1     1  DZA  Algeria  1871                0  0.052798   \n",
              "2     1  DZA  Algeria  1872                0  0.052274   \n",
              "3     1  DZA  Algeria  1873                0  0.051680   \n",
              "4     1  DZA  Algeria  1874                0  0.051308   \n",
              "\n",
              "   domestic_debt_in_default  sovereign_external_debt_default  \\\n",
              "0                         0                                0   \n",
              "1                         0                                0   \n",
              "2                         0                                0   \n",
              "3                         0                                0   \n",
              "4                         0                                0   \n",
              "\n",
              "   gdp_weighted_default  inflation_annual_cpi  independence  currency_crises  \\\n",
              "0                   0.0              3.441456             0                0   \n",
              "1                   0.0             14.149140             0                0   \n",
              "2                   0.0             -3.718593             0                0   \n",
              "3                   0.0             11.203897             0                0   \n",
              "4                   0.0             -3.848561             0                0   \n",
              "\n",
              "   inflation_crises banking_crisis  \n",
              "0                 0         crisis  \n",
              "1                 0      no_crisis  \n",
              "2                 0      no_crisis  \n",
              "3                 0      no_crisis  \n",
              "4                 0      no_crisis  "
            ]
          },
          "metadata": {
            "tags": []
          },
          "execution_count": 16
        }
      ]
    },
    {
      "cell_type": "markdown",
      "metadata": {
        "id": "lBzlpxcWbF02",
        "colab_type": "text"
      },
      "source": [
        "**TASK: How many countries are represented in this data set?**"
      ]
    },
    {
      "cell_type": "code",
      "metadata": {
        "id": "MvgyCUj-bF03",
        "colab_type": "code",
        "colab": {
          "base_uri": "https://localhost:8080/",
          "height": 34
        },
        "outputId": "b526c760-1b9e-4b7f-a975-f47da06e08d3"
      },
      "source": [
        "df['country'].nunique()"
      ],
      "execution_count": 7,
      "outputs": [
        {
          "output_type": "execute_result",
          "data": {
            "text/plain": [
              "13"
            ]
          },
          "metadata": {
            "tags": []
          },
          "execution_count": 7
        }
      ]
    },
    {
      "cell_type": "code",
      "metadata": {
        "id": "BqXeaX1MbF05",
        "colab_type": "code",
        "colab": {},
        "outputId": "f70acdba-d90c-4a48-e66e-2c8c0a0f8b58"
      },
      "source": [
        ""
      ],
      "execution_count": 0,
      "outputs": [
        {
          "output_type": "execute_result",
          "data": {
            "text/plain": [
              "13"
            ]
          },
          "metadata": {
            "tags": []
          },
          "execution_count": 18
        }
      ]
    },
    {
      "cell_type": "markdown",
      "metadata": {
        "id": "T7NTNEoLbF09",
        "colab_type": "text"
      },
      "source": [
        "**TASK: What are the countries represented in this data set?**"
      ]
    },
    {
      "cell_type": "code",
      "metadata": {
        "id": "6EcYc5WabF0-",
        "colab_type": "code",
        "colab": {
          "base_uri": "https://localhost:8080/",
          "height": 68
        },
        "outputId": "62b47d8e-8751-40a3-d3df-ff0c0515efb0"
      },
      "source": [
        "df['country'].unique()"
      ],
      "execution_count": 8,
      "outputs": [
        {
          "output_type": "execute_result",
          "data": {
            "text/plain": [
              "array(['Algeria', 'Angola', 'Central African Republic', 'Ivory Coast',\n",
              "       'Egypt', 'Kenya', 'Mauritius', 'Morocco', 'Nigeria',\n",
              "       'South Africa', 'Tunisia', 'Zambia', 'Zimbabwe'], dtype=object)"
            ]
          },
          "metadata": {
            "tags": []
          },
          "execution_count": 8
        }
      ]
    },
    {
      "cell_type": "code",
      "metadata": {
        "id": "KlPbnnoRbF1C",
        "colab_type": "code",
        "colab": {},
        "outputId": "0c4197bb-cb64-4ced-e57c-d5ed6f9618e7"
      },
      "source": [
        ""
      ],
      "execution_count": 0,
      "outputs": [
        {
          "output_type": "execute_result",
          "data": {
            "text/plain": [
              "array(['Algeria', 'Angola', 'Central African Republic', 'Ivory Coast',\n",
              "       'Egypt', 'Kenya', 'Mauritius', 'Morocco', 'Nigeria',\n",
              "       'South Africa', 'Tunisia', 'Zambia', 'Zimbabwe'], dtype=object)"
            ]
          },
          "metadata": {
            "tags": []
          },
          "execution_count": 20
        }
      ]
    },
    {
      "cell_type": "markdown",
      "metadata": {
        "id": "8jCHd0q-bF1F",
        "colab_type": "text"
      },
      "source": [
        "**TASK: What country had this highest annual CPI Inflation rate? What was the inflation rate?**"
      ]
    },
    {
      "cell_type": "code",
      "metadata": {
        "id": "igARHLp5bF1G",
        "colab_type": "code",
        "colab": {
          "base_uri": "https://localhost:8080/",
          "height": 51
        },
        "outputId": "407a4474-6a6e-4f40-c584-a0abb2b903e3"
      },
      "source": [
        "cond = df['inflation_annual_cpi'].max()\n",
        "df[df['inflation_annual_cpi'] == cond]['country']"
      ],
      "execution_count": 12,
      "outputs": [
        {
          "output_type": "execute_result",
          "data": {
            "text/plain": [
              "1053    Zimbabwe\n",
              "Name: country, dtype: object"
            ]
          },
          "metadata": {
            "tags": []
          },
          "execution_count": 12
        }
      ]
    },
    {
      "cell_type": "code",
      "metadata": {
        "id": "XvVMNT1NbF1I",
        "colab_type": "code",
        "colab": {},
        "outputId": "35922633-53ac-4abc-aa0d-c4985e6e3293"
      },
      "source": [
        ""
      ],
      "execution_count": 0,
      "outputs": [
        {
          "output_type": "execute_result",
          "data": {
            "text/html": [
              "<div>\n",
              "<style scoped>\n",
              "    .dataframe tbody tr th:only-of-type {\n",
              "        vertical-align: middle;\n",
              "    }\n",
              "\n",
              "    .dataframe tbody tr th {\n",
              "        vertical-align: top;\n",
              "    }\n",
              "\n",
              "    .dataframe thead th {\n",
              "        text-align: right;\n",
              "    }\n",
              "</style>\n",
              "<table border=\"1\" class=\"dataframe\">\n",
              "  <thead>\n",
              "    <tr style=\"text-align: right;\">\n",
              "      <th></th>\n",
              "      <th>case</th>\n",
              "      <th>cc3</th>\n",
              "      <th>country</th>\n",
              "      <th>year</th>\n",
              "      <th>systemic_crisis</th>\n",
              "      <th>exch_usd</th>\n",
              "      <th>domestic_debt_in_default</th>\n",
              "      <th>sovereign_external_debt_default</th>\n",
              "      <th>gdp_weighted_default</th>\n",
              "      <th>inflation_annual_cpi</th>\n",
              "      <th>independence</th>\n",
              "      <th>currency_crises</th>\n",
              "      <th>inflation_crises</th>\n",
              "      <th>banking_crisis</th>\n",
              "    </tr>\n",
              "  </thead>\n",
              "  <tbody>\n",
              "    <tr>\n",
              "      <td>1053</td>\n",
              "      <td>70</td>\n",
              "      <td>ZWE</td>\n",
              "      <td>Zimbabwe</td>\n",
              "      <td>2008</td>\n",
              "      <td>1</td>\n",
              "      <td>0.002</td>\n",
              "      <td>1</td>\n",
              "      <td>1</td>\n",
              "      <td>0.0</td>\n",
              "      <td>21989695.22</td>\n",
              "      <td>1</td>\n",
              "      <td>1</td>\n",
              "      <td>1</td>\n",
              "      <td>crisis</td>\n",
              "    </tr>\n",
              "  </tbody>\n",
              "</table>\n",
              "</div>"
            ],
            "text/plain": [
              "      case  cc3   country  year  systemic_crisis  exch_usd  \\\n",
              "1053    70  ZWE  Zimbabwe  2008                1     0.002   \n",
              "\n",
              "      domestic_debt_in_default  sovereign_external_debt_default  \\\n",
              "1053                         1                                1   \n",
              "\n",
              "      gdp_weighted_default  inflation_annual_cpi  independence  \\\n",
              "1053                   0.0           21989695.22             1   \n",
              "\n",
              "      currency_crises  inflation_crises banking_crisis  \n",
              "1053                1                 1         crisis  "
            ]
          },
          "metadata": {
            "tags": []
          },
          "execution_count": 24
        }
      ]
    },
    {
      "cell_type": "markdown",
      "metadata": {
        "id": "1l1fJcfnbF1K",
        "colab_type": "text"
      },
      "source": [
        "**TASK: In what year did Kenya have its first System Crisis?**"
      ]
    },
    {
      "cell_type": "code",
      "metadata": {
        "id": "NFBZ1nHYbF1M",
        "colab_type": "code",
        "colab": {
          "base_uri": "https://localhost:8080/",
          "height": 506
        },
        "outputId": "c0d95ac7-a7fd-4875-c804-d2e7a1c66cc1"
      },
      "source": [
        "sort = df.sort_values('year')\n",
        "sort[ (df['country'] == 'Kenya') & (df['systemic_crisis'] == 1)]"
      ],
      "execution_count": 22,
      "outputs": [
        {
          "output_type": "stream",
          "text": [
            "/usr/local/lib/python3.6/dist-packages/ipykernel_launcher.py:2: UserWarning: Boolean Series key will be reindexed to match DataFrame index.\n",
            "  \n"
          ],
          "name": "stderr"
        },
        {
          "output_type": "execute_result",
          "data": {
            "text/html": [
              "<div>\n",
              "<style scoped>\n",
              "    .dataframe tbody tr th:only-of-type {\n",
              "        vertical-align: middle;\n",
              "    }\n",
              "\n",
              "    .dataframe tbody tr th {\n",
              "        vertical-align: top;\n",
              "    }\n",
              "\n",
              "    .dataframe thead th {\n",
              "        text-align: right;\n",
              "    }\n",
              "</style>\n",
              "<table border=\"1\" class=\"dataframe\">\n",
              "  <thead>\n",
              "    <tr style=\"text-align: right;\">\n",
              "      <th></th>\n",
              "      <th>case</th>\n",
              "      <th>cc3</th>\n",
              "      <th>country</th>\n",
              "      <th>year</th>\n",
              "      <th>systemic_crisis</th>\n",
              "      <th>exch_usd</th>\n",
              "      <th>domestic_debt_in_default</th>\n",
              "      <th>sovereign_external_debt_default</th>\n",
              "      <th>gdp_weighted_default</th>\n",
              "      <th>inflation_annual_cpi</th>\n",
              "      <th>independence</th>\n",
              "      <th>currency_crises</th>\n",
              "      <th>inflation_crises</th>\n",
              "      <th>banking_crisis</th>\n",
              "    </tr>\n",
              "  </thead>\n",
              "  <tbody>\n",
              "    <tr>\n",
              "      <th>475</th>\n",
              "      <td>35</td>\n",
              "      <td>KEN</td>\n",
              "      <td>Kenya</td>\n",
              "      <td>1985</td>\n",
              "      <td>1</td>\n",
              "      <td>16.2843</td>\n",
              "      <td>0</td>\n",
              "      <td>0</td>\n",
              "      <td>0.0</td>\n",
              "      <td>11.398</td>\n",
              "      <td>1</td>\n",
              "      <td>0</td>\n",
              "      <td>0</td>\n",
              "      <td>crisis</td>\n",
              "    </tr>\n",
              "    <tr>\n",
              "      <th>476</th>\n",
              "      <td>35</td>\n",
              "      <td>KEN</td>\n",
              "      <td>Kenya</td>\n",
              "      <td>1986</td>\n",
              "      <td>1</td>\n",
              "      <td>16.0422</td>\n",
              "      <td>0</td>\n",
              "      <td>0</td>\n",
              "      <td>0.0</td>\n",
              "      <td>10.284</td>\n",
              "      <td>1</td>\n",
              "      <td>0</td>\n",
              "      <td>0</td>\n",
              "      <td>crisis</td>\n",
              "    </tr>\n",
              "    <tr>\n",
              "      <th>477</th>\n",
              "      <td>35</td>\n",
              "      <td>KEN</td>\n",
              "      <td>Kenya</td>\n",
              "      <td>1987</td>\n",
              "      <td>1</td>\n",
              "      <td>16.5149</td>\n",
              "      <td>0</td>\n",
              "      <td>0</td>\n",
              "      <td>0.0</td>\n",
              "      <td>13.007</td>\n",
              "      <td>1</td>\n",
              "      <td>0</td>\n",
              "      <td>0</td>\n",
              "      <td>crisis</td>\n",
              "    </tr>\n",
              "    <tr>\n",
              "      <th>478</th>\n",
              "      <td>35</td>\n",
              "      <td>KEN</td>\n",
              "      <td>Kenya</td>\n",
              "      <td>1988</td>\n",
              "      <td>1</td>\n",
              "      <td>18.5994</td>\n",
              "      <td>0</td>\n",
              "      <td>0</td>\n",
              "      <td>0.0</td>\n",
              "      <td>4.804</td>\n",
              "      <td>1</td>\n",
              "      <td>0</td>\n",
              "      <td>0</td>\n",
              "      <td>crisis</td>\n",
              "    </tr>\n",
              "    <tr>\n",
              "      <th>479</th>\n",
              "      <td>35</td>\n",
              "      <td>KEN</td>\n",
              "      <td>Kenya</td>\n",
              "      <td>1989</td>\n",
              "      <td>1</td>\n",
              "      <td>21.6010</td>\n",
              "      <td>0</td>\n",
              "      <td>0</td>\n",
              "      <td>0.0</td>\n",
              "      <td>7.617</td>\n",
              "      <td>1</td>\n",
              "      <td>1</td>\n",
              "      <td>0</td>\n",
              "      <td>no_crisis</td>\n",
              "    </tr>\n",
              "    <tr>\n",
              "      <th>482</th>\n",
              "      <td>35</td>\n",
              "      <td>KEN</td>\n",
              "      <td>Kenya</td>\n",
              "      <td>1992</td>\n",
              "      <td>1</td>\n",
              "      <td>36.2163</td>\n",
              "      <td>0</td>\n",
              "      <td>0</td>\n",
              "      <td>0.0</td>\n",
              "      <td>27.332</td>\n",
              "      <td>1</td>\n",
              "      <td>1</td>\n",
              "      <td>1</td>\n",
              "      <td>crisis</td>\n",
              "    </tr>\n",
              "    <tr>\n",
              "      <th>483</th>\n",
              "      <td>35</td>\n",
              "      <td>KEN</td>\n",
              "      <td>Kenya</td>\n",
              "      <td>1993</td>\n",
              "      <td>1</td>\n",
              "      <td>68.1631</td>\n",
              "      <td>0</td>\n",
              "      <td>0</td>\n",
              "      <td>0.0</td>\n",
              "      <td>45.979</td>\n",
              "      <td>1</td>\n",
              "      <td>1</td>\n",
              "      <td>1</td>\n",
              "      <td>crisis</td>\n",
              "    </tr>\n",
              "    <tr>\n",
              "      <th>484</th>\n",
              "      <td>35</td>\n",
              "      <td>KEN</td>\n",
              "      <td>Kenya</td>\n",
              "      <td>1994</td>\n",
              "      <td>1</td>\n",
              "      <td>44.8389</td>\n",
              "      <td>0</td>\n",
              "      <td>1</td>\n",
              "      <td>0.0</td>\n",
              "      <td>28.814</td>\n",
              "      <td>1</td>\n",
              "      <td>0</td>\n",
              "      <td>1</td>\n",
              "      <td>crisis</td>\n",
              "    </tr>\n",
              "    <tr>\n",
              "      <th>485</th>\n",
              "      <td>35</td>\n",
              "      <td>KEN</td>\n",
              "      <td>Kenya</td>\n",
              "      <td>1995</td>\n",
              "      <td>1</td>\n",
              "      <td>55.9389</td>\n",
              "      <td>0</td>\n",
              "      <td>1</td>\n",
              "      <td>0.0</td>\n",
              "      <td>1.554</td>\n",
              "      <td>1</td>\n",
              "      <td>0</td>\n",
              "      <td>0</td>\n",
              "      <td>crisis</td>\n",
              "    </tr>\n",
              "    <tr>\n",
              "      <th>486</th>\n",
              "      <td>35</td>\n",
              "      <td>KEN</td>\n",
              "      <td>Kenya</td>\n",
              "      <td>1996</td>\n",
              "      <td>1</td>\n",
              "      <td>55.0211</td>\n",
              "      <td>0</td>\n",
              "      <td>1</td>\n",
              "      <td>0.0</td>\n",
              "      <td>8.862</td>\n",
              "      <td>1</td>\n",
              "      <td>0</td>\n",
              "      <td>0</td>\n",
              "      <td>no_crisis</td>\n",
              "    </tr>\n",
              "    <tr>\n",
              "      <th>487</th>\n",
              "      <td>35</td>\n",
              "      <td>KEN</td>\n",
              "      <td>Kenya</td>\n",
              "      <td>1997</td>\n",
              "      <td>1</td>\n",
              "      <td>62.6778</td>\n",
              "      <td>0</td>\n",
              "      <td>1</td>\n",
              "      <td>0.0</td>\n",
              "      <td>11.924</td>\n",
              "      <td>1</td>\n",
              "      <td>0</td>\n",
              "      <td>0</td>\n",
              "      <td>no_crisis</td>\n",
              "    </tr>\n",
              "    <tr>\n",
              "      <th>488</th>\n",
              "      <td>35</td>\n",
              "      <td>KEN</td>\n",
              "      <td>Kenya</td>\n",
              "      <td>1998</td>\n",
              "      <td>1</td>\n",
              "      <td>61.9056</td>\n",
              "      <td>0</td>\n",
              "      <td>1</td>\n",
              "      <td>0.0</td>\n",
              "      <td>6.716</td>\n",
              "      <td>1</td>\n",
              "      <td>0</td>\n",
              "      <td>0</td>\n",
              "      <td>no_crisis</td>\n",
              "    </tr>\n",
              "    <tr>\n",
              "      <th>489</th>\n",
              "      <td>35</td>\n",
              "      <td>KEN</td>\n",
              "      <td>Kenya</td>\n",
              "      <td>1999</td>\n",
              "      <td>1</td>\n",
              "      <td>72.9306</td>\n",
              "      <td>0</td>\n",
              "      <td>0</td>\n",
              "      <td>0.0</td>\n",
              "      <td>5.753</td>\n",
              "      <td>1</td>\n",
              "      <td>1</td>\n",
              "      <td>0</td>\n",
              "      <td>no_crisis</td>\n",
              "    </tr>\n",
              "  </tbody>\n",
              "</table>\n",
              "</div>"
            ],
            "text/plain": [
              "     case  cc3 country  ...  currency_crises  inflation_crises  banking_crisis\n",
              "475    35  KEN   Kenya  ...                0                 0          crisis\n",
              "476    35  KEN   Kenya  ...                0                 0          crisis\n",
              "477    35  KEN   Kenya  ...                0                 0          crisis\n",
              "478    35  KEN   Kenya  ...                0                 0          crisis\n",
              "479    35  KEN   Kenya  ...                1                 0       no_crisis\n",
              "482    35  KEN   Kenya  ...                1                 1          crisis\n",
              "483    35  KEN   Kenya  ...                1                 1          crisis\n",
              "484    35  KEN   Kenya  ...                0                 1          crisis\n",
              "485    35  KEN   Kenya  ...                0                 0          crisis\n",
              "486    35  KEN   Kenya  ...                0                 0       no_crisis\n",
              "487    35  KEN   Kenya  ...                0                 0       no_crisis\n",
              "488    35  KEN   Kenya  ...                0                 0       no_crisis\n",
              "489    35  KEN   Kenya  ...                1                 0       no_crisis\n",
              "\n",
              "[13 rows x 14 columns]"
            ]
          },
          "metadata": {
            "tags": []
          },
          "execution_count": 22
        }
      ]
    },
    {
      "cell_type": "code",
      "metadata": {
        "id": "EVuAFyPxbF1P",
        "colab_type": "code",
        "colab": {},
        "outputId": "9274ff13-736a-491b-f240-2d2ef73aaa35"
      },
      "source": [
        ""
      ],
      "execution_count": 0,
      "outputs": [
        {
          "output_type": "execute_result",
          "data": {
            "text/html": [
              "<div>\n",
              "<style scoped>\n",
              "    .dataframe tbody tr th:only-of-type {\n",
              "        vertical-align: middle;\n",
              "    }\n",
              "\n",
              "    .dataframe tbody tr th {\n",
              "        vertical-align: top;\n",
              "    }\n",
              "\n",
              "    .dataframe thead th {\n",
              "        text-align: right;\n",
              "    }\n",
              "</style>\n",
              "<table border=\"1\" class=\"dataframe\">\n",
              "  <thead>\n",
              "    <tr style=\"text-align: right;\">\n",
              "      <th></th>\n",
              "      <th>case</th>\n",
              "      <th>cc3</th>\n",
              "      <th>country</th>\n",
              "      <th>year</th>\n",
              "      <th>systemic_crisis</th>\n",
              "      <th>exch_usd</th>\n",
              "      <th>domestic_debt_in_default</th>\n",
              "      <th>sovereign_external_debt_default</th>\n",
              "      <th>gdp_weighted_default</th>\n",
              "      <th>inflation_annual_cpi</th>\n",
              "      <th>independence</th>\n",
              "      <th>currency_crises</th>\n",
              "      <th>inflation_crises</th>\n",
              "      <th>banking_crisis</th>\n",
              "    </tr>\n",
              "  </thead>\n",
              "  <tbody>\n",
              "    <tr>\n",
              "      <td>475</td>\n",
              "      <td>35</td>\n",
              "      <td>KEN</td>\n",
              "      <td>Kenya</td>\n",
              "      <td>1985</td>\n",
              "      <td>1</td>\n",
              "      <td>16.2843</td>\n",
              "      <td>0</td>\n",
              "      <td>0</td>\n",
              "      <td>0.0</td>\n",
              "      <td>11.398</td>\n",
              "      <td>1</td>\n",
              "      <td>0</td>\n",
              "      <td>0</td>\n",
              "      <td>crisis</td>\n",
              "    </tr>\n",
              "    <tr>\n",
              "      <td>476</td>\n",
              "      <td>35</td>\n",
              "      <td>KEN</td>\n",
              "      <td>Kenya</td>\n",
              "      <td>1986</td>\n",
              "      <td>1</td>\n",
              "      <td>16.0422</td>\n",
              "      <td>0</td>\n",
              "      <td>0</td>\n",
              "      <td>0.0</td>\n",
              "      <td>10.284</td>\n",
              "      <td>1</td>\n",
              "      <td>0</td>\n",
              "      <td>0</td>\n",
              "      <td>crisis</td>\n",
              "    </tr>\n",
              "    <tr>\n",
              "      <td>477</td>\n",
              "      <td>35</td>\n",
              "      <td>KEN</td>\n",
              "      <td>Kenya</td>\n",
              "      <td>1987</td>\n",
              "      <td>1</td>\n",
              "      <td>16.5149</td>\n",
              "      <td>0</td>\n",
              "      <td>0</td>\n",
              "      <td>0.0</td>\n",
              "      <td>13.007</td>\n",
              "      <td>1</td>\n",
              "      <td>0</td>\n",
              "      <td>0</td>\n",
              "      <td>crisis</td>\n",
              "    </tr>\n",
              "    <tr>\n",
              "      <td>478</td>\n",
              "      <td>35</td>\n",
              "      <td>KEN</td>\n",
              "      <td>Kenya</td>\n",
              "      <td>1988</td>\n",
              "      <td>1</td>\n",
              "      <td>18.5994</td>\n",
              "      <td>0</td>\n",
              "      <td>0</td>\n",
              "      <td>0.0</td>\n",
              "      <td>4.804</td>\n",
              "      <td>1</td>\n",
              "      <td>0</td>\n",
              "      <td>0</td>\n",
              "      <td>crisis</td>\n",
              "    </tr>\n",
              "    <tr>\n",
              "      <td>479</td>\n",
              "      <td>35</td>\n",
              "      <td>KEN</td>\n",
              "      <td>Kenya</td>\n",
              "      <td>1989</td>\n",
              "      <td>1</td>\n",
              "      <td>21.6010</td>\n",
              "      <td>0</td>\n",
              "      <td>0</td>\n",
              "      <td>0.0</td>\n",
              "      <td>7.617</td>\n",
              "      <td>1</td>\n",
              "      <td>1</td>\n",
              "      <td>0</td>\n",
              "      <td>no_crisis</td>\n",
              "    </tr>\n",
              "    <tr>\n",
              "      <td>482</td>\n",
              "      <td>35</td>\n",
              "      <td>KEN</td>\n",
              "      <td>Kenya</td>\n",
              "      <td>1992</td>\n",
              "      <td>1</td>\n",
              "      <td>36.2163</td>\n",
              "      <td>0</td>\n",
              "      <td>0</td>\n",
              "      <td>0.0</td>\n",
              "      <td>27.332</td>\n",
              "      <td>1</td>\n",
              "      <td>1</td>\n",
              "      <td>1</td>\n",
              "      <td>crisis</td>\n",
              "    </tr>\n",
              "    <tr>\n",
              "      <td>483</td>\n",
              "      <td>35</td>\n",
              "      <td>KEN</td>\n",
              "      <td>Kenya</td>\n",
              "      <td>1993</td>\n",
              "      <td>1</td>\n",
              "      <td>68.1631</td>\n",
              "      <td>0</td>\n",
              "      <td>0</td>\n",
              "      <td>0.0</td>\n",
              "      <td>45.979</td>\n",
              "      <td>1</td>\n",
              "      <td>1</td>\n",
              "      <td>1</td>\n",
              "      <td>crisis</td>\n",
              "    </tr>\n",
              "    <tr>\n",
              "      <td>484</td>\n",
              "      <td>35</td>\n",
              "      <td>KEN</td>\n",
              "      <td>Kenya</td>\n",
              "      <td>1994</td>\n",
              "      <td>1</td>\n",
              "      <td>44.8389</td>\n",
              "      <td>0</td>\n",
              "      <td>1</td>\n",
              "      <td>0.0</td>\n",
              "      <td>28.814</td>\n",
              "      <td>1</td>\n",
              "      <td>0</td>\n",
              "      <td>1</td>\n",
              "      <td>crisis</td>\n",
              "    </tr>\n",
              "    <tr>\n",
              "      <td>485</td>\n",
              "      <td>35</td>\n",
              "      <td>KEN</td>\n",
              "      <td>Kenya</td>\n",
              "      <td>1995</td>\n",
              "      <td>1</td>\n",
              "      <td>55.9389</td>\n",
              "      <td>0</td>\n",
              "      <td>1</td>\n",
              "      <td>0.0</td>\n",
              "      <td>1.554</td>\n",
              "      <td>1</td>\n",
              "      <td>0</td>\n",
              "      <td>0</td>\n",
              "      <td>crisis</td>\n",
              "    </tr>\n",
              "    <tr>\n",
              "      <td>486</td>\n",
              "      <td>35</td>\n",
              "      <td>KEN</td>\n",
              "      <td>Kenya</td>\n",
              "      <td>1996</td>\n",
              "      <td>1</td>\n",
              "      <td>55.0211</td>\n",
              "      <td>0</td>\n",
              "      <td>1</td>\n",
              "      <td>0.0</td>\n",
              "      <td>8.862</td>\n",
              "      <td>1</td>\n",
              "      <td>0</td>\n",
              "      <td>0</td>\n",
              "      <td>no_crisis</td>\n",
              "    </tr>\n",
              "    <tr>\n",
              "      <td>487</td>\n",
              "      <td>35</td>\n",
              "      <td>KEN</td>\n",
              "      <td>Kenya</td>\n",
              "      <td>1997</td>\n",
              "      <td>1</td>\n",
              "      <td>62.6778</td>\n",
              "      <td>0</td>\n",
              "      <td>1</td>\n",
              "      <td>0.0</td>\n",
              "      <td>11.924</td>\n",
              "      <td>1</td>\n",
              "      <td>0</td>\n",
              "      <td>0</td>\n",
              "      <td>no_crisis</td>\n",
              "    </tr>\n",
              "    <tr>\n",
              "      <td>488</td>\n",
              "      <td>35</td>\n",
              "      <td>KEN</td>\n",
              "      <td>Kenya</td>\n",
              "      <td>1998</td>\n",
              "      <td>1</td>\n",
              "      <td>61.9056</td>\n",
              "      <td>0</td>\n",
              "      <td>1</td>\n",
              "      <td>0.0</td>\n",
              "      <td>6.716</td>\n",
              "      <td>1</td>\n",
              "      <td>0</td>\n",
              "      <td>0</td>\n",
              "      <td>no_crisis</td>\n",
              "    </tr>\n",
              "    <tr>\n",
              "      <td>489</td>\n",
              "      <td>35</td>\n",
              "      <td>KEN</td>\n",
              "      <td>Kenya</td>\n",
              "      <td>1999</td>\n",
              "      <td>1</td>\n",
              "      <td>72.9306</td>\n",
              "      <td>0</td>\n",
              "      <td>0</td>\n",
              "      <td>0.0</td>\n",
              "      <td>5.753</td>\n",
              "      <td>1</td>\n",
              "      <td>1</td>\n",
              "      <td>0</td>\n",
              "      <td>no_crisis</td>\n",
              "    </tr>\n",
              "  </tbody>\n",
              "</table>\n",
              "</div>"
            ],
            "text/plain": [
              "     case  cc3 country  year  systemic_crisis  exch_usd  \\\n",
              "475    35  KEN   Kenya  1985                1   16.2843   \n",
              "476    35  KEN   Kenya  1986                1   16.0422   \n",
              "477    35  KEN   Kenya  1987                1   16.5149   \n",
              "478    35  KEN   Kenya  1988                1   18.5994   \n",
              "479    35  KEN   Kenya  1989                1   21.6010   \n",
              "482    35  KEN   Kenya  1992                1   36.2163   \n",
              "483    35  KEN   Kenya  1993                1   68.1631   \n",
              "484    35  KEN   Kenya  1994                1   44.8389   \n",
              "485    35  KEN   Kenya  1995                1   55.9389   \n",
              "486    35  KEN   Kenya  1996                1   55.0211   \n",
              "487    35  KEN   Kenya  1997                1   62.6778   \n",
              "488    35  KEN   Kenya  1998                1   61.9056   \n",
              "489    35  KEN   Kenya  1999                1   72.9306   \n",
              "\n",
              "     domestic_debt_in_default  sovereign_external_debt_default  \\\n",
              "475                         0                                0   \n",
              "476                         0                                0   \n",
              "477                         0                                0   \n",
              "478                         0                                0   \n",
              "479                         0                                0   \n",
              "482                         0                                0   \n",
              "483                         0                                0   \n",
              "484                         0                                1   \n",
              "485                         0                                1   \n",
              "486                         0                                1   \n",
              "487                         0                                1   \n",
              "488                         0                                1   \n",
              "489                         0                                0   \n",
              "\n",
              "     gdp_weighted_default  inflation_annual_cpi  independence  \\\n",
              "475                   0.0                11.398             1   \n",
              "476                   0.0                10.284             1   \n",
              "477                   0.0                13.007             1   \n",
              "478                   0.0                 4.804             1   \n",
              "479                   0.0                 7.617             1   \n",
              "482                   0.0                27.332             1   \n",
              "483                   0.0                45.979             1   \n",
              "484                   0.0                28.814             1   \n",
              "485                   0.0                 1.554             1   \n",
              "486                   0.0                 8.862             1   \n",
              "487                   0.0                11.924             1   \n",
              "488                   0.0                 6.716             1   \n",
              "489                   0.0                 5.753             1   \n",
              "\n",
              "     currency_crises  inflation_crises banking_crisis  \n",
              "475                0                 0         crisis  \n",
              "476                0                 0         crisis  \n",
              "477                0                 0         crisis  \n",
              "478                0                 0         crisis  \n",
              "479                1                 0      no_crisis  \n",
              "482                1                 1         crisis  \n",
              "483                1                 1         crisis  \n",
              "484                0                 1         crisis  \n",
              "485                0                 0         crisis  \n",
              "486                0                 0      no_crisis  \n",
              "487                0                 0      no_crisis  \n",
              "488                0                 0      no_crisis  \n",
              "489                1                 0      no_crisis  "
            ]
          },
          "metadata": {
            "tags": []
          },
          "execution_count": 28
        }
      ]
    },
    {
      "cell_type": "markdown",
      "metadata": {
        "id": "bTKQjQMJbF1S",
        "colab_type": "text"
      },
      "source": [
        "**TASK: How many yearly systemic crisises have occurred per country?**"
      ]
    },
    {
      "cell_type": "code",
      "metadata": {
        "id": "0CqOY25qbF1S",
        "colab_type": "code",
        "colab": {
          "base_uri": "https://localhost:8080/",
          "height": 272
        },
        "outputId": "90edf5f9-1dbc-42a5-eb09-e2fbbfa1d1f9"
      },
      "source": [
        "df.groupby('country')['systemic_crisis'].sum()\n",
        "# df['systemic_crisis'].sum()"
      ],
      "execution_count": 26,
      "outputs": [
        {
          "output_type": "execute_result",
          "data": {
            "text/plain": [
              "country\n",
              "Algeria                      4\n",
              "Angola                       0\n",
              "Central African Republic    19\n",
              "Egypt                        6\n",
              "Ivory Coast                  4\n",
              "Kenya                       13\n",
              "Mauritius                    0\n",
              "Morocco                      2\n",
              "Nigeria                     10\n",
              "South Africa                 0\n",
              "Tunisia                      5\n",
              "Zambia                       4\n",
              "Zimbabwe                    15\n",
              "Name: systemic_crisis, dtype: int64"
            ]
          },
          "metadata": {
            "tags": []
          },
          "execution_count": 26
        }
      ]
    },
    {
      "cell_type": "code",
      "metadata": {
        "id": "9W9Exm9xbF1V",
        "colab_type": "code",
        "colab": {},
        "outputId": "8f29e9e3-b732-42ec-f364-ccebeed51846"
      },
      "source": [
        ""
      ],
      "execution_count": 0,
      "outputs": [
        {
          "output_type": "execute_result",
          "data": {
            "text/plain": [
              "country\n",
              "Algeria                      4\n",
              "Central African Republic    19\n",
              "Egypt                        6\n",
              "Ivory Coast                  4\n",
              "Kenya                       13\n",
              "Morocco                      2\n",
              "Nigeria                     10\n",
              "Tunisia                      5\n",
              "Zambia                       4\n",
              "Zimbabwe                    15\n",
              "Name: systemic_crisis, dtype: int64"
            ]
          },
          "metadata": {
            "tags": []
          },
          "execution_count": 15
        }
      ]
    },
    {
      "cell_type": "markdown",
      "metadata": {
        "id": "VgkL1mBSbF1X",
        "colab_type": "text"
      },
      "source": [
        "**TASK: How many years did  Zimbabwe have a sovereign external debt default occur?** "
      ]
    },
    {
      "cell_type": "code",
      "metadata": {
        "id": "vjf_5OBFbF1Y",
        "colab_type": "code",
        "colab": {
          "base_uri": "https://localhost:8080/",
          "height": 34
        },
        "outputId": "a5449114-f8c1-458f-c09e-4d906b45d0ac"
      },
      "source": [
        "df[df['country'] == 'Zimbabwe']['sovereign_external_debt_default'].sum()"
      ],
      "execution_count": 30,
      "outputs": [
        {
          "output_type": "execute_result",
          "data": {
            "text/plain": [
              "30"
            ]
          },
          "metadata": {
            "tags": []
          },
          "execution_count": 30
        }
      ]
    },
    {
      "cell_type": "code",
      "metadata": {
        "id": "swsnZGHVbF1a",
        "colab_type": "code",
        "colab": {},
        "outputId": "ce12bca2-ff7b-444f-81e7-b34a0221d809"
      },
      "source": [
        ""
      ],
      "execution_count": 0,
      "outputs": [
        {
          "output_type": "execute_result",
          "data": {
            "text/plain": [
              "30"
            ]
          },
          "metadata": {
            "tags": []
          },
          "execution_count": 32
        }
      ]
    },
    {
      "cell_type": "markdown",
      "metadata": {
        "id": "QrOP-cnebF1d",
        "colab_type": "text"
      },
      "source": [
        "**TASK: In what year did Algeria have its highest exchange rate?**"
      ]
    },
    {
      "cell_type": "code",
      "metadata": {
        "scrolled": true,
        "id": "lrIJ3eWcbF1e",
        "colab_type": "code",
        "colab": {
          "base_uri": "https://localhost:8080/",
          "height": 51
        },
        "outputId": "2d8f9007-eccb-41f0-8f41-17508f5e77e8"
      },
      "source": [
        "cond = (df['country'] == 'Algeria')\n",
        "# df[cond].\n",
        "df[cond].sort_values('exch_usd', ascending=False).head(1)['year']"
      ],
      "execution_count": 44,
      "outputs": [
        {
          "output_type": "execute_result",
          "data": {
            "text/plain": [
              "84    2014\n",
              "Name: year, dtype: int64"
            ]
          },
          "metadata": {
            "tags": []
          },
          "execution_count": 44
        }
      ]
    },
    {
      "cell_type": "code",
      "metadata": {
        "id": "-OCeQOADbF1g",
        "colab_type": "code",
        "colab": {},
        "outputId": "c0326b34-9330-413b-b371-c07927dc57e0"
      },
      "source": [
        ""
      ],
      "execution_count": 0,
      "outputs": [
        {
          "output_type": "execute_result",
          "data": {
            "text/html": [
              "<div>\n",
              "<style scoped>\n",
              "    .dataframe tbody tr th:only-of-type {\n",
              "        vertical-align: middle;\n",
              "    }\n",
              "\n",
              "    .dataframe tbody tr th {\n",
              "        vertical-align: top;\n",
              "    }\n",
              "\n",
              "    .dataframe thead th {\n",
              "        text-align: right;\n",
              "    }\n",
              "</style>\n",
              "<table border=\"1\" class=\"dataframe\">\n",
              "  <thead>\n",
              "    <tr style=\"text-align: right;\">\n",
              "      <th></th>\n",
              "      <th>case</th>\n",
              "      <th>cc3</th>\n",
              "      <th>country</th>\n",
              "      <th>year</th>\n",
              "      <th>systemic_crisis</th>\n",
              "      <th>exch_usd</th>\n",
              "      <th>domestic_debt_in_default</th>\n",
              "      <th>sovereign_external_debt_default</th>\n",
              "      <th>gdp_weighted_default</th>\n",
              "      <th>inflation_annual_cpi</th>\n",
              "      <th>independence</th>\n",
              "      <th>currency_crises</th>\n",
              "      <th>inflation_crises</th>\n",
              "      <th>banking_crisis</th>\n",
              "    </tr>\n",
              "  </thead>\n",
              "  <tbody>\n",
              "    <tr>\n",
              "      <td>84</td>\n",
              "      <td>1</td>\n",
              "      <td>DZA</td>\n",
              "      <td>Algeria</td>\n",
              "      <td>2014</td>\n",
              "      <td>0</td>\n",
              "      <td>87.970698</td>\n",
              "      <td>0</td>\n",
              "      <td>0</td>\n",
              "      <td>0.0</td>\n",
              "      <td>2.917</td>\n",
              "      <td>1</td>\n",
              "      <td>0</td>\n",
              "      <td>0</td>\n",
              "      <td>no_crisis</td>\n",
              "    </tr>\n",
              "  </tbody>\n",
              "</table>\n",
              "</div>"
            ],
            "text/plain": [
              "    case  cc3  country  year  systemic_crisis   exch_usd  \\\n",
              "84     1  DZA  Algeria  2014                0  87.970698   \n",
              "\n",
              "    domestic_debt_in_default  sovereign_external_debt_default  \\\n",
              "84                         0                                0   \n",
              "\n",
              "    gdp_weighted_default  inflation_annual_cpi  independence  currency_crises  \\\n",
              "84                   0.0                 2.917             1                0   \n",
              "\n",
              "    inflation_crises banking_crisis  \n",
              "84                 0      no_crisis  "
            ]
          },
          "metadata": {
            "tags": []
          },
          "execution_count": 42
        }
      ]
    }
  ]
}