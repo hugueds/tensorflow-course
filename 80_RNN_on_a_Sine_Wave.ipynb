{
  "nbformat": 4,
  "nbformat_minor": 0,
  "metadata": {
    "colab": {
      "name": "80_RNN_on_a_Sine_Wave.ipynb",
      "provenance": [],
      "collapsed_sections": [],
      "authorship_tag": "ABX9TyNbjPkaVBB2ten4OvKheYeX",
      "include_colab_link": true
    },
    "kernelspec": {
      "name": "python3",
      "display_name": "Python 3"
    }
  },
  "cells": [
    {
      "cell_type": "markdown",
      "metadata": {
        "id": "view-in-github",
        "colab_type": "text"
      },
      "source": [
        "<a href=\"https://colab.research.google.com/github/hugueds/tensorflow-course/blob/master/80_RNN_on_a_Sine_Wave.ipynb\" target=\"_parent\"><img src=\"https://colab.research.google.com/assets/colab-badge.svg\" alt=\"Open In Colab\"/></a>"
      ]
    },
    {
      "cell_type": "markdown",
      "metadata": {
        "id": "bjunG2_FC0jw",
        "colab_type": "text"
      },
      "source": [
        "## RNN on a Sine Wave"
      ]
    },
    {
      "cell_type": "code",
      "metadata": {
        "id": "YaYCdMViiVcx",
        "colab_type": "code",
        "colab": {}
      },
      "source": [
        "import pandas as pd\n",
        "import numpy as np\n",
        "import matplotlib.pyplot as plt"
      ],
      "execution_count": 0,
      "outputs": []
    },
    {
      "cell_type": "code",
      "metadata": {
        "id": "e91RQ8VYibSV",
        "colab_type": "code",
        "outputId": "888ca1c0-0596-48a6-d6a8-c6aa9f37ba9c",
        "colab": {
          "base_uri": "https://localhost:8080/",
          "height": 34
        }
      },
      "source": [
        "x = np.linspace(0,50, 501)\n",
        "x[:10]"
      ],
      "execution_count": 39,
      "outputs": [
        {
          "output_type": "execute_result",
          "data": {
            "text/plain": [
              "array([0. , 0.1, 0.2, 0.3, 0.4, 0.5, 0.6, 0.7, 0.8, 0.9])"
            ]
          },
          "metadata": {
            "tags": []
          },
          "execution_count": 39
        }
      ]
    },
    {
      "cell_type": "code",
      "metadata": {
        "id": "8fOlAvDwivAu",
        "colab_type": "code",
        "outputId": "ba5087fa-55ad-4b29-cd4e-489ccf3a7fdc",
        "colab": {
          "base_uri": "https://localhost:8080/",
          "height": 51
        }
      },
      "source": [
        "y = np.sin(x)\n",
        "y[:10]"
      ],
      "execution_count": 40,
      "outputs": [
        {
          "output_type": "execute_result",
          "data": {
            "text/plain": [
              "array([0.        , 0.09983342, 0.19866933, 0.29552021, 0.38941834,\n",
              "       0.47942554, 0.56464247, 0.64421769, 0.71735609, 0.78332691])"
            ]
          },
          "metadata": {
            "tags": []
          },
          "execution_count": 40
        }
      ]
    },
    {
      "cell_type": "code",
      "metadata": {
        "id": "qJ4RVO5Vi1Ed",
        "colab_type": "code",
        "outputId": "c1460a2f-7942-4326-a784-ddea272abaf9",
        "colab": {
          "base_uri": "https://localhost:8080/",
          "height": 282
        }
      },
      "source": [
        "plt.plot(x,y)"
      ],
      "execution_count": 41,
      "outputs": [
        {
          "output_type": "execute_result",
          "data": {
            "text/plain": [
              "[<matplotlib.lines.Line2D at 0x7f2943b2c668>]"
            ]
          },
          "metadata": {
            "tags": []
          },
          "execution_count": 41
        },
        {
          "output_type": "display_data",
          "data": {
            "image/png": "[encoded data removed]",
            "text/plain": [
              "<Figure size 432x288 with 1 Axes>"
            ]
          },
          "metadata": {
            "tags": []
          }
        }
      ]
    },
    {
      "cell_type": "code",
      "metadata": {
        "id": "-3anebYbi4ve",
        "colab_type": "code",
        "colab": {}
      },
      "source": [
        "df = pd.DataFrame(data=y, index=x, columns=['Sine'])"
      ],
      "execution_count": 0,
      "outputs": []
    },
    {
      "cell_type": "code",
      "metadata": {
        "id": "CilzDggMi_lm",
        "colab_type": "code",
        "outputId": "9b9c33e3-66b1-453e-98ed-0a5ed8b51cfd",
        "colab": {
          "base_uri": "https://localhost:8080/",
          "height": 204
        }
      },
      "source": [
        "df.head()"
      ],
      "execution_count": 43,
      "outputs": [
        {
          "output_type": "execute_result",
          "data": {
            "text/html": [
              "<div>\n",
              "<style scoped>\n",
              "    .dataframe tbody tr th:only-of-type {\n",
              "        vertical-align: middle;\n",
              "    }\n",
              "\n",
              "    .dataframe tbody tr th {\n",
              "        vertical-align: top;\n",
              "    }\n",
              "\n",
              "    .dataframe thead th {\n",
              "        text-align: right;\n",
              "    }\n",
              "</style>\n",
              "<table border=\"1\" class=\"dataframe\">\n",
              "  <thead>\n",
              "    <tr style=\"text-align: right;\">\n",
              "      <th></th>\n",
              "      <th>Sine</th>\n",
              "    </tr>\n",
              "  </thead>\n",
              "  <tbody>\n",
              "    <tr>\n",
              "      <th>0.0</th>\n",
              "      <td>0.000000</td>\n",
              "    </tr>\n",
              "    <tr>\n",
              "      <th>0.1</th>\n",
              "      <td>0.099833</td>\n",
              "    </tr>\n",
              "    <tr>\n",
              "      <th>0.2</th>\n",
              "      <td>0.198669</td>\n",
              "    </tr>\n",
              "    <tr>\n",
              "      <th>0.3</th>\n",
              "      <td>0.295520</td>\n",
              "    </tr>\n",
              "    <tr>\n",
              "      <th>0.4</th>\n",
              "      <td>0.389418</td>\n",
              "    </tr>\n",
              "  </tbody>\n",
              "</table>\n",
              "</div>"
            ],
            "text/plain": [
              "         Sine\n",
              "0.0  0.000000\n",
              "0.1  0.099833\n",
              "0.2  0.198669\n",
              "0.3  0.295520\n",
              "0.4  0.389418"
            ]
          },
          "metadata": {
            "tags": []
          },
          "execution_count": 43
        }
      ]
    },
    {
      "cell_type": "code",
      "metadata": {
        "id": "1pXCRIpcplVZ",
        "colab_type": "code",
        "colab": {
          "base_uri": "https://localhost:8080/",
          "height": 34
        },
        "outputId": "3bbf47a3-2b62-4429-a5cc-1c1bba4643c5"
      },
      "source": [
        "len(df)"
      ],
      "execution_count": 44,
      "outputs": [
        {
          "output_type": "execute_result",
          "data": {
            "text/plain": [
              "501"
            ]
          },
          "metadata": {
            "tags": []
          },
          "execution_count": 44
        }
      ]
    },
    {
      "cell_type": "code",
      "metadata": {
        "id": "ssSfTzpZjArd",
        "colab_type": "code",
        "colab": {
          "base_uri": "https://localhost:8080/",
          "height": 34
        },
        "outputId": "84ba4b4a-ddbe-4a54-c278-8144bd18a4f8"
      },
      "source": [
        "test_percent = 0.1\n",
        "test_point = np.round(len(df) * test_percent)\n",
        "print(test_point)"
      ],
      "execution_count": 45,
      "outputs": [
        {
          "output_type": "stream",
          "text": [
            "50.0\n"
          ],
          "name": "stdout"
        }
      ]
    },
    {
      "cell_type": "code",
      "metadata": {
        "id": "u8HyfFEUjSpF",
        "colab_type": "code",
        "colab": {}
      },
      "source": [
        "test_index = int(len(df) - test_point)"
      ],
      "execution_count": 0,
      "outputs": []
    },
    {
      "cell_type": "code",
      "metadata": {
        "id": "zJZX9c16jUBd",
        "colab_type": "code",
        "outputId": "92d8a8f9-90eb-4306-a1d4-2d1012477bbc",
        "colab": {
          "base_uri": "https://localhost:8080/",
          "height": 34
        }
      },
      "source": [
        "test_index"
      ],
      "execution_count": 47,
      "outputs": [
        {
          "output_type": "execute_result",
          "data": {
            "text/plain": [
              "451"
            ]
          },
          "metadata": {
            "tags": []
          },
          "execution_count": 47
        }
      ]
    },
    {
      "cell_type": "code",
      "metadata": {
        "id": "fDDfO4oXjabt",
        "colab_type": "code",
        "colab": {}
      },
      "source": [
        "train = df.iloc[:test_index]\n",
        "test = df.iloc[test_index:]"
      ],
      "execution_count": 0,
      "outputs": []
    },
    {
      "cell_type": "code",
      "metadata": {
        "id": "0Yn0p8wljhEe",
        "colab_type": "code",
        "colab": {}
      },
      "source": [
        "from sklearn.preprocessing import MinMaxScaler"
      ],
      "execution_count": 0,
      "outputs": []
    },
    {
      "cell_type": "code",
      "metadata": {
        "id": "vp9RIBy0jh9-",
        "colab_type": "code",
        "colab": {}
      },
      "source": [
        "sc = MinMaxScaler()"
      ],
      "execution_count": 0,
      "outputs": []
    },
    {
      "cell_type": "code",
      "metadata": {
        "id": "YKwahsUlj7U9",
        "colab_type": "code",
        "outputId": "3444c06b-fbfc-414c-e57f-117e0178d84a",
        "colab": {
          "base_uri": "https://localhost:8080/",
          "height": 34
        }
      },
      "source": [
        "sc.fit(train)"
      ],
      "execution_count": 51,
      "outputs": [
        {
          "output_type": "execute_result",
          "data": {
            "text/plain": [
              "MinMaxScaler(copy=True, feature_range=(0, 1))"
            ]
          },
          "metadata": {
            "tags": []
          },
          "execution_count": 51
        }
      ]
    },
    {
      "cell_type": "code",
      "metadata": {
        "id": "lfMQ9EEuj9EW",
        "colab_type": "code",
        "colab": {}
      },
      "source": [
        "scaled_train = sc.transform(train)\n",
        "scaled_test = sc.transform(test)"
      ],
      "execution_count": 0,
      "outputs": []
    },
    {
      "cell_type": "code",
      "metadata": {
        "id": "lkLzLc3DkDZ9",
        "colab_type": "code",
        "colab": {}
      },
      "source": [
        "from tensorflow.keras.preprocessing.sequence import TimeseriesGenerator"
      ],
      "execution_count": 0,
      "outputs": []
    },
    {
      "cell_type": "code",
      "metadata": {
        "id": "AP8HCv66kPB-",
        "colab_type": "code",
        "colab": {}
      },
      "source": [
        "length = 49\n",
        "batch_size = 1\n",
        "gen = TimeseriesGenerator(scaled_train, scaled_train, length=length, batch_size=batch_size)\n",
        "val_gen = TimeseriesGenerator(scaled_test, scaled_test, length=length, batch_size=batch_size)"
      ],
      "execution_count": 0,
      "outputs": []
    },
    {
      "cell_type": "code",
      "metadata": {
        "id": "WUMsd1egrK8n",
        "colab_type": "code",
        "colab": {}
      },
      "source": [
        "X, y = gen[0]"
      ],
      "execution_count": 0,
      "outputs": []
    },
    {
      "cell_type": "code",
      "metadata": {
        "id": "qAQg5NlsrdQm",
        "colab_type": "code",
        "colab": {}
      },
      "source": [
        "X[:10]"
      ],
      "execution_count": 0,
      "outputs": []
    },
    {
      "cell_type": "code",
      "metadata": {
        "id": "SPLDZs5crgHe",
        "colab_type": "code",
        "outputId": "e1346c82-0507-42bb-9d61-a3b88b5d3dad",
        "colab": {
          "base_uri": "https://localhost:8080/",
          "height": 34
        }
      },
      "source": [
        "y"
      ],
      "execution_count": 57,
      "outputs": [
        {
          "output_type": "execute_result",
          "data": {
            "text/plain": [
              "array([[0.02053313]])"
            ]
          },
          "metadata": {
            "tags": []
          },
          "execution_count": 57
        }
      ]
    },
    {
      "cell_type": "code",
      "metadata": {
        "id": "5uviZkDIrhHG",
        "colab_type": "code",
        "outputId": "a076c0ce-2f9a-4eb3-92cd-97467ea838ed",
        "colab": {
          "base_uri": "https://localhost:8080/",
          "height": 187
        }
      },
      "source": [
        "scaled_train[:10]"
      ],
      "execution_count": 58,
      "outputs": [
        {
          "output_type": "execute_result",
          "data": {
            "text/plain": [
              "array([[0.49999912],\n",
              "       [0.54991622],\n",
              "       [0.59933458],\n",
              "       [0.64776041],\n",
              "       [0.69470985],\n",
              "       [0.73971381],\n",
              "       [0.78232262],\n",
              "       [0.82211054],\n",
              "       [0.85868004],\n",
              "       [0.89166571]])"
            ]
          },
          "metadata": {
            "tags": []
          },
          "execution_count": 58
        }
      ]
    },
    {
      "cell_type": "code",
      "metadata": {
        "id": "OSlVaBnIrlP3",
        "colab_type": "code",
        "colab": {}
      },
      "source": [
        "from tensorflow.keras.models import Sequential\n",
        "from tensorflow.keras.layers import Dense, SimpleRNN, LSTM\n",
        "from tensorflow.keras.callbacks import EarlyStopping"
      ],
      "execution_count": 0,
      "outputs": []
    },
    {
      "cell_type": "code",
      "metadata": {
        "id": "QgCK6zEY01E5",
        "colab_type": "code",
        "colab": {}
      },
      "source": [
        "es = EarlyStopping(monitor='val_loss', patience=2)"
      ],
      "execution_count": 0,
      "outputs": []
    },
    {
      "cell_type": "code",
      "metadata": {
        "id": "XOhqgFESEzj9",
        "colab_type": "code",
        "colab": {}
      },
      "source": [
        "model = Sequential()"
      ],
      "execution_count": 0,
      "outputs": []
    },
    {
      "cell_type": "code",
      "metadata": {
        "id": "RZZYiOk4E3aE",
        "colab_type": "code",
        "colab": {}
      },
      "source": [
        "n_features = 1\n",
        "model.add(LSTM(50, input_shape=(length, n_features)))\n",
        "model.add(Dense(1))\n",
        "\n",
        "model.compile(optimizer='adam', loss='mse')"
      ],
      "execution_count": 0,
      "outputs": []
    },
    {
      "cell_type": "code",
      "metadata": {
        "id": "sk7dcWJgFBNE",
        "colab_type": "code",
        "outputId": "3d2fd754-972c-40dc-e877-a2b51d1863cb",
        "colab": {
          "base_uri": "https://localhost:8080/",
          "height": 221
        }
      },
      "source": [
        "model.summary()"
      ],
      "execution_count": 97,
      "outputs": [
        {
          "output_type": "stream",
          "text": [
            "Model: \"sequential_4\"\n",
            "_________________________________________________________________\n",
            "Layer (type)                 Output Shape              Param #   \n",
            "=================================================================\n",
            "lstm_1 (LSTM)                (None, 50)                10400     \n",
            "_________________________________________________________________\n",
            "dense_4 (Dense)              (None, 1)                 51        \n",
            "=================================================================\n",
            "Total params: 10,451\n",
            "Trainable params: 10,451\n",
            "Non-trainable params: 0\n",
            "_________________________________________________________________\n"
          ],
          "name": "stdout"
        }
      ]
    },
    {
      "cell_type": "code",
      "metadata": {
        "id": "4y66sHaGFlEO",
        "colab_type": "code",
        "outputId": "274fc4e4-a6c0-4632-c815-1dfd6877d59c",
        "colab": {
          "base_uri": "https://localhost:8080/",
          "height": 340
        }
      },
      "source": [
        "model.fit_generator(gen, epochs=6, validation_data=val_gen, callbacks=[es])"
      ],
      "execution_count": 98,
      "outputs": [
        {
          "output_type": "stream",
          "text": [
            "Epoch 1/6\n",
            "400/402 [============================>.] - ETA: 0s - loss: 0.0173Epoch 1/6\n",
            "402/402 [==============================] - 18s 44ms/step - loss: 0.0172 - val_loss: 7.5191e-05\n",
            "Epoch 2/6\n",
            "401/402 [============================>.] - ETA: 0s - loss: 9.1981e-05Epoch 1/6\n",
            "402/402 [==============================] - 16s 39ms/step - loss: 9.1760e-05 - val_loss: 5.3368e-05\n",
            "Epoch 3/6\n",
            "401/402 [============================>.] - ETA: 0s - loss: 3.7275e-04Epoch 1/6\n",
            "402/402 [==============================] - 16s 39ms/step - loss: 3.7214e-04 - val_loss: 3.5174e-04\n",
            "Epoch 4/6\n",
            "401/402 [============================>.] - ETA: 0s - loss: 7.4945e-05Epoch 1/6\n",
            "402/402 [==============================] - 16s 39ms/step - loss: 7.4761e-05 - val_loss: 2.8041e-05\n",
            "Epoch 5/6\n",
            "401/402 [============================>.] - ETA: 0s - loss: 1.6457e-04Epoch 1/6\n",
            "402/402 [==============================] - 16s 39ms/step - loss: 1.6422e-04 - val_loss: 4.6039e-05\n",
            "Epoch 6/6\n",
            "400/402 [============================>.] - ETA: 0s - loss: 1.7990e-04Epoch 1/6\n",
            "402/402 [==============================] - 16s 39ms/step - loss: 1.7908e-04 - val_loss: 4.8081e-06\n"
          ],
          "name": "stdout"
        },
        {
          "output_type": "execute_result",
          "data": {
            "text/plain": [
              "<tensorflow.python.keras.callbacks.History at 0x7f2943303550>"
            ]
          },
          "metadata": {
            "tags": []
          },
          "execution_count": 98
        }
      ]
    },
    {
      "cell_type": "code",
      "metadata": {
        "id": "9y0IfVAlFqcb",
        "colab_type": "code",
        "colab": {}
      },
      "source": [
        "losses = pd.DataFrame(model.history.history)"
      ],
      "execution_count": 0,
      "outputs": []
    },
    {
      "cell_type": "code",
      "metadata": {
        "id": "hVhFfJziFzbj",
        "colab_type": "code",
        "outputId": "3a4e5474-d30a-4501-d44d-9163a631a283",
        "colab": {
          "base_uri": "https://localhost:8080/",
          "height": 282
        }
      },
      "source": [
        "losses.plot()"
      ],
      "execution_count": 100,
      "outputs": [
        {
          "output_type": "execute_result",
          "data": {
            "text/plain": [
              "<matplotlib.axes._subplots.AxesSubplot at 0x7f292ef392e8>"
            ]
          },
          "metadata": {
            "tags": []
          },
          "execution_count": 100
        },
        {
          "output_type": "display_data",
          "data": {
            "image/png": "[encoded data removed]",
            "text/plain": [
              "<Figure size 432x288 with 1 Axes>"
            ]
          },
          "metadata": {
            "tags": []
          }
        }
      ]
    },
    {
      "cell_type": "code",
      "metadata": {
        "id": "oV_k_QfZojza",
        "colab_type": "code",
        "colab": {}
      },
      "source": [
        "test_pred = []\n",
        "\n",
        "first_eval_batch = scaled_train[-length:]\n",
        "current_batch = first_eval_batch.reshape((1,length, n_features))\n",
        "\n",
        "for i in range(len(test)):\n",
        "\n",
        "  current_pred = model.predict(current_batch)[0]\n",
        "  test_pred.append(current_pred)\n",
        "  current_batch = np.append(current_batch[:,1:,:], [[current_pred]], axis=1)\n",
        "\n"
      ],
      "execution_count": 0,
      "outputs": []
    },
    {
      "cell_type": "code",
      "metadata": {
        "id": "ThdhIW7Xo-yv",
        "colab_type": "code",
        "colab": {}
      },
      "source": [
        "true_p = sc.inverse_transform(test_pred)"
      ],
      "execution_count": 0,
      "outputs": []
    },
    {
      "cell_type": "code",
      "metadata": {
        "id": "CXPKXrWNqvN5",
        "colab_type": "code",
        "outputId": "a44bdc7f-cf2d-4e28-86ba-68b86039ebe2",
        "colab": {
          "base_uri": "https://localhost:8080/",
          "height": 119
        }
      },
      "source": [
        "test['Pred'] = true_p"
      ],
      "execution_count": 103,
      "outputs": [
        {
          "output_type": "stream",
          "text": [
            "/usr/local/lib/python3.6/dist-packages/ipykernel_launcher.py:1: SettingWithCopyWarning: \n",
            "A value is trying to be set on a copy of a slice from a DataFrame.\n",
            "Try using .loc[row_indexer,col_indexer] = value instead\n",
            "\n",
            "See the caveats in the documentation: http://pandas.pydata.org/pandas-docs/stable/user_guide/indexing.html#returning-a-view-versus-a-copy\n",
            "  \"\"\"Entry point for launching an IPython kernel.\n"
          ],
          "name": "stderr"
        }
      ]
    },
    {
      "cell_type": "code",
      "metadata": {
        "id": "7XfRgNMQsZa1",
        "colab_type": "code",
        "outputId": "95351529-ef3c-487c-fc55-6475a2ff5132",
        "colab": {
          "base_uri": "https://localhost:8080/",
          "height": 1000
        }
      },
      "source": [
        "test"
      ],
      "execution_count": 104,
      "outputs": [
        {
          "output_type": "execute_result",
          "data": {
            "text/html": [
              "<div>\n",
              "<style scoped>\n",
              "    .dataframe tbody tr th:only-of-type {\n",
              "        vertical-align: middle;\n",
              "    }\n",
              "\n",
              "    .dataframe tbody tr th {\n",
              "        vertical-align: top;\n",
              "    }\n",
              "\n",
              "    .dataframe thead th {\n",
              "        text-align: right;\n",
              "    }\n",
              "</style>\n",
              "<table border=\"1\" class=\"dataframe\">\n",
              "  <thead>\n",
              "    <tr style=\"text-align: right;\">\n",
              "      <th></th>\n",
              "      <th>Sine</th>\n",
              "      <th>Pred</th>\n",
              "    </tr>\n",
              "  </thead>\n",
              "  <tbody>\n",
              "    <tr>\n",
              "      <th>45.1</th>\n",
              "      <td>0.899097</td>\n",
              "      <td>0.911355</td>\n",
              "    </tr>\n",
              "    <tr>\n",
              "      <th>45.2</th>\n",
              "      <td>0.938307</td>\n",
              "      <td>0.950016</td>\n",
              "    </tr>\n",
              "    <tr>\n",
              "      <th>45.3</th>\n",
              "      <td>0.968142</td>\n",
              "      <td>0.979117</td>\n",
              "    </tr>\n",
              "    <tr>\n",
              "      <th>45.4</th>\n",
              "      <td>0.988304</td>\n",
              "      <td>0.998195</td>\n",
              "    </tr>\n",
              "    <tr>\n",
              "      <th>45.5</th>\n",
              "      <td>0.998591</td>\n",
              "      <td>1.006951</td>\n",
              "    </tr>\n",
              "    <tr>\n",
              "      <th>45.6</th>\n",
              "      <td>0.998900</td>\n",
              "      <td>1.005282</td>\n",
              "    </tr>\n",
              "    <tr>\n",
              "      <th>45.7</th>\n",
              "      <td>0.989229</td>\n",
              "      <td>0.993247</td>\n",
              "    </tr>\n",
              "    <tr>\n",
              "      <th>45.8</th>\n",
              "      <td>0.969673</td>\n",
              "      <td>0.971035</td>\n",
              "    </tr>\n",
              "    <tr>\n",
              "      <th>45.9</th>\n",
              "      <td>0.940429</td>\n",
              "      <td>0.938951</td>\n",
              "    </tr>\n",
              "    <tr>\n",
              "      <th>46.0</th>\n",
              "      <td>0.901788</td>\n",
              "      <td>0.897393</td>\n",
              "    </tr>\n",
              "    <tr>\n",
              "      <th>46.1</th>\n",
              "      <td>0.854137</td>\n",
              "      <td>0.846832</td>\n",
              "    </tr>\n",
              "    <tr>\n",
              "      <th>46.2</th>\n",
              "      <td>0.797952</td>\n",
              "      <td>0.787809</td>\n",
              "    </tr>\n",
              "    <tr>\n",
              "      <th>46.3</th>\n",
              "      <td>0.733794</td>\n",
              "      <td>0.720923</td>\n",
              "    </tr>\n",
              "    <tr>\n",
              "      <th>46.4</th>\n",
              "      <td>0.662304</td>\n",
              "      <td>0.646822</td>\n",
              "    </tr>\n",
              "    <tr>\n",
              "      <th>46.5</th>\n",
              "      <td>0.584197</td>\n",
              "      <td>0.566199</td>\n",
              "    </tr>\n",
              "    <tr>\n",
              "      <th>46.6</th>\n",
              "      <td>0.500252</td>\n",
              "      <td>0.479793</td>\n",
              "    </tr>\n",
              "    <tr>\n",
              "      <th>46.7</th>\n",
              "      <td>0.411309</td>\n",
              "      <td>0.388384</td>\n",
              "    </tr>\n",
              "    <tr>\n",
              "      <th>46.8</th>\n",
              "      <td>0.318257</td>\n",
              "      <td>0.292792</td>\n",
              "    </tr>\n",
              "    <tr>\n",
              "      <th>46.9</th>\n",
              "      <td>0.222024</td>\n",
              "      <td>0.193883</td>\n",
              "    </tr>\n",
              "    <tr>\n",
              "      <th>47.0</th>\n",
              "      <td>0.123573</td>\n",
              "      <td>0.092556</td>\n",
              "    </tr>\n",
              "    <tr>\n",
              "      <th>47.1</th>\n",
              "      <td>0.023888</td>\n",
              "      <td>-0.010249</td>\n",
              "    </tr>\n",
              "    <tr>\n",
              "      <th>47.2</th>\n",
              "      <td>-0.076037</td>\n",
              "      <td>-0.113560</td>\n",
              "    </tr>\n",
              "    <tr>\n",
              "      <th>47.3</th>\n",
              "      <td>-0.175201</td>\n",
              "      <td>-0.216371</td>\n",
              "    </tr>\n",
              "    <tr>\n",
              "      <th>47.4</th>\n",
              "      <td>-0.272615</td>\n",
              "      <td>-0.317656</td>\n",
              "    </tr>\n",
              "    <tr>\n",
              "      <th>47.5</th>\n",
              "      <td>-0.367305</td>\n",
              "      <td>-0.416364</td>\n",
              "    </tr>\n",
              "    <tr>\n",
              "      <th>47.6</th>\n",
              "      <td>-0.458325</td>\n",
              "      <td>-0.511434</td>\n",
              "    </tr>\n",
              "    <tr>\n",
              "      <th>47.7</th>\n",
              "      <td>-0.544766</td>\n",
              "      <td>-0.601804</td>\n",
              "    </tr>\n",
              "    <tr>\n",
              "      <th>47.8</th>\n",
              "      <td>-0.625764</td>\n",
              "      <td>-0.686423</td>\n",
              "    </tr>\n",
              "    <tr>\n",
              "      <th>47.9</th>\n",
              "      <td>-0.700509</td>\n",
              "      <td>-0.764271</td>\n",
              "    </tr>\n",
              "    <tr>\n",
              "      <th>48.0</th>\n",
              "      <td>-0.768255</td>\n",
              "      <td>-0.834379</td>\n",
              "    </tr>\n",
              "    <tr>\n",
              "      <th>48.1</th>\n",
              "      <td>-0.828324</td>\n",
              "      <td>-0.895863</td>\n",
              "    </tr>\n",
              "    <tr>\n",
              "      <th>48.2</th>\n",
              "      <td>-0.880118</td>\n",
              "      <td>-0.947944</td>\n",
              "    </tr>\n",
              "    <tr>\n",
              "      <th>48.3</th>\n",
              "      <td>-0.923117</td>\n",
              "      <td>-0.989979</td>\n",
              "    </tr>\n",
              "    <tr>\n",
              "      <th>48.4</th>\n",
              "      <td>-0.956893</td>\n",
              "      <td>-1.021485</td>\n",
              "    </tr>\n",
              "    <tr>\n",
              "      <th>48.5</th>\n",
              "      <td>-0.981108</td>\n",
              "      <td>-1.042147</td>\n",
              "    </tr>\n",
              "    <tr>\n",
              "      <th>48.6</th>\n",
              "      <td>-0.995521</td>\n",
              "      <td>-1.051823</td>\n",
              "    </tr>\n",
              "    <tr>\n",
              "      <th>48.7</th>\n",
              "      <td>-0.999986</td>\n",
              "      <td>-1.050539</td>\n",
              "    </tr>\n",
              "    <tr>\n",
              "      <th>48.8</th>\n",
              "      <td>-0.994460</td>\n",
              "      <td>-1.038475</td>\n",
              "    </tr>\n",
              "    <tr>\n",
              "      <th>48.9</th>\n",
              "      <td>-0.978997</td>\n",
              "      <td>-1.015940</td>\n",
              "    </tr>\n",
              "    <tr>\n",
              "      <th>49.0</th>\n",
              "      <td>-0.953753</td>\n",
              "      <td>-0.983351</td>\n",
              "    </tr>\n",
              "    <tr>\n",
              "      <th>49.1</th>\n",
              "      <td>-0.918979</td>\n",
              "      <td>-0.941211</td>\n",
              "    </tr>\n",
              "    <tr>\n",
              "      <th>49.2</th>\n",
              "      <td>-0.875023</td>\n",
              "      <td>-0.890083</td>\n",
              "    </tr>\n",
              "    <tr>\n",
              "      <th>49.3</th>\n",
              "      <td>-0.822324</td>\n",
              "      <td>-0.830577</td>\n",
              "    </tr>\n",
              "    <tr>\n",
              "      <th>49.4</th>\n",
              "      <td>-0.761408</td>\n",
              "      <td>-0.763333</td>\n",
              "    </tr>\n",
              "    <tr>\n",
              "      <th>49.5</th>\n",
              "      <td>-0.692885</td>\n",
              "      <td>-0.689014</td>\n",
              "    </tr>\n",
              "    <tr>\n",
              "      <th>49.6</th>\n",
              "      <td>-0.617439</td>\n",
              "      <td>-0.608299</td>\n",
              "    </tr>\n",
              "    <tr>\n",
              "      <th>49.7</th>\n",
              "      <td>-0.535823</td>\n",
              "      <td>-0.521887</td>\n",
              "    </tr>\n",
              "    <tr>\n",
              "      <th>49.8</th>\n",
              "      <td>-0.448854</td>\n",
              "      <td>-0.430494</td>\n",
              "    </tr>\n",
              "    <tr>\n",
              "      <th>49.9</th>\n",
              "      <td>-0.357400</td>\n",
              "      <td>-0.334861</td>\n",
              "    </tr>\n",
              "    <tr>\n",
              "      <th>50.0</th>\n",
              "      <td>-0.262375</td>\n",
              "      <td>-0.235757</td>\n",
              "    </tr>\n",
              "  </tbody>\n",
              "</table>\n",
              "</div>"
            ],
            "text/plain": [
              "          Sine      Pred\n",
              "45.1  0.899097  0.911355\n",
              "45.2  0.938307  0.950016\n",
              "45.3  0.968142  0.979117\n",
              "45.4  0.988304  0.998195\n",
              "45.5  0.998591  1.006951\n",
              "45.6  0.998900  1.005282\n",
              "45.7  0.989229  0.993247\n",
              "45.8  0.969673  0.971035\n",
              "45.9  0.940429  0.938951\n",
              "46.0  0.901788  0.897393\n",
              "46.1  0.854137  0.846832\n",
              "46.2  0.797952  0.787809\n",
              "46.3  0.733794  0.720923\n",
              "46.4  0.662304  0.646822\n",
              "46.5  0.584197  0.566199\n",
              "46.6  0.500252  0.479793\n",
              "46.7  0.411309  0.388384\n",
              "46.8  0.318257  0.292792\n",
              "46.9  0.222024  0.193883\n",
              "47.0  0.123573  0.092556\n",
              "47.1  0.023888 -0.010249\n",
              "47.2 -0.076037 -0.113560\n",
              "47.3 -0.175201 -0.216371\n",
              "47.4 -0.272615 -0.317656\n",
              "47.5 -0.367305 -0.416364\n",
              "47.6 -0.458325 -0.511434\n",
              "47.7 -0.544766 -0.601804\n",
              "47.8 -0.625764 -0.686423\n",
              "47.9 -0.700509 -0.764271\n",
              "48.0 -0.768255 -0.834379\n",
              "48.1 -0.828324 -0.895863\n",
              "48.2 -0.880118 -0.947944\n",
              "48.3 -0.923117 -0.989979\n",
              "48.4 -0.956893 -1.021485\n",
              "48.5 -0.981108 -1.042147\n",
              "48.6 -0.995521 -1.051823\n",
              "48.7 -0.999986 -1.050539\n",
              "48.8 -0.994460 -1.038475\n",
              "48.9 -0.978997 -1.015940\n",
              "49.0 -0.953753 -0.983351\n",
              "49.1 -0.918979 -0.941211\n",
              "49.2 -0.875023 -0.890083\n",
              "49.3 -0.822324 -0.830577\n",
              "49.4 -0.761408 -0.763333\n",
              "49.5 -0.692885 -0.689014\n",
              "49.6 -0.617439 -0.608299\n",
              "49.7 -0.535823 -0.521887\n",
              "49.8 -0.448854 -0.430494\n",
              "49.9 -0.357400 -0.334861\n",
              "50.0 -0.262375 -0.235757"
            ]
          },
          "metadata": {
            "tags": []
          },
          "execution_count": 104
        }
      ]
    },
    {
      "cell_type": "code",
      "metadata": {
        "id": "UcMScJHssiRH",
        "colab_type": "code",
        "outputId": "c255fb31-17a3-4c23-c256-fce2a1d3c929",
        "colab": {
          "base_uri": "https://localhost:8080/",
          "height": 282
        }
      },
      "source": [
        "test.plot()"
      ],
      "execution_count": 105,
      "outputs": [
        {
          "output_type": "execute_result",
          "data": {
            "text/plain": [
              "<matplotlib.axes._subplots.AxesSubplot at 0x7f292ef4bdd8>"
            ]
          },
          "metadata": {
            "tags": []
          },
          "execution_count": 105
        },
        {
          "output_type": "display_data",
          "data": {
            "image/png": "[encoded data removed]",
            "text/plain": [
              "<Figure size 432x288 with 1 Axes>"
            ]
          },
          "metadata": {
            "tags": []
          }
        }
      ]
    },
    {
      "cell_type": "code",
      "metadata": {
        "id": "u6arS6z6spGQ",
        "colab_type": "code",
        "colab": {}
      },
      "source": [
        "full_scaler = MinMaxScaler()\n",
        "scaled_full_data = full_scaler.fit_transform(df)"
      ],
      "execution_count": 0,
      "outputs": []
    },
    {
      "cell_type": "code",
      "metadata": {
        "id": "ToK1M4X03PVI",
        "colab_type": "code",
        "colab": {
          "base_uri": "https://localhost:8080/",
          "height": 238
        },
        "outputId": "8f7ca359-f726-42f6-d2ab-62c334118cf5"
      },
      "source": [
        "length = 49\n",
        "batch_size = 1\n",
        "\n",
        "full_gen = TimeseriesGenerator(scaled_full_data, scaled_full_data, length=length, batch_size=batch_size)\n",
        "\n",
        "\n",
        "\n",
        "n_features = 1\n",
        "model = Sequential()\n",
        "model.add(LSTM(50, input_shape=(length, n_features)))\n",
        "model.add(Dense(1))\n",
        "\n",
        "model.compile(optimizer='adam', loss='mse')\n",
        "\n",
        "model.fit_generator(full_gen, epochs=6)\n"
      ],
      "execution_count": 109,
      "outputs": [
        {
          "output_type": "stream",
          "text": [
            "Epoch 1/6\n",
            "452/452 [==============================] - 20s 44ms/step - loss: 0.0154\n",
            "Epoch 2/6\n",
            "452/452 [==============================] - 19s 41ms/step - loss: 1.1581e-04\n",
            "Epoch 3/6\n",
            "452/452 [==============================] - 19s 41ms/step - loss: 3.2389e-04\n",
            "Epoch 4/6\n",
            "452/452 [==============================] - 18s 41ms/step - loss: 5.0554e-05\n",
            "Epoch 5/6\n",
            "452/452 [==============================] - 19s 41ms/step - loss: 8.8231e-04\n",
            "Epoch 6/6\n",
            "452/452 [==============================] - 19s 41ms/step - loss: 3.3052e-05\n"
          ],
          "name": "stdout"
        },
        {
          "output_type": "execute_result",
          "data": {
            "text/plain": [
              "<tensorflow.python.keras.callbacks.History at 0x7f2939c43978>"
            ]
          },
          "metadata": {
            "tags": []
          },
          "execution_count": 109
        }
      ]
    },
    {
      "cell_type": "code",
      "metadata": {
        "id": "okCJeHgl3-4K",
        "colab_type": "code",
        "colab": {}
      },
      "source": [
        "forecast = []\n",
        "\n",
        "first_eval_batch = scaled_train[-length:]\n",
        "current_batch = first_eval_batch.reshape((1,length, n_features))\n",
        "\n",
        "for i in range((100)):\n",
        "\n",
        "  current_pred = model.predict(current_batch)[0]\n",
        "  forecast.append(current_pred)\n",
        "  current_batch = np.append(current_batch[:,1:,:], [[current_pred]], axis=1)"
      ],
      "execution_count": 0,
      "outputs": []
    },
    {
      "cell_type": "code",
      "metadata": {
        "id": "YH53XIYb4g-w",
        "colab_type": "code",
        "colab": {}
      },
      "source": [
        "forecast = full_scaler.inverse_transform(forecast)"
      ],
      "execution_count": 0,
      "outputs": []
    },
    {
      "cell_type": "code",
      "metadata": {
        "id": "BpN36Lyo4qPo",
        "colab_type": "code",
        "colab": {
          "base_uri": "https://localhost:8080/",
          "height": 34
        },
        "outputId": "d7155683-78e2-4637-d4a9-bf5ce62dd5f2"
      },
      "source": [
        "forecast_index = np.arange(50.1, 60.1, step=0.1)\n",
        "len(forecast_index)"
      ],
      "execution_count": 124,
      "outputs": [
        {
          "output_type": "execute_result",
          "data": {
            "text/plain": [
              "100"
            ]
          },
          "metadata": {
            "tags": []
          },
          "execution_count": 124
        }
      ]
    },
    {
      "cell_type": "code",
      "metadata": {
        "id": "N8JQfaJa45Z6",
        "colab_type": "code",
        "colab": {
          "base_uri": "https://localhost:8080/",
          "height": 282
        },
        "outputId": "7e6101f1-9bd6-40bc-f436-dd5c25e5acbf"
      },
      "source": [
        "plt.plot(df.index, df['Sine'])\n",
        "plt.plot(forecast_index, forecast)"
      ],
      "execution_count": 125,
      "outputs": [
        {
          "output_type": "execute_result",
          "data": {
            "text/plain": [
              "[<matplotlib.lines.Line2D at 0x7f292fbc6828>]"
            ]
          },
          "metadata": {
            "tags": []
          },
          "execution_count": 125
        },
        {
          "output_type": "display_data",
          "data": {
            "image/png": "[encoded data removed]",
            "text/plain": [
              "<Figure size 432x288 with 1 Axes>"
            ]
          },
          "metadata": {
            "tags": []
          }
        }
      ]
    },
    {
      "cell_type": "code",
      "metadata": {
        "id": "MHmYrm8R4_hL",
        "colab_type": "code",
        "colab": {}
      },
      "source": [
        ""
      ],
      "execution_count": 0,
      "outputs": []
    }
  ]
}