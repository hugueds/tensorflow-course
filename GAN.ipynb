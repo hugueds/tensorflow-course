{
  "nbformat": 4,
  "nbformat_minor": 0,
  "metadata": {
    "colab": {
      "name": "GAN.ipynb",
      "provenance": [],
      "collapsed_sections": [],
      "authorship_tag": "ABX9TyNE/fLVkVGHyuYAr2/n8y0C",
      "include_colab_link": true
    },
    "kernelspec": {
      "name": "python3",
      "display_name": "Python 3"
    }
  },
  "cells": [
    {
      "cell_type": "markdown",
      "metadata": {
        "id": "view-in-github",
        "colab_type": "text"
      },
      "source": [
        "<a href=\"https://colab.research.google.com/github/hugueds/tensorflow-course/blob/master/GAN.ipynb\" target=\"_parent\"><img src=\"https://colab.research.google.com/assets/colab-badge.svg\" alt=\"Open In Colab\"/></a>"
      ]
    },
    {
      "cell_type": "markdown",
      "metadata": {
        "id": "S6ta4uac6bT5",
        "colab_type": "text"
      },
      "source": [
        "## GAN Generative Adversarial Networks"
      ]
    },
    {
      "cell_type": "code",
      "metadata": {
        "id": "9EGJ1N4CHY_U",
        "colab_type": "code",
        "colab": {}
      },
      "source": [
        "%tensorflow_version 2.x"
      ],
      "execution_count": 0,
      "outputs": []
    },
    {
      "cell_type": "code",
      "metadata": {
        "id": "YGBmTrjGHHwk",
        "colab_type": "code",
        "colab": {}
      },
      "source": [
        "import numpy as np\n",
        "import matplotlib.pyplot as plt\n",
        "import seaborn as sns\n",
        "import pandas as pd\n",
        "sns.set()"
      ],
      "execution_count": 0,
      "outputs": []
    },
    {
      "cell_type": "code",
      "metadata": {
        "id": "wcAz15ze6z7W",
        "colab_type": "code",
        "colab": {}
      },
      "source": [
        "from tensorflow.keras.datasets import mnist"
      ],
      "execution_count": 0,
      "outputs": []
    },
    {
      "cell_type": "code",
      "metadata": {
        "id": "4lpXDNTT-Pyx",
        "colab_type": "code",
        "colab": {
          "base_uri": "https://localhost:8080/",
          "height": 51
        },
        "outputId": "8579ba12-ecce-4168-908a-1712594ac129"
      },
      "source": [
        "(X_train, y_train), (X_test, y_test) = mnist.load_data()"
      ],
      "execution_count": 6,
      "outputs": [
        {
          "output_type": "stream",
          "text": [
            "Downloading data from https://storage.googleapis.com/tensorflow/tf-keras-datasets/mnist.npz\n",
            "11493376/11490434 [==============================] - 0s 0us/step\n"
          ],
          "name": "stdout"
        }
      ]
    },
    {
      "cell_type": "code",
      "metadata": {
        "id": "AT2uaEV7-U4l",
        "colab_type": "code",
        "colab": {
          "base_uri": "https://localhost:8080/",
          "height": 285
        },
        "outputId": "ccbbd70f-8ef4-4d05-de9f-e596b4eefe10"
      },
      "source": [
        "plt.imshow(X_train[0])"
      ],
      "execution_count": 12,
      "outputs": [
        {
          "output_type": "execute_result",
          "data": {
            "text/plain": [
              "<matplotlib.image.AxesImage at 0x7f4bbdffc6a0>"
            ]
          },
          "metadata": {
            "tags": []
          },
          "execution_count": 12
        },
        {
          "output_type": "display_data",
          "data": {
            "image/png": "[encoded data removed]",
            "text/plain": [
              "<Figure size 432x288 with 1 Axes>"
            ]
          },
          "metadata": {
            "tags": []
          }
        }
      ]
    },
    {
      "cell_type": "code",
      "metadata": {
        "id": "RzZ04629-Whm",
        "colab_type": "code",
        "colab": {}
      },
      "source": [
        "only_eights = X_train[y_train == 8]"
      ],
      "execution_count": 0,
      "outputs": []
    },
    {
      "cell_type": "code",
      "metadata": {
        "id": "WJrn7ZQL-tk-",
        "colab_type": "code",
        "colab": {
          "base_uri": "https://localhost:8080/",
          "height": 285
        },
        "outputId": "d6119c69-38e2-408e-fd21-52d3d6b31783"
      },
      "source": [
        "plt.imshow(only_eights[6])"
      ],
      "execution_count": 20,
      "outputs": [
        {
          "output_type": "execute_result",
          "data": {
            "text/plain": [
              "<matplotlib.image.AxesImage at 0x7f4bbde43550>"
            ]
          },
          "metadata": {
            "tags": []
          },
          "execution_count": 20
        },
        {
          "output_type": "display_data",
          "data": {
            "image/png": "[encoded data removed]",
            "text/plain": [
              "<Figure size 432x288 with 1 Axes>"
            ]
          },
          "metadata": {
            "tags": []
          }
        }
      ]
    },
    {
      "cell_type": "code",
      "metadata": {
        "id": "-LUDjHX0_JSA",
        "colab_type": "code",
        "colab": {}
      },
      "source": [
        "import tensorflow as tf\n",
        "from tensorflow.keras.layers import Dense, Reshape, Flatten, Dropout, LeakyReLU, BatchNormalization, Conv2D, Conv2DTranspose\n",
        "from tensorflow.keras.models import Sequential"
      ],
      "execution_count": 0,
      "outputs": []
    },
    {
      "cell_type": "code",
      "metadata": {
        "id": "DtocktLA-udW",
        "colab_type": "code",
        "colab": {}
      },
      "source": [
        "discriminator  = Sequential()\n",
        "discriminator.add(Flatten(input_shape=[28,28]))\n",
        "discriminator.add(Dense(150, activation='relu'))\n",
        "discriminator.add(Dense(100, activation='relu'))\n",
        "discriminator.add(Dense(1, activation='sigmoid'))\n",
        "\n",
        "discriminator.compile(loss='binary_crossentropy', optimizer='adam')"
      ],
      "execution_count": 0,
      "outputs": []
    },
    {
      "cell_type": "code",
      "metadata": {
        "id": "yQEeNWJp_aHI",
        "colab_type": "code",
        "colab": {}
      },
      "source": [
        "coding_size = 100\n",
        "generator = Sequential()\n",
        "generator.add(Dense(100, activation='relu', input_shape=[coding_size]))\n",
        "generator.add(Dense(150, activation='relu'))\n",
        "generator.add(Dense(784, activation='relu'))\n",
        "generator.add(Reshape([28, 28]))"
      ],
      "execution_count": 0,
      "outputs": []
    },
    {
      "cell_type": "code",
      "metadata": {
        "id": "JOY9aepKACf_",
        "colab_type": "code",
        "colab": {}
      },
      "source": [
        "GAN = Sequential([generator, discriminator])"
      ],
      "execution_count": 0,
      "outputs": []
    },
    {
      "cell_type": "code",
      "metadata": {
        "id": "wYnrRm2ZAsUf",
        "colab_type": "code",
        "colab": {}
      },
      "source": [
        "discriminator.trainable = False"
      ],
      "execution_count": 0,
      "outputs": []
    },
    {
      "cell_type": "code",
      "metadata": {
        "id": "J6nYJmdoAuSN",
        "colab_type": "code",
        "colab": {}
      },
      "source": [
        "GAN.compile(loss='binary_crossentropy', optimizer='adam')"
      ],
      "execution_count": 0,
      "outputs": []
    },
    {
      "cell_type": "code",
      "metadata": {
        "id": "aoULglXRAzne",
        "colab_type": "code",
        "colab": {}
      },
      "source": [
        "batch_size = 32"
      ],
      "execution_count": 0,
      "outputs": []
    },
    {
      "cell_type": "code",
      "metadata": {
        "id": "jSbVF3UPBkpR",
        "colab_type": "code",
        "colab": {
          "base_uri": "https://localhost:8080/",
          "height": 34
        },
        "outputId": "0ceec24e-3ca5-484f-9073-6890eda48ad5"
      },
      "source": [
        "data = only_eights\n",
        "data.shape"
      ],
      "execution_count": 68,
      "outputs": [
        {
          "output_type": "execute_result",
          "data": {
            "text/plain": [
              "(5851, 28, 28)"
            ]
          },
          "metadata": {
            "tags": []
          },
          "execution_count": 68
        }
      ]
    },
    {
      "cell_type": "code",
      "metadata": {
        "id": "ysfTCCK0Bmsd",
        "colab_type": "code",
        "colab": {}
      },
      "source": [
        "dataset = None\n",
        "dataset = tf.data.Dataset.from_tensor_slices(data).shuffle(buffer_size=1000)"
      ],
      "execution_count": 0,
      "outputs": []
    },
    {
      "cell_type": "code",
      "metadata": {
        "id": "OAvSHxZ5B64V",
        "colab_type": "code",
        "colab": {}
      },
      "source": [
        "dataset = dataset.batch(batch_size, drop_remainder=True).prefetch(1)"
      ],
      "execution_count": 0,
      "outputs": []
    },
    {
      "cell_type": "code",
      "metadata": {
        "id": "Sm5bi05jCATF",
        "colab_type": "code",
        "colab": {}
      },
      "source": [
        "epochs = 10"
      ],
      "execution_count": 0,
      "outputs": []
    },
    {
      "cell_type": "code",
      "metadata": {
        "id": "MBqeiOSZCNi-",
        "colab_type": "code",
        "colab": {}
      },
      "source": [
        "_gen, _disc = GAN.layers"
      ],
      "execution_count": 0,
      "outputs": []
    },
    {
      "cell_type": "code",
      "metadata": {
        "id": "Ar9riT2iCO4u",
        "colab_type": "code",
        "colab": {
          "base_uri": "https://localhost:8080/",
          "height": 357
        },
        "outputId": "f40d8113-d2a6-438e-f166-6c560513c8ae"
      },
      "source": [
        "for epoch in range(epochs):\n",
        "\n",
        "  print(f'Currently on epoch {epoch+1}')\n",
        "  i = 0\n",
        "\n",
        "  for X_batch in dataset:\n",
        "\n",
        "    i += 1\n",
        "\n",
        "    if i % 100 == 0:\n",
        "\n",
        "      print(f'\\t Currently batch number {i} of {len(data)//batch_size}')\n",
        "\n",
        "    noise = tf.random.normal(shape=[batch_size, coding_size])\n",
        "\n",
        "    gen_images = _gen(noise)\n",
        "\n",
        "    X_fake_vs_real = tf.concat( [gen_images, tf.dtypes.cast(X_batch, tf.float32) ], axis=0)\n",
        "\n",
        "    y1 = tf.constant( [[0.0]] * batch_size  + [[1.0]] * batch_size)\n",
        "\n",
        "    discriminator.trainable = True\n",
        "    discriminator.train_on_batch(X_fake_vs_real, y1)\n",
        "\n",
        "    noise = tf.random.normal(shape=[batch_size, coding_size])\n",
        "\n",
        "    y2 = tf.constant( [[1.0]] * batch_size )\n",
        "    discriminator.trainable = False\n",
        "\n",
        "    GAN.train_on_batch(noise, y2)\n"
      ],
      "execution_count": 87,
      "outputs": [
        {
          "output_type": "stream",
          "text": [
            "Currently on epoch 1\n",
            "\t Currently batch number 100 of 182\n",
            "Currently on epoch 2\n",
            "\t Currently batch number 100 of 182\n",
            "Currently on epoch 3\n",
            "\t Currently batch number 100 of 182\n",
            "Currently on epoch 4\n",
            "\t Currently batch number 100 of 182\n",
            "Currently on epoch 5\n",
            "\t Currently batch number 100 of 182\n",
            "Currently on epoch 6\n",
            "\t Currently batch number 100 of 182\n",
            "Currently on epoch 7\n",
            "\t Currently batch number 100 of 182\n",
            "Currently on epoch 8\n",
            "\t Currently batch number 100 of 182\n",
            "Currently on epoch 9\n",
            "\t Currently batch number 100 of 182\n",
            "Currently on epoch 10\n",
            "\t Currently batch number 100 of 182\n"
          ],
          "name": "stdout"
        }
      ]
    },
    {
      "cell_type": "code",
      "metadata": {
        "id": "gzlh0yWuFTDP",
        "colab_type": "code",
        "colab": {}
      },
      "source": [
        "noise = tf.random.normal(shape=[10, coding_size])"
      ],
      "execution_count": 0,
      "outputs": []
    },
    {
      "cell_type": "code",
      "metadata": {
        "id": "TDkBO7CdMAQQ",
        "colab_type": "code",
        "colab": {
          "base_uri": "https://localhost:8080/",
          "height": 103
        },
        "outputId": "74259432-3297-4468-d64e-97a9e11ddb9f"
      },
      "source": [
        "plt.imshow(noise)"
      ],
      "execution_count": 89,
      "outputs": [
        {
          "output_type": "execute_result",
          "data": {
            "text/plain": [
              "<matplotlib.image.AxesImage at 0x7f4bb4ca61d0>"
            ]
          },
          "metadata": {
            "tags": []
          },
          "execution_count": 89
        },
        {
          "output_type": "display_data",
          "data": {
            "image/png": "[encoded data removed]",
            "text/plain": [
              "<Figure size 432x288 with 1 Axes>"
            ]
          },
          "metadata": {
            "tags": []
          }
        }
      ]
    },
    {
      "cell_type": "code",
      "metadata": {
        "id": "W-wvK2K6MOGw",
        "colab_type": "code",
        "colab": {}
      },
      "source": [
        "images = generator(noise)"
      ],
      "execution_count": 0,
      "outputs": []
    },
    {
      "cell_type": "code",
      "metadata": {
        "id": "pbpBGjtPMRUv",
        "colab_type": "code",
        "colab": {
          "base_uri": "https://localhost:8080/",
          "height": 285
        },
        "outputId": "c9dd2080-d641-4a66-c5d9-f2222b968599"
      },
      "source": [
        "plt.imshow(images[5])"
      ],
      "execution_count": 95,
      "outputs": [
        {
          "output_type": "execute_result",
          "data": {
            "text/plain": [
              "<matplotlib.image.AxesImage at 0x7f4bb4aca780>"
            ]
          },
          "metadata": {
            "tags": []
          },
          "execution_count": 95
        },
        {
          "output_type": "display_data",
          "data": {
            "image/png": "[encoded data removed]",
            "text/plain": [
              "<Figure size 432x288 with 1 Axes>"
            ]
          },
          "metadata": {
            "tags": []
          }
        }
      ]
    },
    {
      "cell_type": "code",
      "metadata": {
        "id": "sijPaATPMVMe",
        "colab_type": "code",
        "colab": {
          "base_uri": "https://localhost:8080/",
          "height": 34
        },
        "outputId": "747997cb-6de7-4de9-ce98-3033704ea750"
      },
      "source": [
        "only_eights.max()"
      ],
      "execution_count": 96,
      "outputs": [
        {
          "output_type": "execute_result",
          "data": {
            "text/plain": [
              "255"
            ]
          },
          "metadata": {
            "tags": []
          },
          "execution_count": 96
        }
      ]
    },
    {
      "cell_type": "code",
      "metadata": {
        "id": "7E-iCwnVNgyw",
        "colab_type": "code",
        "colab": {}
      },
      "source": [
        "only_eights = only_eights / 255\n",
        "only_eights * 2 - 1\n",
        "only_eights = only_eights.reshape(-1,28,28,1 )"
      ],
      "execution_count": 0,
      "outputs": []
    },
    {
      "cell_type": "code",
      "metadata": {
        "id": "4T0WO0V6NxMf",
        "colab_type": "code",
        "colab": {
          "base_uri": "https://localhost:8080/",
          "height": 285
        },
        "outputId": "8504fb67-2014-4de6-e968-796190ac2bc6"
      },
      "source": [
        "plt.imshow(only_eights[100])"
      ],
      "execution_count": 101,
      "outputs": [
        {
          "output_type": "execute_result",
          "data": {
            "text/plain": [
              "<matplotlib.image.AxesImage at 0x7f4bbfb62588>"
            ]
          },
          "metadata": {
            "tags": []
          },
          "execution_count": 101
        },
        {
          "output_type": "display_data",
          "data": {
            "image/png": "[encoded data removed]",
            "text/plain": [
              "<Figure size 432x288 with 1 Axes>"
            ]
          },
          "metadata": {
            "tags": []
          }
        }
      ]
    },
    {
      "cell_type": "code",
      "metadata": {
        "id": "9lkqI1nWN3X-",
        "colab_type": "code",
        "colab": {}
      },
      "source": [
        "np.random.seed(42)\n",
        "tf.random.set_seed(42)"
      ],
      "execution_count": 0,
      "outputs": []
    },
    {
      "cell_type": "code",
      "metadata": {
        "id": "ssBx7oJ6OSpk",
        "colab_type": "code",
        "colab": {}
      },
      "source": [
        "gen2 = Sequential()"
      ],
      "execution_count": 0,
      "outputs": []
    },
    {
      "cell_type": "code",
      "metadata": {
        "id": "ioFr3UHMOWPe",
        "colab_type": "code",
        "colab": {}
      },
      "source": [
        "gen2.add(Dense(7*7*128, input_shape=[coding_size]))\n",
        "gen2.add(Reshape([7,7,128]))\n",
        "gen2.add(BatchNormalization())\n",
        "gen2.add(Conv2DTranspose(64, kernel_size=5, strides=2, padding='same', activation='relu'))\n",
        "gen2.add(BatchNormalization())\n",
        "gen2.add(Conv2DTranspose(1, kernel_size=5, strides=2, padding='same', activation='tanh'))"
      ],
      "execution_count": 0,
      "outputs": []
    },
    {
      "cell_type": "code",
      "metadata": {
        "id": "5E5FRH37O98F",
        "colab_type": "code",
        "colab": {}
      },
      "source": [
        "disc2 = Sequential()"
      ],
      "execution_count": 0,
      "outputs": []
    },
    {
      "cell_type": "code",
      "metadata": {
        "id": "sUc20JLCPCEu",
        "colab_type": "code",
        "colab": {}
      },
      "source": [
        "disc2 = Sequential()\n",
        "disc2.add(Conv2D(64, kernel_size=5, strides=2, padding=\"same\",\n",
        "                        activation=LeakyReLU(0.3),\n",
        "                        input_shape=[28, 28, 1]))\n",
        "disc2.add(Dropout(0.5))\n",
        "disc2.add(Conv2D(128, kernel_size=5, strides=2, padding=\"same\",\n",
        "                        activation=LeakyReLU(0.3)))\n",
        "disc2.add(Dropout(0.5))\n",
        "disc2.add(Flatten())\n",
        "disc2.add(Dense(1, activation=\"sigmoid\"))"
      ],
      "execution_count": 0,
      "outputs": []
    },
    {
      "cell_type": "code",
      "metadata": {
        "id": "XI08BzBmPhlw",
        "colab_type": "code",
        "colab": {}
      },
      "source": [
        "GAN = Sequential([gen2, disc2])"
      ],
      "execution_count": 0,
      "outputs": []
    },
    {
      "cell_type": "code",
      "metadata": {
        "id": "WrCtKFCJPjP-",
        "colab_type": "code",
        "colab": {}
      },
      "source": [
        "disc2.compile(loss=\"binary_crossentropy\", optimizer=\"adam\")\n",
        "disc2.trainable = False"
      ],
      "execution_count": 0,
      "outputs": []
    },
    {
      "cell_type": "code",
      "metadata": {
        "id": "S3Vk-RObPo5m",
        "colab_type": "code",
        "colab": {}
      },
      "source": [
        "GAN.compile(loss=\"binary_crossentropy\", optimizer=\"adam\")"
      ],
      "execution_count": 0,
      "outputs": []
    },
    {
      "cell_type": "code",
      "metadata": {
        "id": "qAeCeYy8PtL-",
        "colab_type": "code",
        "colab": {
          "base_uri": "https://localhost:8080/",
          "height": 34
        },
        "outputId": "2d05e506-8c96-4b4b-d8fc-f9bbf85a5c78"
      },
      "source": [
        "data = only_eights\n",
        "print(data.shape)\n",
        "dataset = None\n",
        "dataset = tf.data.Dataset.from_tensor_slices(data).shuffle(buffer_size=1000)\n",
        "dataset = dataset.batch(batch_size, drop_remainder=True).prefetch(1)"
      ],
      "execution_count": 137,
      "outputs": [
        {
          "output_type": "stream",
          "text": [
            "(5851, 28, 28, 1)\n"
          ],
          "name": "stdout"
        }
      ]
    },
    {
      "cell_type": "code",
      "metadata": {
        "id": "aNT1Cv28P5Wb",
        "colab_type": "code",
        "colab": {
          "base_uri": "https://localhost:8080/",
          "height": 34
        },
        "outputId": "3e0667cd-c4ae-4b0a-8f33-c755b1c237d1"
      },
      "source": [
        "epochs = 20\n",
        "dataset"
      ],
      "execution_count": 138,
      "outputs": [
        {
          "output_type": "execute_result",
          "data": {
            "text/plain": [
              "<PrefetchDataset shapes: (32, 28, 28, 1), types: tf.float64>"
            ]
          },
          "metadata": {
            "tags": []
          },
          "execution_count": 138
        }
      ]
    },
    {
      "cell_type": "code",
      "metadata": {
        "id": "NmOLyjo0P6Ym",
        "colab_type": "code",
        "colab": {
          "base_uri": "https://localhost:8080/",
          "height": 1000
        },
        "outputId": "cb9577ce-d597-4d15-8dbe-69800072aac1"
      },
      "source": [
        "# Grab the seprate components\n",
        "gen2, disc2 = GAN.layers\n",
        "\n",
        "# For every epcoh\n",
        "for epoch in range(epochs):\n",
        "    print(f\"Currently on Epoch {epoch+1}\")\n",
        "    i = 0\n",
        "    # For every batch in the dataset\n",
        "    for X_batch in dataset:\n",
        "        i=i+1\n",
        "        if i%20 == 0:\n",
        "            print(f\"\\tCurrently on batch number {i} of {len(data)//batch_size}\")\n",
        "        #####################################\n",
        "        ## TRAINING THE DISCRIMINATOR ######\n",
        "        ###################################\n",
        "        \n",
        "        # Create Noise\n",
        "        noise = tf.random.normal(shape=[batch_size, coding_size])\n",
        "        \n",
        "        # Generate numbers based just on noise input\n",
        "        gen_images = gen2(noise)       \n",
        "        \n",
        "        # Concatenate Generated Images against the Real Ones\n",
        "        # TO use tf.concat, the data types must match!\n",
        "        X_fake_vs_real = tf.concat([gen_images, tf.dtypes.cast(X_batch,tf.float32)], axis=0)\n",
        "        \n",
        "        # Targets set to zero for fake images and 1 for real images\n",
        "        y1 = tf.constant([[0.]] * batch_size + [[1.]] * batch_size)\n",
        "        \n",
        "        # This gets rid of a Keras warning\n",
        "        disc2.trainable = True\n",
        "        \n",
        "        # Train the discriminator on this batch\n",
        "        disc2.train_on_batch(X_fake_vs_real, y1)\n",
        "        \n",
        "        \n",
        "        #####################################\n",
        "        ## TRAINING THE GENERATOR     ######\n",
        "        ###################################\n",
        "        \n",
        "        # Create some noise\n",
        "        noise = tf.random.normal(shape=[batch_size, coding_size])\n",
        "        \n",
        "        # We want discriminator to belive that fake images are real\n",
        "        y2 = tf.constant([[1.]] * batch_size)\n",
        "        \n",
        "        # Avois a warning\n",
        "        disc2.trainable = False\n",
        "        \n",
        "        GAN.train_on_batch(noise, y2)\n",
        "        \n",
        "print(\"TRAINING COMPLETE\")            "
      ],
      "execution_count": 139,
      "outputs": [
        {
          "output_type": "stream",
          "text": [
            "Currently on Epoch 1\n",
            "\tCurrently on batch number 20 of 182\n",
            "\tCurrently on batch number 40 of 182\n",
            "\tCurrently on batch number 60 of 182\n",
            "\tCurrently on batch number 80 of 182\n",
            "\tCurrently on batch number 100 of 182\n",
            "\tCurrently on batch number 120 of 182\n",
            "\tCurrently on batch number 140 of 182\n",
            "\tCurrently on batch number 160 of 182\n",
            "\tCurrently on batch number 180 of 182\n",
            "Currently on Epoch 2\n",
            "\tCurrently on batch number 20 of 182\n",
            "\tCurrently on batch number 40 of 182\n",
            "\tCurrently on batch number 60 of 182\n",
            "\tCurrently on batch number 80 of 182\n",
            "\tCurrently on batch number 100 of 182\n",
            "\tCurrently on batch number 120 of 182\n",
            "\tCurrently on batch number 140 of 182\n",
            "\tCurrently on batch number 160 of 182\n",
            "\tCurrently on batch number 180 of 182\n",
            "Currently on Epoch 3\n",
            "\tCurrently on batch number 20 of 182\n",
            "\tCurrently on batch number 40 of 182\n",
            "\tCurrently on batch number 60 of 182\n",
            "\tCurrently on batch number 80 of 182\n",
            "\tCurrently on batch number 100 of 182\n",
            "\tCurrently on batch number 120 of 182\n",
            "\tCurrently on batch number 140 of 182\n",
            "\tCurrently on batch number 160 of 182\n",
            "\tCurrently on batch number 180 of 182\n",
            "Currently on Epoch 4\n",
            "\tCurrently on batch number 20 of 182\n",
            "\tCurrently on batch number 40 of 182\n",
            "\tCurrently on batch number 60 of 182\n",
            "\tCurrently on batch number 80 of 182\n",
            "\tCurrently on batch number 100 of 182\n",
            "\tCurrently on batch number 120 of 182\n",
            "\tCurrently on batch number 140 of 182\n",
            "\tCurrently on batch number 160 of 182\n",
            "\tCurrently on batch number 180 of 182\n",
            "Currently on Epoch 5\n",
            "\tCurrently on batch number 20 of 182\n",
            "\tCurrently on batch number 40 of 182\n",
            "\tCurrently on batch number 60 of 182\n",
            "\tCurrently on batch number 80 of 182\n",
            "\tCurrently on batch number 100 of 182\n",
            "\tCurrently on batch number 120 of 182\n",
            "\tCurrently on batch number 140 of 182\n",
            "\tCurrently on batch number 160 of 182\n",
            "\tCurrently on batch number 180 of 182\n",
            "Currently on Epoch 6\n",
            "\tCurrently on batch number 20 of 182\n",
            "\tCurrently on batch number 40 of 182\n",
            "\tCurrently on batch number 60 of 182\n",
            "\tCurrently on batch number 80 of 182\n",
            "\tCurrently on batch number 100 of 182\n",
            "\tCurrently on batch number 120 of 182\n",
            "\tCurrently on batch number 140 of 182\n",
            "\tCurrently on batch number 160 of 182\n",
            "\tCurrently on batch number 180 of 182\n",
            "Currently on Epoch 7\n",
            "\tCurrently on batch number 20 of 182\n",
            "\tCurrently on batch number 40 of 182\n",
            "\tCurrently on batch number 60 of 182\n",
            "\tCurrently on batch number 80 of 182\n",
            "\tCurrently on batch number 100 of 182\n",
            "\tCurrently on batch number 120 of 182\n",
            "\tCurrently on batch number 140 of 182\n",
            "\tCurrently on batch number 160 of 182\n",
            "\tCurrently on batch number 180 of 182\n",
            "Currently on Epoch 8\n",
            "\tCurrently on batch number 20 of 182\n",
            "\tCurrently on batch number 40 of 182\n",
            "\tCurrently on batch number 60 of 182\n",
            "\tCurrently on batch number 80 of 182\n",
            "\tCurrently on batch number 100 of 182\n",
            "\tCurrently on batch number 120 of 182\n",
            "\tCurrently on batch number 140 of 182\n",
            "\tCurrently on batch number 160 of 182\n",
            "\tCurrently on batch number 180 of 182\n",
            "Currently on Epoch 9\n",
            "\tCurrently on batch number 20 of 182\n",
            "\tCurrently on batch number 40 of 182\n",
            "\tCurrently on batch number 60 of 182\n",
            "\tCurrently on batch number 80 of 182\n",
            "\tCurrently on batch number 100 of 182\n",
            "\tCurrently on batch number 120 of 182\n",
            "\tCurrently on batch number 140 of 182\n",
            "\tCurrently on batch number 160 of 182\n",
            "\tCurrently on batch number 180 of 182\n",
            "Currently on Epoch 10\n",
            "\tCurrently on batch number 20 of 182\n",
            "\tCurrently on batch number 40 of 182\n",
            "\tCurrently on batch number 60 of 182\n",
            "\tCurrently on batch number 80 of 182\n",
            "\tCurrently on batch number 100 of 182\n",
            "\tCurrently on batch number 120 of 182\n",
            "\tCurrently on batch number 140 of 182\n",
            "\tCurrently on batch number 160 of 182\n",
            "\tCurrently on batch number 180 of 182\n",
            "Currently on Epoch 11\n",
            "\tCurrently on batch number 20 of 182\n",
            "\tCurrently on batch number 40 of 182\n",
            "\tCurrently on batch number 60 of 182\n",
            "\tCurrently on batch number 80 of 182\n",
            "\tCurrently on batch number 100 of 182\n",
            "\tCurrently on batch number 120 of 182\n",
            "\tCurrently on batch number 140 of 182\n",
            "\tCurrently on batch number 160 of 182\n",
            "\tCurrently on batch number 180 of 182\n",
            "Currently on Epoch 12\n",
            "\tCurrently on batch number 20 of 182\n",
            "\tCurrently on batch number 40 of 182\n",
            "\tCurrently on batch number 60 of 182\n",
            "\tCurrently on batch number 80 of 182\n",
            "\tCurrently on batch number 100 of 182\n",
            "\tCurrently on batch number 120 of 182\n",
            "\tCurrently on batch number 140 of 182\n",
            "\tCurrently on batch number 160 of 182\n",
            "\tCurrently on batch number 180 of 182\n",
            "Currently on Epoch 13\n",
            "\tCurrently on batch number 20 of 182\n",
            "\tCurrently on batch number 40 of 182\n",
            "\tCurrently on batch number 60 of 182\n",
            "\tCurrently on batch number 80 of 182\n",
            "\tCurrently on batch number 100 of 182\n",
            "\tCurrently on batch number 120 of 182\n",
            "\tCurrently on batch number 140 of 182\n",
            "\tCurrently on batch number 160 of 182\n",
            "\tCurrently on batch number 180 of 182\n",
            "Currently on Epoch 14\n",
            "\tCurrently on batch number 20 of 182\n",
            "\tCurrently on batch number 40 of 182\n",
            "\tCurrently on batch number 60 of 182\n",
            "\tCurrently on batch number 80 of 182\n",
            "\tCurrently on batch number 100 of 182\n",
            "\tCurrently on batch number 120 of 182\n",
            "\tCurrently on batch number 140 of 182\n",
            "\tCurrently on batch number 160 of 182\n",
            "\tCurrently on batch number 180 of 182\n",
            "Currently on Epoch 15\n",
            "\tCurrently on batch number 20 of 182\n",
            "\tCurrently on batch number 40 of 182\n",
            "\tCurrently on batch number 60 of 182\n",
            "\tCurrently on batch number 80 of 182\n",
            "\tCurrently on batch number 100 of 182\n",
            "\tCurrently on batch number 120 of 182\n",
            "\tCurrently on batch number 140 of 182\n",
            "\tCurrently on batch number 160 of 182\n",
            "\tCurrently on batch number 180 of 182\n",
            "Currently on Epoch 16\n",
            "\tCurrently on batch number 20 of 182\n",
            "\tCurrently on batch number 40 of 182\n",
            "\tCurrently on batch number 60 of 182\n",
            "\tCurrently on batch number 80 of 182\n",
            "\tCurrently on batch number 100 of 182\n",
            "\tCurrently on batch number 120 of 182\n",
            "\tCurrently on batch number 140 of 182\n",
            "\tCurrently on batch number 160 of 182\n",
            "\tCurrently on batch number 180 of 182\n",
            "Currently on Epoch 17\n",
            "\tCurrently on batch number 20 of 182\n",
            "\tCurrently on batch number 40 of 182\n",
            "\tCurrently on batch number 60 of 182\n",
            "\tCurrently on batch number 80 of 182\n",
            "\tCurrently on batch number 100 of 182\n",
            "\tCurrently on batch number 120 of 182\n",
            "\tCurrently on batch number 140 of 182\n",
            "\tCurrently on batch number 160 of 182\n",
            "\tCurrently on batch number 180 of 182\n",
            "Currently on Epoch 18\n",
            "\tCurrently on batch number 20 of 182\n",
            "\tCurrently on batch number 40 of 182\n",
            "\tCurrently on batch number 60 of 182\n",
            "\tCurrently on batch number 80 of 182\n",
            "\tCurrently on batch number 100 of 182\n",
            "\tCurrently on batch number 120 of 182\n",
            "\tCurrently on batch number 140 of 182\n",
            "\tCurrently on batch number 160 of 182\n",
            "\tCurrently on batch number 180 of 182\n",
            "Currently on Epoch 19\n",
            "\tCurrently on batch number 20 of 182\n",
            "\tCurrently on batch number 40 of 182\n",
            "\tCurrently on batch number 60 of 182\n",
            "\tCurrently on batch number 80 of 182\n",
            "\tCurrently on batch number 100 of 182\n",
            "\tCurrently on batch number 120 of 182\n",
            "\tCurrently on batch number 140 of 182\n",
            "\tCurrently on batch number 160 of 182\n",
            "\tCurrently on batch number 180 of 182\n",
            "Currently on Epoch 20\n",
            "\tCurrently on batch number 20 of 182\n",
            "\tCurrently on batch number 40 of 182\n",
            "\tCurrently on batch number 60 of 182\n",
            "\tCurrently on batch number 80 of 182\n",
            "\tCurrently on batch number 100 of 182\n",
            "\tCurrently on batch number 120 of 182\n",
            "\tCurrently on batch number 140 of 182\n",
            "\tCurrently on batch number 160 of 182\n",
            "\tCurrently on batch number 180 of 182\n",
            "TRAINING COMPLETE\n"
          ],
          "name": "stdout"
        }
      ]
    },
    {
      "cell_type": "code",
      "metadata": {
        "id": "dyMcxlo8QKeH",
        "colab_type": "code",
        "colab": {}
      },
      "source": [
        "noise = tf.random.normal(shape=[10, coding_size])"
      ],
      "execution_count": 0,
      "outputs": []
    },
    {
      "cell_type": "code",
      "metadata": {
        "id": "AVPcaMwpV4w3",
        "colab_type": "code",
        "colab": {
          "base_uri": "https://localhost:8080/",
          "height": 103
        },
        "outputId": "5f0b6535-59ce-44a5-f2c0-a2f53d29aa70"
      },
      "source": [
        "plt.imshow(noise)"
      ],
      "execution_count": 142,
      "outputs": [
        {
          "output_type": "execute_result",
          "data": {
            "text/plain": [
              "<matplotlib.image.AxesImage at 0x7f4bb443be10>"
            ]
          },
          "metadata": {
            "tags": []
          },
          "execution_count": 142
        },
        {
          "output_type": "display_data",
          "data": {
            "image/png": "[encoded data removed]",
            "text/plain": [
              "<Figure size 432x288 with 1 Axes>"
            ]
          },
          "metadata": {
            "tags": []
          }
        }
      ]
    },
    {
      "cell_type": "code",
      "metadata": {
        "id": "9c0QYC60V7Xf",
        "colab_type": "code",
        "colab": {}
      },
      "source": [
        "single_image = images[0]"
      ],
      "execution_count": 0,
      "outputs": []
    },
    {
      "cell_type": "code",
      "metadata": {
        "id": "eT298eHBV_OO",
        "colab_type": "code",
        "colab": {
          "base_uri": "https://localhost:8080/",
          "height": 1000
        },
        "outputId": "ccfdfc7a-ac86-4c7f-f1e1-cba82a1aded2"
      },
      "source": [
        "for image in images:\n",
        "    plt.imshow(image.numpy().reshape(28,28))\n",
        "    plt.show()"
      ],
      "execution_count": 144,
      "outputs": [
        {
          "output_type": "display_data",
          "data": {
            "image/png": "[encoded data removed]",
            "text/plain": [
              "<Figure size 432x288 with 1 Axes>"
            ]
          },
          "metadata": {
            "tags": []
          }
        },
        {
          "output_type": "display_data",
          "data": {
            "image/png": "[encoded data removed]",
            "text/plain": [
              "<Figure size 432x288 with 1 Axes>"
            ]
          },
          "metadata": {
            "tags": []
          }
        },
        {
          "output_type": "display_data",
          "data": {
            "image/png": "[encoded data removed]",
            "text/plain": [
              "<Figure size 432x288 with 1 Axes>"
            ]
          },
          "metadata": {
            "tags": []
          }
        },
        {
          "output_type": "display_data",
          "data": {
            "image/png": "[encoded data removed]",
            "text/plain": [
              "<Figure size 432x288 with 1 Axes>"
            ]
          },
          "metadata": {
            "tags": []
          }
        },
        {
          "output_type": "display_data",
          "data": {
            "image/png": "[encoded data removed]",
            "text/plain": [
              "<Figure size 432x288 with 1 Axes>"
            ]
          },
          "metadata": {
            "tags": []
          }
        },
        {
          "output_type": "display_data",
          "data": {
            "image/png": "[encoded data removed]",
            "text/plain": [
              "<Figure size 432x288 with 1 Axes>"
            ]
          },
          "metadata": {
            "tags": []
          }
        },
        {
          "output_type": "display_data",
          "data": {
            "image/png": "[encoded data removed]",
            "text/plain": [
              "<Figure size 432x288 with 1 Axes>"
            ]
          },
          "metadata": {
            "tags": []
          }
        },
        {
          "output_type": "display_data",
          "data": {
            "image/png": "[encoded data removed]",
            "text/plain": [
              "<Figure size 432x288 with 1 Axes>"
            ]
          },
          "metadata": {
            "tags": []
          }
        },
        {
          "output_type": "display_data",
          "data": {
            "image/png": "[encoded data removed]",
            "text/plain": [
              "<Figure size 432x288 with 1 Axes>"
            ]
          },
          "metadata": {
            "tags": []
          }
        },
        {
          "output_type": "display_data",
          "data": {
            "image/png": "[encoded data removed]",
            "text/plain": [
              "<Figure size 432x288 with 1 Axes>"
            ]
          },
          "metadata": {
            "tags": []
          }
        }
      ]
    },
    {
      "cell_type": "code",
      "metadata": {
        "id": "pPDPVTO-WGyv",
        "colab_type": "code",
        "colab": {}
      },
      "source": [
        ""
      ],
      "execution_count": 0,
      "outputs": []
    }
  ]
}