{
  "nbformat": 4,
  "nbformat_minor": 0,
  "metadata": {
    "colab": {
      "name": "101_Autoencoder_Exercice.ipynb",
      "provenance": [],
      "collapsed_sections": [],
      "authorship_tag": "ABX9TyM60lETZFkBtKv9RE3gcSom",
      "include_colab_link": true
    },
    "kernelspec": {
      "name": "python3",
      "display_name": "Python 3"
    }
  },
  "cells": [
    {
      "cell_type": "markdown",
      "metadata": {
        "id": "view-in-github",
        "colab_type": "text"
      },
      "source": [
        "<a href=\"https://colab.research.google.com/github/hugueds/tensorflow-course/blob/master/101_Autoencoder_Exercice.ipynb\" target=\"_parent\"><img src=\"https://colab.research.google.com/assets/colab-badge.svg\" alt=\"Open In Colab\"/></a>"
      ]
    },
    {
      "cell_type": "markdown",
      "metadata": {
        "id": "v9fS0R0IHCmZ",
        "colab_type": "text"
      },
      "source": [
        "## AUTOENCODER EXERCICE"
      ]
    },
    {
      "cell_type": "code",
      "metadata": {
        "id": "9EGJ1N4CHY_U",
        "colab_type": "code",
        "colab": {
          "base_uri": "https://localhost:8080/",
          "height": 34
        },
        "outputId": "f7725581-cebc-461e-f77f-7a396ee0a0d8"
      },
      "source": [
        "%tensorflow_version 2.x"
      ],
      "execution_count": 1,
      "outputs": [
        {
          "output_type": "stream",
          "text": [
            "TensorFlow 2.x selected.\n"
          ],
          "name": "stdout"
        }
      ]
    },
    {
      "cell_type": "code",
      "metadata": {
        "id": "YGBmTrjGHHwk",
        "colab_type": "code",
        "colab": {}
      },
      "source": [
        "import numpy as np\n",
        "import matplotlib.pyplot as plt\n",
        "import seaborn as sns\n",
        "import pandas as pd\n",
        "sns.set()"
      ],
      "execution_count": 0,
      "outputs": []
    },
    {
      "cell_type": "code",
      "metadata": {
        "id": "3Maxxi8dHYlN",
        "colab_type": "code",
        "colab": {
          "base_uri": "https://localhost:8080/",
          "height": 170
        },
        "outputId": "fbd43849-f600-4974-a063-d1dfe82f8602"
      },
      "source": [
        "df = pd.read_csv('UK_foods.csv', index_col='Unnamed: 0')\n",
        "df.info()"
      ],
      "execution_count": 64,
      "outputs": [
        {
          "output_type": "stream",
          "text": [
            "<class 'pandas.core.frame.DataFrame'>\n",
            "Index: 17 entries, Cheese to Confectionery \n",
            "Data columns (total 4 columns):\n",
            "England      17 non-null int64\n",
            "Wales        17 non-null int64\n",
            "Scotland     17 non-null int64\n",
            "N.Ireland    17 non-null int64\n",
            "dtypes: int64(4)\n",
            "memory usage: 680.0+ bytes\n"
          ],
          "name": "stdout"
        }
      ]
    },
    {
      "cell_type": "code",
      "metadata": {
        "id": "kVbs2tLTHYds",
        "colab_type": "code",
        "colab": {
          "base_uri": "https://localhost:8080/",
          "height": 391
        },
        "outputId": "b68a0b95-4de1-40eb-fe02-a3a37881f862"
      },
      "source": [
        "df = df.transpose()\n",
        "df.info()"
      ],
      "execution_count": 65,
      "outputs": [
        {
          "output_type": "stream",
          "text": [
            "<class 'pandas.core.frame.DataFrame'>\n",
            "Index: 4 entries, England to N.Ireland\n",
            "Data columns (total 17 columns):\n",
            "Cheese                 4 non-null int64\n",
            "Carcass_meat           4 non-null int64\n",
            "Other_meat             4 non-null int64\n",
            "Fish                   4 non-null int64\n",
            "Fats_and_oils          4 non-null int64\n",
            "Sugars                 4 non-null int64\n",
            "Fresh_potatoes         4 non-null int64\n",
            "Fresh_Veg              4 non-null int64\n",
            "Other_Veg              4 non-null int64\n",
            "Processed_potatoes     4 non-null int64\n",
            "Processed_Veg          4 non-null int64\n",
            "Fresh_fruit            4 non-null int64\n",
            "Cereals                4 non-null int64\n",
            "Beverages              4 non-null int64\n",
            "Soft_drinks            4 non-null int64\n",
            "Alcoholic_drinks       4 non-null int64\n",
            "Confectionery          4 non-null int64\n",
            "dtypes: int64(17)\n",
            "memory usage: 736.0+ bytes\n"
          ],
          "name": "stdout"
        }
      ]
    },
    {
      "cell_type": "code",
      "metadata": {
        "id": "JSLT8_IXHXId",
        "colab_type": "code",
        "colab": {
          "base_uri": "https://localhost:8080/",
          "height": 389
        },
        "outputId": "0c85e018-2348-472e-ade8-a358f8ce6a9d"
      },
      "source": [
        "sns.heatmap(df)"
      ],
      "execution_count": 66,
      "outputs": [
        {
          "output_type": "execute_result",
          "data": {
            "text/plain": [
              "<matplotlib.axes._subplots.AxesSubplot at 0x7f98e34e54a8>"
            ]
          },
          "metadata": {
            "tags": []
          },
          "execution_count": 66
        },
        {
          "output_type": "display_data",
          "data": {
            "image/png": "[encoded data removed]",
            "text/plain": [
              "<Figure size 432x288 with 2 Axes>"
            ]
          },
          "metadata": {
            "tags": []
          }
        }
      ]
    },
    {
      "cell_type": "code",
      "metadata": {
        "id": "HTcdyMEpIY3G",
        "colab_type": "code",
        "colab": {}
      },
      "source": [
        "from tensorflow.keras.models import Sequential\n",
        "from tensorflow.keras.layers import Dense , Flatten, Reshape\n",
        "from tensorflow.keras.optimizers import SGD"
      ],
      "execution_count": 0,
      "outputs": []
    },
    {
      "cell_type": "code",
      "metadata": {
        "id": "LcQzIiMFJYjG",
        "colab_type": "code",
        "colab": {}
      },
      "source": [
        "input_shape = 17"
      ],
      "execution_count": 0,
      "outputs": []
    },
    {
      "cell_type": "code",
      "metadata": {
        "id": "KkByvVmVJHa9",
        "colab_type": "code",
        "colab": {}
      },
      "source": [
        "encoder = Sequential()\n",
        "encoder.add(Dense(8, activation='relu', input_shape=[input_shape]))\n",
        "encoder.add(Dense(4, activation='relu'))\n",
        "encoder.add(Dense(2, activation='relu'))"
      ],
      "execution_count": 0,
      "outputs": []
    },
    {
      "cell_type": "code",
      "metadata": {
        "id": "jPAUWBXSJHzL",
        "colab_type": "code",
        "colab": {}
      },
      "source": [
        "decoder = Sequential()\n",
        "decoder.add(Dense(4, activation='relu', input_shape=[2]))\n",
        "decoder.add(Dense(8, activation='relu'))\n",
        "decoder.add(Dense(17, activation='relu'))"
      ],
      "execution_count": 0,
      "outputs": []
    },
    {
      "cell_type": "code",
      "metadata": {
        "id": "5Sn_NWoJJJRx",
        "colab_type": "code",
        "colab": {}
      },
      "source": [
        "autoencoder = Sequential([encoder, decoder])\n",
        "autoencoder.compile(loss='mse', optimizer=SGD(learning_rate=0.5))"
      ],
      "execution_count": 0,
      "outputs": []
    },
    {
      "cell_type": "code",
      "metadata": {
        "id": "f4VuIJR5JLdF",
        "colab_type": "code",
        "colab": {}
      },
      "source": [
        "from sklearn.preprocessing import MinMaxScaler"
      ],
      "execution_count": 0,
      "outputs": []
    },
    {
      "cell_type": "code",
      "metadata": {
        "id": "vGLWYFodJ4aK",
        "colab_type": "code",
        "colab": {}
      },
      "source": [
        "sc = MinMaxScaler()"
      ],
      "execution_count": 0,
      "outputs": []
    },
    {
      "cell_type": "code",
      "metadata": {
        "id": "ZEix2Zj5J5qJ",
        "colab_type": "code",
        "colab": {}
      },
      "source": [
        "scaled_df = sc.fit_transform(df)"
      ],
      "execution_count": 0,
      "outputs": []
    },
    {
      "cell_type": "code",
      "metadata": {
        "id": "D-khnj6iJ-Hh",
        "colab_type": "code",
        "colab": {
          "base_uri": "https://localhost:8080/",
          "height": 391
        },
        "outputId": "401ff98a-ad95-4269-d844-14585564fd8c"
      },
      "source": [
        "autoencoder.fit(scaled_df, scaled_df, epochs=10)"
      ],
      "execution_count": 75,
      "outputs": [
        {
          "output_type": "stream",
          "text": [
            "Train on 4 samples\n",
            "Epoch 1/10\n",
            "4/4 [==============================] - 0s 69ms/sample - loss: 0.4152\n",
            "Epoch 2/10\n",
            "4/4 [==============================] - 0s 801us/sample - loss: 0.3850\n",
            "Epoch 3/10\n",
            "4/4 [==============================] - 0s 891us/sample - loss: 0.3617\n",
            "Epoch 4/10\n",
            "4/4 [==============================] - 0s 1ms/sample - loss: 0.3436\n",
            "Epoch 5/10\n",
            "4/4 [==============================] - 0s 1ms/sample - loss: 0.3294\n",
            "Epoch 6/10\n",
            "4/4 [==============================] - 0s 878us/sample - loss: 0.3187\n",
            "Epoch 7/10\n",
            "4/4 [==============================] - 0s 884us/sample - loss: 0.3105\n",
            "Epoch 8/10\n",
            "4/4 [==============================] - 0s 1ms/sample - loss: 0.3043\n",
            "Epoch 9/10\n",
            "4/4 [==============================] - 0s 1ms/sample - loss: 0.2999\n",
            "Epoch 10/10\n",
            "4/4 [==============================] - 0s 754us/sample - loss: 0.2967\n"
          ],
          "name": "stdout"
        },
        {
          "output_type": "execute_result",
          "data": {
            "text/plain": [
              "<tensorflow.python.keras.callbacks.History at 0x7f98e2bde710>"
            ]
          },
          "metadata": {
            "tags": []
          },
          "execution_count": 75
        }
      ]
    },
    {
      "cell_type": "code",
      "metadata": {
        "id": "ohcaQZMhKaEG",
        "colab_type": "code",
        "colab": {}
      },
      "source": [
        "encoded_2dim = encoder.predict(scaled_df)"
      ],
      "execution_count": 0,
      "outputs": []
    },
    {
      "cell_type": "code",
      "metadata": {
        "id": "Ds3pquvkKe1G",
        "colab_type": "code",
        "colab": {
          "base_uri": "https://localhost:8080/",
          "height": 85
        },
        "outputId": "7b895eab-d033-47a5-e73d-f06b93e02a39"
      },
      "source": [
        "encoded_2dim"
      ],
      "execution_count": 77,
      "outputs": [
        {
          "output_type": "execute_result",
          "data": {
            "text/plain": [
              "array([[0.        , 0.9606956 ],\n",
              "       [0.        , 1.7607675 ],\n",
              "       [0.10632657, 1.0254604 ],\n",
              "       [0.29194772, 0.5587102 ]], dtype=float32)"
            ]
          },
          "metadata": {
            "tags": []
          },
          "execution_count": 77
        }
      ]
    },
    {
      "cell_type": "code",
      "metadata": {
        "id": "bNgqlpMcKfv9",
        "colab_type": "code",
        "colab": {
          "base_uri": "https://localhost:8080/",
          "height": 34
        },
        "outputId": "ae6dcc3e-1f00-4408-d1ee-e9f8a896be01"
      },
      "source": [
        "df.index"
      ],
      "execution_count": 78,
      "outputs": [
        {
          "output_type": "execute_result",
          "data": {
            "text/plain": [
              "Index(['England', 'Wales', 'Scotland', 'N.Ireland'], dtype='object')"
            ]
          },
          "metadata": {
            "tags": []
          },
          "execution_count": 78
        }
      ]
    },
    {
      "cell_type": "code",
      "metadata": {
        "id": "HVvm6Mt9KjqP",
        "colab_type": "code",
        "colab": {}
      },
      "source": [
        "res = pd.DataFrame(data=encoded_2dim, index=df.index, columns=['C1', 'C2'])\n",
        "res = res.reset_index()"
      ],
      "execution_count": 0,
      "outputs": []
    },
    {
      "cell_type": "code",
      "metadata": {
        "id": "gtwz1SzPKtdm",
        "colab_type": "code",
        "colab": {
          "base_uri": "https://localhost:8080/",
          "height": 302
        },
        "outputId": "51bb62b1-c85a-474a-9463-ed31f9493ee0"
      },
      "source": [
        "sns.scatterplot(x='C1', y='C2', data=res, hue='index')"
      ],
      "execution_count": 80,
      "outputs": [
        {
          "output_type": "execute_result",
          "data": {
            "text/plain": [
              "<matplotlib.axes._subplots.AxesSubplot at 0x7f98e22e52b0>"
            ]
          },
          "metadata": {
            "tags": []
          },
          "execution_count": 80
        },
        {
          "output_type": "display_data",
          "data": {
            "image/png": "[encoded data removed]",
            "text/plain": [
              "<Figure size 432x288 with 1 Axes>"
            ]
          },
          "metadata": {
            "tags": []
          }
        }
      ]
    },
    {
      "cell_type": "code",
      "metadata": {
        "id": "9UhIUsK9KzWa",
        "colab_type": "code",
        "colab": {
          "base_uri": "https://localhost:8080/",
          "height": 173
        },
        "outputId": "fce43567-aca1-4b4d-8187-763876c90592"
      },
      "source": [
        "res"
      ],
      "execution_count": 47,
      "outputs": [
        {
          "output_type": "execute_result",
          "data": {
            "text/html": [
              "<div>\n",
              "<style scoped>\n",
              "    .dataframe tbody tr th:only-of-type {\n",
              "        vertical-align: middle;\n",
              "    }\n",
              "\n",
              "    .dataframe tbody tr th {\n",
              "        vertical-align: top;\n",
              "    }\n",
              "\n",
              "    .dataframe thead th {\n",
              "        text-align: right;\n",
              "    }\n",
              "</style>\n",
              "<table border=\"1\" class=\"dataframe\">\n",
              "  <thead>\n",
              "    <tr style=\"text-align: right;\">\n",
              "      <th></th>\n",
              "      <th>C1</th>\n",
              "      <th>C2</th>\n",
              "    </tr>\n",
              "  </thead>\n",
              "  <tbody>\n",
              "    <tr>\n",
              "      <th>England</th>\n",
              "      <td>0.0</td>\n",
              "      <td>1.581454</td>\n",
              "    </tr>\n",
              "    <tr>\n",
              "      <th>Wales</th>\n",
              "      <td>0.0</td>\n",
              "      <td>1.884609</td>\n",
              "    </tr>\n",
              "    <tr>\n",
              "      <th>Scotland</th>\n",
              "      <td>0.0</td>\n",
              "      <td>1.012344</td>\n",
              "    </tr>\n",
              "    <tr>\n",
              "      <th>N.Ireland</th>\n",
              "      <td>0.0</td>\n",
              "      <td>1.099530</td>\n",
              "    </tr>\n",
              "  </tbody>\n",
              "</table>\n",
              "</div>"
            ],
            "text/plain": [
              "            C1        C2\n",
              "England    0.0  1.581454\n",
              "Wales      0.0  1.884609\n",
              "Scotland   0.0  1.012344\n",
              "N.Ireland  0.0  1.099530"
            ]
          },
          "metadata": {
            "tags": []
          },
          "execution_count": 47
        }
      ]
    },
    {
      "cell_type": "code",
      "metadata": {
        "id": "Ff95VFJrK3zh",
        "colab_type": "code",
        "colab": {}
      },
      "source": [
        ""
      ],
      "execution_count": 0,
      "outputs": []
    }
  ]
}