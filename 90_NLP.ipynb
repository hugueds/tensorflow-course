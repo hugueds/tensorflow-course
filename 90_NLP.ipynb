{
  "nbformat": 4,
  "nbformat_minor": 0,
  "metadata": {
    "colab": {
      "name": "90_NLP.ipynb",
      "provenance": [],
      "collapsed_sections": [],
      "authorship_tag": "ABX9TyPY4oHECmViDFxveUvgJ0Zx",
      "include_colab_link": true
    },
    "kernelspec": {
      "name": "python3",
      "display_name": "Python 3"
    },
    "accelerator": "GPU"
  },
  "cells": [
    {
      "cell_type": "markdown",
      "metadata": {
        "id": "view-in-github",
        "colab_type": "text"
      },
      "source": [
        "<a href=\"https://colab.research.google.com/github/hugueds/tensorflow-course/blob/master/90_NLP.ipynb\" target=\"_parent\"><img src=\"https://colab.research.google.com/assets/colab-badge.svg\" alt=\"Open In Colab\"/></a>"
      ]
    },
    {
      "cell_type": "markdown",
      "metadata": {
        "id": "FHM_yAVieAta",
        "colab_type": "text"
      },
      "source": [
        "## NLP NEURAL LANGUAGE PROCESSING"
      ]
    },
    {
      "cell_type": "code",
      "metadata": {
        "id": "t-RetTckyXR_",
        "colab_type": "code",
        "colab": {}
      },
      "source": [
        "%tensorflow_version 2.x\n",
        "import matplotlib.pyplot as plt\n",
        "import numpy as np \n",
        "import pandas as pd\n",
        "import tensorflow as tf"
      ],
      "execution_count": 0,
      "outputs": []
    },
    {
      "cell_type": "code",
      "metadata": {
        "id": "AF1OtZyx12uD",
        "colab_type": "code",
        "colab": {}
      },
      "source": [
        "text = open('shakespeare.txt', 'r').read()"
      ],
      "execution_count": 0,
      "outputs": []
    },
    {
      "cell_type": "code",
      "metadata": {
        "id": "Z4zqNeEk2_tf",
        "colab_type": "code",
        "colab": {}
      },
      "source": [
        "vocab = sorted(set(text))"
      ],
      "execution_count": 0,
      "outputs": []
    },
    {
      "cell_type": "code",
      "metadata": {
        "id": "BAYO90arddfU",
        "colab_type": "code",
        "colab": {}
      },
      "source": [
        "vocab_size = len(vocab)"
      ],
      "execution_count": 0,
      "outputs": []
    },
    {
      "cell_type": "code",
      "metadata": {
        "id": "d4eyQcRVdvVj",
        "colab_type": "code",
        "colab": {}
      },
      "source": [
        "char_to_num = {char:num for num, char in enumerate(vocab)}"
      ],
      "execution_count": 0,
      "outputs": []
    },
    {
      "cell_type": "code",
      "metadata": {
        "id": "A3shKplqeQt6",
        "colab_type": "code",
        "colab": {
          "base_uri": "https://localhost:8080/",
          "height": 34
        },
        "outputId": "ef18e9f9-01c0-47f3-c16e-cd1846f65334"
      },
      "source": [
        "char_to_num['Z']"
      ],
      "execution_count": 38,
      "outputs": [
        {
          "output_type": "execute_result",
          "data": {
            "text/plain": [
              "51"
            ]
          },
          "metadata": {
            "tags": []
          },
          "execution_count": 38
        }
      ]
    },
    {
      "cell_type": "code",
      "metadata": {
        "id": "pqzNaXDqeSaL",
        "colab_type": "code",
        "colab": {}
      },
      "source": [
        "num_to_char = np.array(vocab)"
      ],
      "execution_count": 0,
      "outputs": []
    },
    {
      "cell_type": "code",
      "metadata": {
        "id": "eihQRhPXepYs",
        "colab_type": "code",
        "colab": {
          "base_uri": "https://localhost:8080/",
          "height": 136
        },
        "outputId": "8640372a-d414-49e4-8d64-e2eedcc6fb8e"
      },
      "source": [
        "num_to_char"
      ],
      "execution_count": 40,
      "outputs": [
        {
          "output_type": "execute_result",
          "data": {
            "text/plain": [
              "array(['\\n', ' ', '!', '\"', '&', \"'\", '(', ')', ',', '-', '.', '0', '1',\n",
              "       '2', '3', '4', '5', '6', '7', '8', '9', ':', ';', '<', '>', '?',\n",
              "       'A', 'B', 'C', 'D', 'E', 'F', 'G', 'H', 'I', 'J', 'K', 'L', 'M',\n",
              "       'N', 'O', 'P', 'Q', 'R', 'S', 'T', 'U', 'V', 'W', 'X', 'Y', 'Z',\n",
              "       '[', ']', '_', '`', 'a', 'b', 'c', 'd', 'e', 'f', 'g', 'h', 'i',\n",
              "       'j', 'k', 'l', 'm', 'n', 'o', 'p', 'q', 'r', 's', 't', 'u', 'v',\n",
              "       'w', 'x', 'y', 'z', '|', '}'], dtype='<U1')"
            ]
          },
          "metadata": {
            "tags": []
          },
          "execution_count": 40
        }
      ]
    },
    {
      "cell_type": "code",
      "metadata": {
        "id": "BJycWGHfeqAK",
        "colab_type": "code",
        "colab": {}
      },
      "source": [
        "encoded_text = np.array([char_to_num[c] for c in text])"
      ],
      "execution_count": 0,
      "outputs": []
    },
    {
      "cell_type": "code",
      "metadata": {
        "id": "7Q3LA7Q_e1lR",
        "colab_type": "code",
        "colab": {
          "base_uri": "https://localhost:8080/",
          "height": 102
        },
        "outputId": "e708bee7-50bb-4dae-d3be-beadf6661d92"
      },
      "source": [
        "print(encoded_text[:100])"
      ],
      "execution_count": 42,
      "outputs": [
        {
          "output_type": "stream",
          "text": [
            "[ 0  1  1  1  1  1  1  1  1  1  1  1  1  1  1  1  1  1  1  1  1  1 12  0\n",
            "  1  1 31 73 70 68  1 61 56 64 73 60 74 75  1 58 73 60 56 75 76 73 60 74\n",
            "  1 78 60  1 59 60 74 64 73 60  1 64 69 58 73 60 56 74 60  8  0  1  1 45\n",
            " 63 56 75  1 75 63 60 73 60 57 80  1 57 60 56 76 75 80  5 74  1 73 70 74\n",
            " 60  1 68 64]\n"
          ],
          "name": "stdout"
        }
      ]
    },
    {
      "cell_type": "code",
      "metadata": {
        "id": "FkHa5Twhe3lp",
        "colab_type": "code",
        "colab": {
          "base_uri": "https://localhost:8080/",
          "height": 221
        },
        "outputId": "644442f8-ccfe-48e6-fc10-d892172ecbc6"
      },
      "source": [
        "print(text[50:500])\n",
        "lines = '''\n",
        "But thou contracted to thine own bright eyes,\n",
        "  Feed'st thy light's flame with self-substantial fuel,\n",
        "  Making a famine where abundance lies,\n",
        "  Thy self thy foe, to thy sweet self too cruel:\n",
        "'''\n",
        "len(lines)"
      ],
      "execution_count": 43,
      "outputs": [
        {
          "output_type": "stream",
          "text": [
            "e desire increase,\n",
            "  That thereby beauty's rose might never die,\n",
            "  But as the riper should by time decease,\n",
            "  His tender heir might bear his memory:\n",
            "  But thou contracted to thine own bright eyes,\n",
            "  Feed'st thy light's flame with self-substantial fuel,\n",
            "  Making a famine where abundance lies,\n",
            "  Thy self thy foe, to thy sweet self too cruel:\n",
            "  Thou that art now the world's fresh ornament,\n",
            "  And only herald to the gaudy spring,\n",
            "  Within thine own bu\n"
          ],
          "name": "stdout"
        },
        {
          "output_type": "execute_result",
          "data": {
            "text/plain": [
              "192"
            ]
          },
          "metadata": {
            "tags": []
          },
          "execution_count": 43
        }
      ]
    },
    {
      "cell_type": "code",
      "metadata": {
        "id": "2oAwYnT7gnAC",
        "colab_type": "code",
        "colab": {}
      },
      "source": [
        "seq_len = 180"
      ],
      "execution_count": 0,
      "outputs": []
    },
    {
      "cell_type": "code",
      "metadata": {
        "id": "R8dp9Ozug9uK",
        "colab_type": "code",
        "colab": {
          "base_uri": "https://localhost:8080/",
          "height": 34
        },
        "outputId": "5091e052-e94c-483e-9fda-b6927c9fe211"
      },
      "source": [
        "total_sequences = len(text) // (seq_len + 1)\n",
        "total_sequences"
      ],
      "execution_count": 45,
      "outputs": [
        {
          "output_type": "execute_result",
          "data": {
            "text/plain": [
              "30086"
            ]
          },
          "metadata": {
            "tags": []
          },
          "execution_count": 45
        }
      ]
    },
    {
      "cell_type": "code",
      "metadata": {
        "id": "Jti_7obPhC6S",
        "colab_type": "code",
        "colab": {}
      },
      "source": [
        "char_dataset = tf.data.Dataset.from_tensor_slices(encoded_text)"
      ],
      "execution_count": 0,
      "outputs": []
    },
    {
      "cell_type": "code",
      "metadata": {
        "id": "OQMqA4f4hMUZ",
        "colab_type": "code",
        "colab": {}
      },
      "source": [
        "# for item in char_dataset.take(500):\n",
        "#   print(num_to_char[item.numpy()])"
      ],
      "execution_count": 0,
      "outputs": []
    },
    {
      "cell_type": "code",
      "metadata": {
        "id": "waZstPughWpq",
        "colab_type": "code",
        "colab": {}
      },
      "source": [
        "sequences = char_dataset.batch(seq_len+1, drop_remainder=True)"
      ],
      "execution_count": 0,
      "outputs": []
    },
    {
      "cell_type": "code",
      "metadata": {
        "id": "SmARkvO5hiKu",
        "colab_type": "code",
        "colab": {}
      },
      "source": [
        "def create_seq_targets(seq):\n",
        "  input_text = seq[:-1]\n",
        "  target_text = seq[1:]\n",
        "  return input_text, target_text"
      ],
      "execution_count": 0,
      "outputs": []
    },
    {
      "cell_type": "code",
      "metadata": {
        "id": "Y7cdyA7Uhx20",
        "colab_type": "code",
        "colab": {}
      },
      "source": [
        "dataset = sequences.map(create_seq_targets)"
      ],
      "execution_count": 0,
      "outputs": []
    },
    {
      "cell_type": "code",
      "metadata": {
        "id": "6pLsoyRPh0-C",
        "colab_type": "code",
        "colab": {
          "base_uri": "https://localhost:8080/",
          "height": 442
        },
        "outputId": "5dd1282b-d72f-47b6-e4b1-84a739fab434"
      },
      "source": [
        "for input_text, target_text in dataset.take(1):\n",
        "  print(input_text.numpy())\n",
        "  print(\"\".join(num_to_char[input_text.numpy()]))\n",
        "  print('\\n')\n",
        "  print(target_text.numpy())\n",
        "  print('')"
      ],
      "execution_count": 51,
      "outputs": [
        {
          "output_type": "stream",
          "text": [
            "[ 0  1  1  1  1  1  1  1  1  1  1  1  1  1  1  1  1  1  1  1  1  1 12  0\n",
            "  1  1 31 73 70 68  1 61 56 64 73 60 74 75  1 58 73 60 56 75 76 73 60 74\n",
            "  1 78 60  1 59 60 74 64 73 60  1 64 69 58 73 60 56 74 60  8  0  1  1 45\n",
            " 63 56 75  1 75 63 60 73 60 57 80  1 57 60 56 76 75 80  5 74  1 73 70 74\n",
            " 60  1 68 64 62 63 75  1 69 60 77 60 73  1 59 64 60  8  0  1  1 27 76 75\n",
            "  1 56 74  1 75 63 60  1 73 64 71 60 73  1 74 63 70 76 67 59  1 57 80  1\n",
            " 75 64 68 60  1 59 60 58 60 56 74 60  8  0  1  1 33 64 74  1 75 60 69 59\n",
            " 60 73  1 63 60 64 73  1 68 64 62 63]\n",
            "\n",
            "                     1\n",
            "  From fairest creatures we desire increase,\n",
            "  That thereby beauty's rose might never die,\n",
            "  But as the riper should by time decease,\n",
            "  His tender heir migh\n",
            "\n",
            "\n",
            "[ 1  1  1  1  1  1  1  1  1  1  1  1  1  1  1  1  1  1  1  1  1 12  0  1\n",
            "  1 31 73 70 68  1 61 56 64 73 60 74 75  1 58 73 60 56 75 76 73 60 74  1\n",
            " 78 60  1 59 60 74 64 73 60  1 64 69 58 73 60 56 74 60  8  0  1  1 45 63\n",
            " 56 75  1 75 63 60 73 60 57 80  1 57 60 56 76 75 80  5 74  1 73 70 74 60\n",
            "  1 68 64 62 63 75  1 69 60 77 60 73  1 59 64 60  8  0  1  1 27 76 75  1\n",
            " 56 74  1 75 63 60  1 73 64 71 60 73  1 74 63 70 76 67 59  1 57 80  1 75\n",
            " 64 68 60  1 59 60 58 60 56 74 60  8  0  1  1 33 64 74  1 75 60 69 59 60\n",
            " 73  1 63 60 64 73  1 68 64 62 63 75]\n",
            "\n"
          ],
          "name": "stdout"
        }
      ]
    },
    {
      "cell_type": "code",
      "metadata": {
        "id": "-mUWsHSwiLC8",
        "colab_type": "code",
        "colab": {}
      },
      "source": [
        "batch_size = 200\n",
        "buffer_size = 10000\n",
        "\n",
        "dataset = dataset.shuffle(buffer_size).batch(batch_size, drop_remainder=True)"
      ],
      "execution_count": 0,
      "outputs": []
    },
    {
      "cell_type": "code",
      "metadata": {
        "id": "483FT-6YiiC6",
        "colab_type": "code",
        "colab": {}
      },
      "source": [
        "embed_dim = 64\n",
        "\n",
        "rnn_neurons = 1026"
      ],
      "execution_count": 0,
      "outputs": []
    },
    {
      "cell_type": "code",
      "metadata": {
        "id": "X9t6pF4Miiq5",
        "colab_type": "code",
        "colab": {}
      },
      "source": [
        "from tensorflow.keras.losses import sparse_categorical_crossentropy\n",
        "from tensorflow.keras.layers import Embedding, GRU, Dense\n",
        "from tensorflow.keras.models import Sequential"
      ],
      "execution_count": 0,
      "outputs": []
    },
    {
      "cell_type": "code",
      "metadata": {
        "id": "ByUUQ6FLjPqU",
        "colab_type": "code",
        "colab": {}
      },
      "source": [
        "def sparse_cat_loss(y_true, y_pred):\n",
        "  return sparse_categorical_crossentropy(y_true, y_pred, from_logits=True)"
      ],
      "execution_count": 0,
      "outputs": []
    },
    {
      "cell_type": "code",
      "metadata": {
        "id": "vCysM7aYjciy",
        "colab_type": "code",
        "colab": {}
      },
      "source": [
        "def create_model(vocab_size, embed_dim, rnn_neurons, batch_size):\n",
        "  model = Sequential()\n",
        "  model.add(Embedding(vocab_size, embed_dim, batch_input_shape=[batch_size, None]))\n",
        "  model.add(GRU(rnn_neurons, return_sequences=True, stateful=True, recurrent_initializer='glorot_uniform'))\n",
        "  model.add(Dense(vocab_size))\n",
        "  model.compile(optimizer='adam', loss=sparse_cat_loss)\n",
        "  return model"
      ],
      "execution_count": 0,
      "outputs": []
    },
    {
      "cell_type": "code",
      "metadata": {
        "id": "xr438lBipGyb",
        "colab_type": "code",
        "colab": {}
      },
      "source": [
        "model = create_model(vocab_size, embed_dim, rnn_neurons, batch_size)"
      ],
      "execution_count": 0,
      "outputs": []
    },
    {
      "cell_type": "code",
      "metadata": {
        "id": "znqfLX4xpOZa",
        "colab_type": "code",
        "colab": {
          "base_uri": "https://localhost:8080/",
          "height": 255
        },
        "outputId": "77245448-e4ff-49f2-feeb-07599e658409"
      },
      "source": [
        "model.summary()"
      ],
      "execution_count": 58,
      "outputs": [
        {
          "output_type": "stream",
          "text": [
            "Model: \"sequential_1\"\n",
            "_________________________________________________________________\n",
            "Layer (type)                 Output Shape              Param #   \n",
            "=================================================================\n",
            "embedding_1 (Embedding)      (200, None, 64)           5376      \n",
            "_________________________________________________________________\n",
            "gru_1 (GRU)                  (200, None, 1026)         3361176   \n",
            "_________________________________________________________________\n",
            "dense_1 (Dense)              (200, None, 84)           86268     \n",
            "=================================================================\n",
            "Total params: 3,452,820\n",
            "Trainable params: 3,452,820\n",
            "Non-trainable params: 0\n",
            "_________________________________________________________________\n"
          ],
          "name": "stdout"
        }
      ]
    },
    {
      "cell_type": "code",
      "metadata": {
        "id": "eLM-lKyHpl2T",
        "colab_type": "code",
        "colab": {}
      },
      "source": [
        "for input_example_batch, target_example_batch in dataset.take(1):\n",
        "  ex_batch_predictions = model(input_example_batch)"
      ],
      "execution_count": 0,
      "outputs": []
    },
    {
      "cell_type": "code",
      "metadata": {
        "id": "A9GKJFFTqqRi",
        "colab_type": "code",
        "colab": {}
      },
      "source": [
        "sample_indexes = tf.random.categorical(ex_batch_predictions[0], num_samples=1)"
      ],
      "execution_count": 0,
      "outputs": []
    },
    {
      "cell_type": "code",
      "metadata": {
        "id": "oGgWSARlqvFy",
        "colab_type": "code",
        "colab": {}
      },
      "source": [
        "sample_indexes = tf.squeeze(sample_indexes, axis=-1).numpy()"
      ],
      "execution_count": 0,
      "outputs": []
    },
    {
      "cell_type": "code",
      "metadata": {
        "id": "3f0vUSr_rX07",
        "colab_type": "code",
        "colab": {
          "base_uri": "https://localhost:8080/",
          "height": 204
        },
        "outputId": "427014d9-a303-494a-9b26-85dd87402ffd"
      },
      "source": [
        "sample_indexes"
      ],
      "execution_count": 71,
      "outputs": [
        {
          "output_type": "execute_result",
          "data": {
            "text/plain": [
              "array([ 0, 40, 40, 81, 76, 17,  1, 14,  1, 35, 11, 29, 50, 68, 51, 78, 19,\n",
              "       45, 32, 71,  8, 35, 46, 34, 59, 73, 38, 19, 54,  8, 73, 10, 36, 40,\n",
              "       76, 63, 23, 77, 37, 29, 76, 48, 68, 75, 55, 21,  4, 59, 30, 22, 22,\n",
              "       78,  9, 15, 43, 83, 71, 41, 42, 64, 58,  2, 60, 52, 25, 74, 44, 28,\n",
              "       10, 83, 62, 52, 48, 75, 82, 31, 26,  5, 72, 25,  1, 41, 26, 65, 65,\n",
              "       56, 65, 70, 45, 75, 71, 76, 26, 69, 31, 43, 32, 30, 27, 65, 24, 10,\n",
              "       12, 59, 22, 75, 48, 62, 82, 77, 27,  6, 53, 28, 14, 30, 20, 42, 22,\n",
              "       19, 54, 36, 56,  7, 56, 26, 70, 29, 38, 42, 68, 43, 17,  3,  5, 83,\n",
              "        1, 79, 41,  4,  7, 45, 53, 66, 53, 75, 65, 75, 17, 61, 52, 24, 10,\n",
              "       63, 38, 19, 57, 77,  1, 80, 29, 58,  4, 66, 22, 53, 70, 36, 33, 61,\n",
              "       66, 36, 29, 78, 22, 54, 15, 46, 81, 42])"
            ]
          },
          "metadata": {
            "tags": []
          },
          "execution_count": 71
        }
      ]
    },
    {
      "cell_type": "code",
      "metadata": {
        "id": "TrTFRsS3rY9S",
        "colab_type": "code",
        "colab": {
          "base_uri": "https://localhost:8080/",
          "height": 255
        },
        "outputId": "9bdb2784-3f20-4807-a519-cb449c5ef4ac"
      },
      "source": [
        "num_to_char[sample_indexes]"
      ],
      "execution_count": 72,
      "outputs": [
        {
          "output_type": "execute_result",
          "data": {
            "text/plain": [
              "array(['\\n', 'O', 'O', 'z', 'u', '6', ' ', '3', ' ', 'J', '0', 'D', 'Y',\n",
              "       'm', 'Z', 'w', '8', 'T', 'G', 'p', ',', 'J', 'U', 'I', 'd', 'r',\n",
              "       'M', '8', '_', ',', 'r', '.', 'K', 'O', 'u', 'h', '<', 'v', 'L',\n",
              "       'D', 'u', 'W', 'm', 't', '`', ':', '&', 'd', 'E', ';', ';', 'w',\n",
              "       '-', '4', 'R', '}', 'p', 'P', 'Q', 'i', 'c', '!', 'e', '[', '?',\n",
              "       's', 'S', 'C', '.', '}', 'g', '[', 'W', 't', '|', 'F', 'A', \"'\",\n",
              "       'q', '?', ' ', 'P', 'A', 'j', 'j', 'a', 'j', 'o', 'T', 't', 'p',\n",
              "       'u', 'A', 'n', 'F', 'R', 'G', 'E', 'B', 'j', '>', '.', '1', 'd',\n",
              "       ';', 't', 'W', 'g', '|', 'v', 'B', '(', ']', 'C', '3', 'E', '9',\n",
              "       'Q', ';', '8', '_', 'K', 'a', ')', 'a', 'A', 'o', 'D', 'M', 'Q',\n",
              "       'm', 'R', '6', '\"', \"'\", '}', ' ', 'x', 'P', '&', ')', 'T', ']',\n",
              "       'k', ']', 't', 'j', 't', '6', 'f', '[', '>', '.', 'h', 'M', '8',\n",
              "       'b', 'v', ' ', 'y', 'D', 'c', '&', 'k', ';', ']', 'o', 'K', 'H',\n",
              "       'f', 'k', 'K', 'D', 'w', ';', '_', '4', 'U', 'z', 'Q'], dtype='<U1')"
            ]
          },
          "metadata": {
            "tags": []
          },
          "execution_count": 72
        }
      ]
    },
    {
      "cell_type": "code",
      "metadata": {
        "id": "d-JoWiF8rkfp",
        "colab_type": "code",
        "colab": {
          "base_uri": "https://localhost:8080/",
          "height": 1000
        },
        "outputId": "88e58fb0-4f9f-4038-9378-29aa86f860f6"
      },
      "source": [
        "epochs = 30\n",
        "model.fit(dataset, epochs=epochs)"
      ],
      "execution_count": 74,
      "outputs": [
        {
          "output_type": "stream",
          "text": [
            "Train for 150 steps\n",
            "Epoch 1/30\n",
            "150/150 [==============================] - 54s 362ms/step - loss: 3.0293\n",
            "Epoch 2/30\n",
            "150/150 [==============================] - 52s 349ms/step - loss: 2.1491\n",
            "Epoch 3/30\n",
            "150/150 [==============================] - 53s 354ms/step - loss: 1.8591\n",
            "Epoch 4/30\n",
            "150/150 [==============================] - 53s 353ms/step - loss: 1.6421\n",
            "Epoch 5/30\n",
            "150/150 [==============================] - 53s 356ms/step - loss: 1.4932\n",
            "Epoch 6/30\n",
            "150/150 [==============================] - 53s 355ms/step - loss: 1.3977\n",
            "Epoch 7/30\n",
            "150/150 [==============================] - 53s 355ms/step - loss: 1.3338\n",
            "Epoch 8/30\n",
            "150/150 [==============================] - 53s 354ms/step - loss: 1.2887\n",
            "Epoch 9/30\n",
            "150/150 [==============================] - 53s 355ms/step - loss: 1.2540\n",
            "Epoch 10/30\n",
            "150/150 [==============================] - 53s 355ms/step - loss: 1.2270\n",
            "Epoch 11/30\n",
            "150/150 [==============================] - 53s 355ms/step - loss: 1.2040\n",
            "Epoch 12/30\n",
            "150/150 [==============================] - 53s 354ms/step - loss: 1.1843\n",
            "Epoch 13/30\n",
            "150/150 [==============================] - 53s 356ms/step - loss: 1.1675\n",
            "Epoch 14/30\n",
            "150/150 [==============================] - 53s 355ms/step - loss: 1.1521\n",
            "Epoch 15/30\n",
            "150/150 [==============================] - 53s 354ms/step - loss: 1.1380\n",
            "Epoch 16/30\n",
            "150/150 [==============================] - 53s 356ms/step - loss: 1.1254\n",
            "Epoch 17/30\n",
            "150/150 [==============================] - 53s 356ms/step - loss: 1.1134\n",
            "Epoch 18/30\n",
            "150/150 [==============================] - 53s 355ms/step - loss: 1.1023\n",
            "Epoch 19/30\n",
            "150/150 [==============================] - 53s 354ms/step - loss: 1.0914\n",
            "Epoch 20/30\n",
            "150/150 [==============================] - 53s 352ms/step - loss: 1.0809\n",
            "Epoch 21/30\n",
            "150/150 [==============================] - 53s 356ms/step - loss: 1.0706\n",
            "Epoch 22/30\n",
            "150/150 [==============================] - 53s 353ms/step - loss: 1.0604\n",
            "Epoch 23/30\n",
            "150/150 [==============================] - 53s 355ms/step - loss: 1.0509\n",
            "Epoch 24/30\n",
            "150/150 [==============================] - 53s 354ms/step - loss: 1.0409\n",
            "Epoch 25/30\n",
            "150/150 [==============================] - 53s 356ms/step - loss: 1.0315\n",
            "Epoch 26/30\n",
            "150/150 [==============================] - 53s 355ms/step - loss: 1.0216\n",
            "Epoch 27/30\n",
            "150/150 [==============================] - 53s 355ms/step - loss: 1.0127\n",
            "Epoch 28/30\n",
            "150/150 [==============================] - 54s 357ms/step - loss: 1.0037\n",
            "Epoch 29/30\n",
            "150/150 [==============================] - 53s 354ms/step - loss: 0.9942\n",
            "Epoch 30/30\n",
            "150/150 [==============================] - 53s 354ms/step - loss: 0.9849\n"
          ],
          "name": "stdout"
        },
        {
          "output_type": "execute_result",
          "data": {
            "text/plain": [
              "<tensorflow.python.keras.callbacks.History at 0x7f3373d7ed68>"
            ]
          },
          "metadata": {
            "tags": []
          },
          "execution_count": 74
        }
      ]
    },
    {
      "cell_type": "code",
      "metadata": {
        "id": "i9B36akru6Ub",
        "colab_type": "code",
        "colab": {}
      },
      "source": [
        "model.save('test.h5')"
      ],
      "execution_count": 0,
      "outputs": []
    },
    {
      "cell_type": "code",
      "metadata": {
        "id": "7LKvZI0Qrw0S",
        "colab_type": "code",
        "colab": {}
      },
      "source": [
        "model_2 = create_model(vocab_size, embed_dim, rnn_neurons, batch_size=1)\n",
        "model_2.load_weights('test.h5')\n",
        "model_2.build(tf.TensorShape([1, None]))"
      ],
      "execution_count": 0,
      "outputs": []
    },
    {
      "cell_type": "code",
      "metadata": {
        "id": "nqPUjFAjx8GN",
        "colab_type": "code",
        "colab": {}
      },
      "source": [
        "def gen_text(model, start_seed, gen_size=500, temp=1.0):\n",
        "\n",
        "  num_gen = gen_size\n",
        "  input_eval = [char_to_num[s] for s in start_seed]\n",
        "\n",
        "  input_eval = tf.expand_dims(input_eval, 0)\n",
        "  text_gen = []\n",
        "\n",
        "  temperature = temp\n",
        "  model.reset_states()\n",
        "\n",
        "  for i in range(num_gen):\n",
        "\n",
        "    pred = model(input_eval)\n",
        "    pred = tf.squeeze(pred, 0)\n",
        "    pred = pred / temperature\n",
        "    pred_id = tf.random.categorical(pred, num_samples=1)[-1,0].numpy()\n",
        "\n",
        "    input_eval = tf.expand_dims([pred_id], 0)\n",
        "\n",
        "    text_gen.append(num_to_char[pred_id])\n",
        "\n",
        "  return (start_seed + ''.join(text_gen))\n",
        "\n"
      ],
      "execution_count": 0,
      "outputs": []
    },
    {
      "cell_type": "code",
      "metadata": {
        "id": "85NIabYcz5Hx",
        "colab_type": "code",
        "colab": {
          "base_uri": "https://localhost:8080/",
          "height": 547
        },
        "outputId": "3b1af2d4-f4f1-4f9f-9bf1-6f0198e113da"
      },
      "source": [
        "print(gen_text(model_2, 'test', gen_size=1500))"
      ],
      "execution_count": 91,
      "outputs": [
        {
          "output_type": "stream",
          "text": [
            "test,  \n",
            "    Win of it edgels, pound him in his blest,\n",
            "    The noble marnelly in Withol I never believ'd this, sir;\n",
            "    And to the  lord you    Her yet appears in herbs have seen your faght hostessators\n",
            "   For she for't. That, his father heard it fist,  \n",
            "    To hang him out. Alas, I seem to hook;\n",
            "    I know but not prophetical posies\n",
            "    That any minute all other more kissing- but doth make pause approach'd?\n",
            "  FERDINAND. The snd!\n",
            "  GLOUCESTER. Then you are cordial; Morton. Who knows not you strong?\n",
            "    Why do you know. But to this careful damn- a man of this.\n",
            "    Truitor the beats of hell!\n",
            "  KATHARINE. Did the  'Yea, dumb shall dry?\n",
            "  OTHELLO. Even here I sent the knave to offer.\n",
            "  Jul. Go, get thee gone, sir.\n",
            "  EGABELLA. Yes, Claudio.\n",
            "  Pedro. God hence! If she did possess, Chidial, sir, gratingly\n",
            "    That he that parte the twain! No hope forget how to hear.\n",
            "                                                               Exit FABIAN\n",
            "\n",
            "  MARIA. Hans of day in him; he's a thousand coining straight.\n",
            "    I saw him for his mercy on your charge.\n",
            "    Now, if you do, since sight you trust me\n",
            "    toendly pity may above thy heart. So, for the knave\n",
            "    offer to drtice.\n",
            "  Ros. Sith that same intercepter, thou canst not say.\n",
            "  Pol. Ay, madam, I hear they love.            [Sweet Northumberland, bratch him               Ne'er see a man more plaguing gett master Caesar would\n",
            "    have an erral beat the plague of wit, so it standing, orbed\n",
            "    value\n",
            "    Does indect the latter traitor to your royal.\n"
          ],
          "name": "stdout"
        }
      ]
    },
    {
      "cell_type": "code",
      "metadata": {
        "id": "TlM3wRZj0Jd5",
        "colab_type": "code",
        "colab": {}
      },
      "source": [
        ""
      ],
      "execution_count": 0,
      "outputs": []
    }
  ]
}