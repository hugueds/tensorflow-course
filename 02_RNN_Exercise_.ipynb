{
  "nbformat": 4,
  "nbformat_minor": 0,
  "metadata": {
    "kernelspec": {
      "display_name": "Python 3",
      "language": "python",
      "name": "python3"
    },
    "language_info": {
      "codemirror_mode": {
        "name": "ipython",
        "version": 3
      },
      "file_extension": ".py",
      "mimetype": "text/x-python",
      "name": "python",
      "nbconvert_exporter": "python",
      "pygments_lexer": "ipython3",
      "version": "3.7.4"
    },
    "colab": {
      "name": "02-RNN-Exercise .ipynb",
      "provenance": [],
      "collapsed_sections": [],
      "include_colab_link": true
    }
  },
  "cells": [
    {
      "cell_type": "markdown",
      "metadata": {
        "id": "view-in-github",
        "colab_type": "text"
      },
      "source": [
        "<a href=\"https://colab.research.google.com/github/hugueds/tensorflow-course/blob/master/02_RNN_Exercise_.ipynb\" target=\"_parent\"><img src=\"https://colab.research.google.com/assets/colab-badge.svg\" alt=\"Open In Colab\"/></a>"
      ]
    },
    {
      "cell_type": "markdown",
      "metadata": {
        "id": "8VjiOZkyjlmk",
        "colab_type": "text"
      },
      "source": [
        "___\n",
        "\n",
        "<a href='http://www.pieriandata.com'><img src='../Pierian_Data_Logo.png'/></a>\n",
        "___\n",
        "<center><em>Copyright Pierian Data</em></center>\n",
        "<center><em>For more information, visit us at <a href='http://www.pieriandata.com'>www.pieriandata.com</a></em></center>\n",
        "\n",
        "# RNN Exercise"
      ]
    },
    {
      "cell_type": "markdown",
      "metadata": {
        "id": "91BcV679jlmn",
        "colab_type": "text"
      },
      "source": [
        "**TASK: IMPORT THE BASIC LIBRARIES YOU THINK YOU WILL USE**"
      ]
    },
    {
      "cell_type": "code",
      "metadata": {
        "id": "RD418Wy7jlmo",
        "colab_type": "code",
        "colab": {
          "base_uri": "https://localhost:8080/",
          "height": 102
        },
        "outputId": "2aeca172-0aa8-4d14-9b85-78858a6d74bb"
      },
      "source": [
        "%tensorflow_version 2\n",
        "import matplotlib.pyplot as plt\n",
        "import pandas as pd\n",
        "import numpy as np\n",
        "import tensorflow as tf"
      ],
      "execution_count": 155,
      "outputs": [
        {
          "output_type": "stream",
          "text": [
            "`%tensorflow_version` only switches the major version: `1.x` or `2.x`.\n",
            "You set: `2`. This will be interpreted as: `2.x`.\n",
            "\n",
            "\n",
            "TensorFlow is already loaded. Please restart the runtime to change versions.\n"
          ],
          "name": "stdout"
        }
      ]
    },
    {
      "cell_type": "code",
      "metadata": {
        "id": "5zZmAZCdrSCV",
        "colab_type": "code",
        "colab": {}
      },
      "source": [
        "from sklearn.preprocessing import MinMaxScaler\n",
        "from tensorflow.keras.preprocessing.sequence import TimeseriesGenerator\n",
        "from tensorflow.keras.models import Sequential\n",
        "from tensorflow.keras.layers import Dense, SimpleRNN, LSTM, Dropout\n",
        "from tensorflow.keras.callbacks import EarlyStopping"
      ],
      "execution_count": 0,
      "outputs": []
    },
    {
      "cell_type": "markdown",
      "metadata": {
        "id": "PSr16jKzjlmt",
        "colab_type": "text"
      },
      "source": [
        "## Data\n",
        "\n",
        "Info about this data set: https://fred.stlouisfed.org/series/IPN31152N\n",
        "\n",
        "\n",
        "Units:  Index 2012=100, Not Seasonally Adjusted\n",
        "\n",
        "Frequency:  Monthly\n",
        "\n",
        "The industrial production (IP) index measures the real output of all relevant establishments located in the United States, regardless of their ownership, but not those located in U.S. territories.\n",
        "\n",
        "NAICS = 31152\n",
        "\n",
        "Source Code: IP.N31152.N\n",
        "\n",
        "Suggested Citation:\n",
        "Board of Governors of the Federal Reserve System (US), Industrial Production: Nondurable Goods: Ice cream and frozen dessert [IPN31152N], retrieved from FRED, Federal Reserve Bank of St. Louis; https://fred.stlouisfed.org/series/IPN31152N, November 16, 2019.\n",
        "\n",
        "# Project Tasks\n",
        "\n",
        "**TASK: Read in the data set \"Frozen_Dessert_Production.csv\" from the Data folder. Figure out how to set the date to a datetime index columns**"
      ]
    },
    {
      "cell_type": "code",
      "metadata": {
        "id": "CuevceM0jlmu",
        "colab_type": "code",
        "colab": {}
      },
      "source": [
        "data = pd.read_csv('Frozen_Dessert_Production.csv', parse_dates=True, index_col='DATE')"
      ],
      "execution_count": 0,
      "outputs": []
    },
    {
      "cell_type": "code",
      "metadata": {
        "id": "2-sBQ69hjlmx",
        "colab_type": "code",
        "colab": {
          "base_uri": "https://localhost:8080/",
          "height": 119
        },
        "outputId": "d14008e4-61c5-44ec-8ad4-0b01dc3cc631"
      },
      "source": [
        "data.info()"
      ],
      "execution_count": 158,
      "outputs": [
        {
          "output_type": "stream",
          "text": [
            "<class 'pandas.core.frame.DataFrame'>\n",
            "DatetimeIndex: 573 entries, 1972-01-01 to 2019-09-01\n",
            "Data columns (total 1 columns):\n",
            "IPN31152N    573 non-null float64\n",
            "dtypes: float64(1)\n",
            "memory usage: 9.0 KB\n"
          ],
          "name": "stdout"
        }
      ]
    },
    {
      "cell_type": "code",
      "metadata": {
        "id": "TG6YDhWljlm0",
        "colab_type": "code",
        "colab": {
          "base_uri": "https://localhost:8080/",
          "height": 235
        },
        "outputId": "b690a21c-0b44-4b06-d29e-13348f872a25"
      },
      "source": [
        "data.tail()"
      ],
      "execution_count": 159,
      "outputs": [
        {
          "output_type": "execute_result",
          "data": {
            "text/html": [
              "<div>\n",
              "<style scoped>\n",
              "    .dataframe tbody tr th:only-of-type {\n",
              "        vertical-align: middle;\n",
              "    }\n",
              "\n",
              "    .dataframe tbody tr th {\n",
              "        vertical-align: top;\n",
              "    }\n",
              "\n",
              "    .dataframe thead th {\n",
              "        text-align: right;\n",
              "    }\n",
              "</style>\n",
              "<table border=\"1\" class=\"dataframe\">\n",
              "  <thead>\n",
              "    <tr style=\"text-align: right;\">\n",
              "      <th></th>\n",
              "      <th>IPN31152N</th>\n",
              "    </tr>\n",
              "    <tr>\n",
              "      <th>DATE</th>\n",
              "      <th></th>\n",
              "    </tr>\n",
              "  </thead>\n",
              "  <tbody>\n",
              "    <tr>\n",
              "      <th>2019-05-01</th>\n",
              "      <td>114.5613</td>\n",
              "    </tr>\n",
              "    <tr>\n",
              "      <th>2019-06-01</th>\n",
              "      <td>124.9605</td>\n",
              "    </tr>\n",
              "    <tr>\n",
              "      <th>2019-07-01</th>\n",
              "      <td>110.2632</td>\n",
              "    </tr>\n",
              "    <tr>\n",
              "      <th>2019-08-01</th>\n",
              "      <td>102.6085</td>\n",
              "    </tr>\n",
              "    <tr>\n",
              "      <th>2019-09-01</th>\n",
              "      <td>101.5866</td>\n",
              "    </tr>\n",
              "  </tbody>\n",
              "</table>\n",
              "</div>"
            ],
            "text/plain": [
              "            IPN31152N\n",
              "DATE                 \n",
              "2019-05-01   114.5613\n",
              "2019-06-01   124.9605\n",
              "2019-07-01   110.2632\n",
              "2019-08-01   102.6085\n",
              "2019-09-01   101.5866"
            ]
          },
          "metadata": {
            "tags": []
          },
          "execution_count": 159
        }
      ]
    },
    {
      "cell_type": "markdown",
      "metadata": {
        "id": "ZFNQqKeUjlm4",
        "colab_type": "text"
      },
      "source": [
        "**Task: Change the column name to Production**"
      ]
    },
    {
      "cell_type": "code",
      "metadata": {
        "id": "OhP_xyiCjlm5",
        "colab_type": "code",
        "colab": {}
      },
      "source": [
        "data.columns = ['Production']"
      ],
      "execution_count": 0,
      "outputs": []
    },
    {
      "cell_type": "code",
      "metadata": {
        "id": "DMmLi0-njlm9",
        "colab_type": "code",
        "colab": {
          "base_uri": "https://localhost:8080/",
          "height": 235
        },
        "outputId": "504b0042-9c35-4fe8-86a3-132caca9ed17"
      },
      "source": [
        "data.tail()"
      ],
      "execution_count": 161,
      "outputs": [
        {
          "output_type": "execute_result",
          "data": {
            "text/html": [
              "<div>\n",
              "<style scoped>\n",
              "    .dataframe tbody tr th:only-of-type {\n",
              "        vertical-align: middle;\n",
              "    }\n",
              "\n",
              "    .dataframe tbody tr th {\n",
              "        vertical-align: top;\n",
              "    }\n",
              "\n",
              "    .dataframe thead th {\n",
              "        text-align: right;\n",
              "    }\n",
              "</style>\n",
              "<table border=\"1\" class=\"dataframe\">\n",
              "  <thead>\n",
              "    <tr style=\"text-align: right;\">\n",
              "      <th></th>\n",
              "      <th>Production</th>\n",
              "    </tr>\n",
              "    <tr>\n",
              "      <th>DATE</th>\n",
              "      <th></th>\n",
              "    </tr>\n",
              "  </thead>\n",
              "  <tbody>\n",
              "    <tr>\n",
              "      <th>2019-05-01</th>\n",
              "      <td>114.5613</td>\n",
              "    </tr>\n",
              "    <tr>\n",
              "      <th>2019-06-01</th>\n",
              "      <td>124.9605</td>\n",
              "    </tr>\n",
              "    <tr>\n",
              "      <th>2019-07-01</th>\n",
              "      <td>110.2632</td>\n",
              "    </tr>\n",
              "    <tr>\n",
              "      <th>2019-08-01</th>\n",
              "      <td>102.6085</td>\n",
              "    </tr>\n",
              "    <tr>\n",
              "      <th>2019-09-01</th>\n",
              "      <td>101.5866</td>\n",
              "    </tr>\n",
              "  </tbody>\n",
              "</table>\n",
              "</div>"
            ],
            "text/plain": [
              "            Production\n",
              "DATE                  \n",
              "2019-05-01    114.5613\n",
              "2019-06-01    124.9605\n",
              "2019-07-01    110.2632\n",
              "2019-08-01    102.6085\n",
              "2019-09-01    101.5866"
            ]
          },
          "metadata": {
            "tags": []
          },
          "execution_count": 161
        }
      ]
    },
    {
      "cell_type": "markdown",
      "metadata": {
        "id": "q8XUGV2wjlnF",
        "colab_type": "text"
      },
      "source": [
        "**TASK: Plot out the time series**"
      ]
    },
    {
      "cell_type": "code",
      "metadata": {
        "id": "PPIr9jDOjlnG",
        "colab_type": "code",
        "colab": {
          "base_uri": "https://localhost:8080/",
          "height": 351
        },
        "outputId": "b5446e77-9008-4dd2-94cb-3727ecc969f6"
      },
      "source": [
        "data.plot(figsize=(12,5))"
      ],
      "execution_count": 162,
      "outputs": [
        {
          "output_type": "execute_result",
          "data": {
            "text/plain": [
              "<matplotlib.axes._subplots.AxesSubplot at 0x7fed5fe437f0>"
            ]
          },
          "metadata": {
            "tags": []
          },
          "execution_count": 162
        },
        {
          "output_type": "display_data",
          "data": {
            "image/png": "[encoded data removed]",
            "text/plain": [
              "<Figure size 864x360 with 1 Axes>"
            ]
          },
          "metadata": {
            "tags": []
          }
        }
      ]
    },
    {
      "cell_type": "markdown",
      "metadata": {
        "id": "5NkvLdLJjlnO",
        "colab_type": "text"
      },
      "source": [
        "## Train Test Split"
      ]
    },
    {
      "cell_type": "markdown",
      "metadata": {
        "id": "FiJy-F4TjlnP",
        "colab_type": "text"
      },
      "source": [
        "**TASK: Figure out the length of the data set**"
      ]
    },
    {
      "cell_type": "code",
      "metadata": {
        "id": "ZX1KpZekjlnQ",
        "colab_type": "code",
        "colab": {
          "base_uri": "https://localhost:8080/",
          "height": 34
        },
        "outputId": "39368f91-a1f0-48b7-da03-92d236e0f762"
      },
      "source": [
        "df = data\n",
        "len(df)"
      ],
      "execution_count": 163,
      "outputs": [
        {
          "output_type": "execute_result",
          "data": {
            "text/plain": [
              "573"
            ]
          },
          "metadata": {
            "tags": []
          },
          "execution_count": 163
        }
      ]
    },
    {
      "cell_type": "markdown",
      "metadata": {
        "id": "16TGS_vjjlnU",
        "colab_type": "text"
      },
      "source": [
        "**TASK: Split the data into a train/test split where the test set is the last 24 months of data.**"
      ]
    },
    {
      "cell_type": "code",
      "metadata": {
        "id": "RkJHqWtyjlnV",
        "colab_type": "code",
        "colab": {}
      },
      "source": [
        "test_size = 36\n",
        "test_index = len(df) - test_size"
      ],
      "execution_count": 0,
      "outputs": []
    },
    {
      "cell_type": "code",
      "metadata": {
        "id": "b4emS7mPjlnY",
        "colab_type": "code",
        "colab": {}
      },
      "source": [
        "train = df.iloc[:test_index]\n",
        "test = df.iloc[test_index:]"
      ],
      "execution_count": 0,
      "outputs": []
    },
    {
      "cell_type": "markdown",
      "metadata": {
        "id": "XM9-ua3Cjlnh",
        "colab_type": "text"
      },
      "source": [
        "## Scale Data"
      ]
    },
    {
      "cell_type": "markdown",
      "metadata": {
        "id": "p9wz8VWqjlni",
        "colab_type": "text"
      },
      "source": [
        "**TASK: Use a MinMaxScaler to scale the train and test sets into scaled versions.**"
      ]
    },
    {
      "cell_type": "code",
      "metadata": {
        "id": "bso5PY_ujlnj",
        "colab_type": "code",
        "colab": {
          "base_uri": "https://localhost:8080/",
          "height": 34
        },
        "outputId": "854d141d-b2dd-4b69-cdfb-5498bf4ba66f"
      },
      "source": [
        "scaler = MinMaxScaler()\n",
        "scaler.fit(train)"
      ],
      "execution_count": 166,
      "outputs": [
        {
          "output_type": "execute_result",
          "data": {
            "text/plain": [
              "MinMaxScaler(copy=True, feature_range=(0, 1))"
            ]
          },
          "metadata": {
            "tags": []
          },
          "execution_count": 166
        }
      ]
    },
    {
      "cell_type": "code",
      "metadata": {
        "id": "CT-6Vav7jlnl",
        "colab_type": "code",
        "colab": {}
      },
      "source": [
        "scaled_train = scaler.transform(train)\n",
        "scaled_test = scaler.transform(test)"
      ],
      "execution_count": 0,
      "outputs": []
    },
    {
      "cell_type": "markdown",
      "metadata": {
        "id": "HPpaOiNXjlnv",
        "colab_type": "text"
      },
      "source": [
        "# Time Series Generator\n",
        "\n",
        "**TASK: Create a TimeSeriesGenerator object based off the scaled_train data. The batch length is up to you, but at a minimum it should be at least 18 to capture a full year seasonality.**"
      ]
    },
    {
      "cell_type": "code",
      "metadata": {
        "id": "3AIeJ7Ybjlnw",
        "colab_type": "code",
        "colab": {}
      },
      "source": [
        "length = 12\n",
        "n_features = 1\n",
        "generator = TimeseriesGenerator(scaled_train, scaled_train, length=length, batch_size=1)\n",
        "val_generator = TimeseriesGenerator(scaled_test, scaled_test, length=length, batch_size=1)"
      ],
      "execution_count": 0,
      "outputs": []
    },
    {
      "cell_type": "markdown",
      "metadata": {
        "id": "Wh0HodEQjln2",
        "colab_type": "text"
      },
      "source": [
        "### Create the Model\n",
        "\n",
        "**TASK: Create a Keras Sequential Model with as many LSTM units you want and a final Dense Layer.**"
      ]
    },
    {
      "cell_type": "code",
      "metadata": {
        "id": "0QPEZ65ajln5",
        "colab_type": "code",
        "colab": {}
      },
      "source": [
        "model = Sequential()"
      ],
      "execution_count": 0,
      "outputs": []
    },
    {
      "cell_type": "code",
      "metadata": {
        "id": "gWcpm47Xjln7",
        "colab_type": "code",
        "colab": {
          "base_uri": "https://localhost:8080/",
          "height": 221
        },
        "outputId": "e7b4b471-95ab-4d1f-a3ee-0d895bdb8a54"
      },
      "source": [
        "model.add(LSTM(128, activation='relu', input_shape=(length, n_features)))\n",
        "model.add(Dense(1))\n",
        "model.compile(optimizer='adam', loss='mse')\n",
        "model.summary()"
      ],
      "execution_count": 170,
      "outputs": [
        {
          "output_type": "stream",
          "text": [
            "Model: \"sequential_4\"\n",
            "_________________________________________________________________\n",
            "Layer (type)                 Output Shape              Param #   \n",
            "=================================================================\n",
            "lstm_4 (LSTM)                (None, 128)               66560     \n",
            "_________________________________________________________________\n",
            "dense_4 (Dense)              (None, 1)                 129       \n",
            "=================================================================\n",
            "Total params: 66,689\n",
            "Trainable params: 66,689\n",
            "Non-trainable params: 0\n",
            "_________________________________________________________________\n"
          ],
          "name": "stdout"
        }
      ]
    },
    {
      "cell_type": "markdown",
      "metadata": {
        "id": "1Nt_Z538jloB",
        "colab_type": "text"
      },
      "source": [
        "**TASK: Create a generator for the scaled test/validation set. NOTE: Double check that your batch length makes sense for the size of the test set as mentioned in the RNN Time Series video.**"
      ]
    },
    {
      "cell_type": "markdown",
      "metadata": {
        "id": "GtYTyQBcjloG",
        "colab_type": "text"
      },
      "source": [
        "**TASK: Create an EarlyStopping callback based on val_loss.**"
      ]
    },
    {
      "cell_type": "code",
      "metadata": {
        "id": "-Mt1W20wjloH",
        "colab_type": "code",
        "colab": {}
      },
      "source": [
        "es = EarlyStopping(monitor='val_loss', patience=3)"
      ],
      "execution_count": 0,
      "outputs": []
    },
    {
      "cell_type": "markdown",
      "metadata": {
        "id": "jSsuFHpDjloM",
        "colab_type": "text"
      },
      "source": [
        "**TASK: Fit the model to the generator, let the EarlyStopping dictate the amount of epochs, so feel free to set the parameter high.**"
      ]
    },
    {
      "cell_type": "code",
      "metadata": {
        "id": "-xNm6Q5djloN",
        "colab_type": "code",
        "colab": {
          "base_uri": "https://localhost:8080/",
          "height": 425
        },
        "outputId": "3f75aa5d-ca2e-4e8c-bfb8-7646730790a0"
      },
      "source": [
        "model.fit_generator(generator, epochs=20, validation_data=val_generator, callbacks=[es])"
      ],
      "execution_count": 172,
      "outputs": [
        {
          "output_type": "stream",
          "text": [
            "WARNING:tensorflow:sample_weight modes were coerced from\n",
            "  ...\n",
            "    to  \n",
            "  ['...']\n",
            "WARNING:tensorflow:sample_weight modes were coerced from\n",
            "  ...\n",
            "    to  \n",
            "  ['...']\n",
            "Train for 525 steps, validate for 24 steps\n",
            "Epoch 1/20\n",
            "525/525 [==============================] - 6s 11ms/step - loss: 0.0219 - val_loss: 0.0140\n",
            "Epoch 2/20\n",
            "525/525 [==============================] - 4s 8ms/step - loss: 0.0084 - val_loss: 0.0020\n",
            "Epoch 3/20\n",
            "525/525 [==============================] - 4s 8ms/step - loss: 0.0057 - val_loss: 0.0019\n",
            "Epoch 4/20\n",
            "525/525 [==============================] - 4s 8ms/step - loss: 0.0050 - val_loss: 0.0016\n",
            "Epoch 5/20\n",
            "525/525 [==============================] - 4s 9ms/step - loss: 0.0048 - val_loss: 0.0031\n",
            "Epoch 6/20\n",
            "525/525 [==============================] - 4s 8ms/step - loss: 0.0041 - val_loss: 0.0019\n",
            "Epoch 7/20\n",
            "525/525 [==============================] - 4s 8ms/step - loss: 0.0039 - val_loss: 0.0020\n"
          ],
          "name": "stdout"
        },
        {
          "output_type": "execute_result",
          "data": {
            "text/plain": [
              "<tensorflow.python.keras.callbacks.History at 0x7fed5fbda710>"
            ]
          },
          "metadata": {
            "tags": []
          },
          "execution_count": 172
        }
      ]
    },
    {
      "cell_type": "markdown",
      "metadata": {
        "id": "b5K1vkQFjloU",
        "colab_type": "text"
      },
      "source": [
        "**TASK: Plot the history of the loss that occured during training.**"
      ]
    },
    {
      "cell_type": "code",
      "metadata": {
        "id": "UPRAwLJ7jloU",
        "colab_type": "code",
        "colab": {}
      },
      "source": [
        "loss = pd.DataFrame(model.history.history)"
      ],
      "execution_count": 0,
      "outputs": []
    },
    {
      "cell_type": "code",
      "metadata": {
        "id": "rMbDgcOmjloW",
        "colab_type": "code",
        "colab": {
          "base_uri": "https://localhost:8080/",
          "height": 282
        },
        "outputId": "fcd3156f-71ce-42d3-9073-448cc3338a2a"
      },
      "source": [
        "loss.plot()"
      ],
      "execution_count": 174,
      "outputs": [
        {
          "output_type": "execute_result",
          "data": {
            "text/plain": [
              "<matplotlib.axes._subplots.AxesSubplot at 0x7fed5fbda7f0>"
            ]
          },
          "metadata": {
            "tags": []
          },
          "execution_count": 174
        },
        {
          "output_type": "display_data",
          "data": {
            "image/png": "[encoded data removed]",
            "text/plain": [
              "<Figure size 432x288 with 1 Axes>"
            ]
          },
          "metadata": {
            "tags": []
          }
        }
      ]
    },
    {
      "cell_type": "markdown",
      "metadata": {
        "id": "GvR0Efd6jloY",
        "colab_type": "text"
      },
      "source": [
        "## Evaluate on Test Data\n",
        "\n",
        "**TASK: Forecast predictions for your test data range (the last 12 months of the entire dataset). Remember to inverse your scaling transformations. Your final result should be a DataFrame with two columns, the true test values and the predictions.**"
      ]
    },
    {
      "cell_type": "code",
      "metadata": {
        "id": "QlAoeOSbjloZ",
        "colab_type": "code",
        "colab": {}
      },
      "source": [
        "test_pred = []\n",
        "\n",
        "first_eval_batch = scaled_train[-length:]\n",
        "current_batch = first_eval_batch.reshape((1,length, n_features))\n",
        "\n",
        "for i in range(len(test)):\n",
        "\n",
        "  current_pred = model.predict(current_batch)[0]\n",
        "  test_pred.append(current_pred)\n",
        "  current_batch = np.append(current_batch[:,1:,:], [[current_pred]], axis=1)"
      ],
      "execution_count": 0,
      "outputs": []
    },
    {
      "cell_type": "code",
      "metadata": {
        "id": "wKPMwcGxjloa",
        "colab_type": "code",
        "colab": {}
      },
      "source": [
        "true_p = scaler.inverse_transform(test_pred)"
      ],
      "execution_count": 0,
      "outputs": []
    },
    {
      "cell_type": "code",
      "metadata": {
        "id": "JOguGnE4jloh",
        "colab_type": "code",
        "colab": {
          "base_uri": "https://localhost:8080/",
          "height": 139
        },
        "outputId": "9c6e2050-e4fa-4deb-c212-bdedd0a0bd09"
      },
      "source": [
        "test['predicted'] = true_p"
      ],
      "execution_count": 177,
      "outputs": [
        {
          "output_type": "stream",
          "text": [
            "/usr/local/lib/python3.6/dist-packages/ipykernel_launcher.py:1: SettingWithCopyWarning: \n",
            "A value is trying to be set on a copy of a slice from a DataFrame.\n",
            "Try using .loc[row_indexer,col_indexer] = value instead\n",
            "\n",
            "See the caveats in the documentation: http://pandas.pydata.org/pandas-docs/stable/user_guide/indexing.html#returning-a-view-versus-a-copy\n",
            "  \"\"\"Entry point for launching an IPython kernel.\n"
          ],
          "name": "stderr"
        }
      ]
    },
    {
      "cell_type": "code",
      "metadata": {
        "id": "DVKz2w2Yjlol",
        "colab_type": "code",
        "colab": {
          "base_uri": "https://localhost:8080/",
          "height": 886
        },
        "outputId": "5268dc6e-a917-45f5-a3ad-752e12d41e13"
      },
      "source": [
        "test[:-10]"
      ],
      "execution_count": 178,
      "outputs": [
        {
          "output_type": "execute_result",
          "data": {
            "text/html": [
              "<div>\n",
              "<style scoped>\n",
              "    .dataframe tbody tr th:only-of-type {\n",
              "        vertical-align: middle;\n",
              "    }\n",
              "\n",
              "    .dataframe tbody tr th {\n",
              "        vertical-align: top;\n",
              "    }\n",
              "\n",
              "    .dataframe thead th {\n",
              "        text-align: right;\n",
              "    }\n",
              "</style>\n",
              "<table border=\"1\" class=\"dataframe\">\n",
              "  <thead>\n",
              "    <tr style=\"text-align: right;\">\n",
              "      <th></th>\n",
              "      <th>Production</th>\n",
              "      <th>predicted</th>\n",
              "    </tr>\n",
              "    <tr>\n",
              "      <th>DATE</th>\n",
              "      <th></th>\n",
              "      <th></th>\n",
              "    </tr>\n",
              "  </thead>\n",
              "  <tbody>\n",
              "    <tr>\n",
              "      <th>2016-10-01</th>\n",
              "      <td>101.3836</td>\n",
              "      <td>88.834514</td>\n",
              "    </tr>\n",
              "    <tr>\n",
              "      <th>2016-11-01</th>\n",
              "      <td>86.6647</td>\n",
              "      <td>79.308996</td>\n",
              "    </tr>\n",
              "    <tr>\n",
              "      <th>2016-12-01</th>\n",
              "      <td>81.2569</td>\n",
              "      <td>75.444387</td>\n",
              "    </tr>\n",
              "    <tr>\n",
              "      <th>2017-01-01</th>\n",
              "      <td>94.2454</td>\n",
              "      <td>83.922785</td>\n",
              "    </tr>\n",
              "    <tr>\n",
              "      <th>2017-02-01</th>\n",
              "      <td>112.3879</td>\n",
              "      <td>95.254637</td>\n",
              "    </tr>\n",
              "    <tr>\n",
              "      <th>2017-03-01</th>\n",
              "      <td>119.6982</td>\n",
              "      <td>106.509870</td>\n",
              "    </tr>\n",
              "    <tr>\n",
              "      <th>2017-04-01</th>\n",
              "      <td>123.2282</td>\n",
              "      <td>114.669252</td>\n",
              "    </tr>\n",
              "    <tr>\n",
              "      <th>2017-05-01</th>\n",
              "      <td>116.0635</td>\n",
              "      <td>121.119302</td>\n",
              "    </tr>\n",
              "    <tr>\n",
              "      <th>2017-06-01</th>\n",
              "      <td>123.0870</td>\n",
              "      <td>125.070917</td>\n",
              "    </tr>\n",
              "    <tr>\n",
              "      <th>2017-07-01</th>\n",
              "      <td>116.2639</td>\n",
              "      <td>121.984058</td>\n",
              "    </tr>\n",
              "    <tr>\n",
              "      <th>2017-08-01</th>\n",
              "      <td>113.1717</td>\n",
              "      <td>114.256195</td>\n",
              "    </tr>\n",
              "    <tr>\n",
              "      <th>2017-09-01</th>\n",
              "      <td>97.9125</td>\n",
              "      <td>98.928584</td>\n",
              "    </tr>\n",
              "    <tr>\n",
              "      <th>2017-10-01</th>\n",
              "      <td>90.4732</td>\n",
              "      <td>82.479238</td>\n",
              "    </tr>\n",
              "    <tr>\n",
              "      <th>2017-11-01</th>\n",
              "      <td>77.4378</td>\n",
              "      <td>73.877246</td>\n",
              "    </tr>\n",
              "    <tr>\n",
              "      <th>2017-12-01</th>\n",
              "      <td>75.8118</td>\n",
              "      <td>70.817117</td>\n",
              "    </tr>\n",
              "    <tr>\n",
              "      <th>2018-01-01</th>\n",
              "      <td>83.4343</td>\n",
              "      <td>76.510568</td>\n",
              "    </tr>\n",
              "    <tr>\n",
              "      <th>2018-02-01</th>\n",
              "      <td>99.4899</td>\n",
              "      <td>87.722798</td>\n",
              "    </tr>\n",
              "    <tr>\n",
              "      <th>2018-03-01</th>\n",
              "      <td>107.3152</td>\n",
              "      <td>99.227739</td>\n",
              "    </tr>\n",
              "    <tr>\n",
              "      <th>2018-04-01</th>\n",
              "      <td>112.4309</td>\n",
              "      <td>108.861309</td>\n",
              "    </tr>\n",
              "    <tr>\n",
              "      <th>2018-05-01</th>\n",
              "      <td>110.3544</td>\n",
              "      <td>116.503982</td>\n",
              "    </tr>\n",
              "    <tr>\n",
              "      <th>2018-06-01</th>\n",
              "      <td>124.5841</td>\n",
              "      <td>120.109120</td>\n",
              "    </tr>\n",
              "    <tr>\n",
              "      <th>2018-07-01</th>\n",
              "      <td>117.2215</td>\n",
              "      <td>117.510143</td>\n",
              "    </tr>\n",
              "    <tr>\n",
              "      <th>2018-08-01</th>\n",
              "      <td>112.6779</td>\n",
              "      <td>107.926690</td>\n",
              "    </tr>\n",
              "    <tr>\n",
              "      <th>2018-09-01</th>\n",
              "      <td>103.3118</td>\n",
              "      <td>91.150022</td>\n",
              "    </tr>\n",
              "    <tr>\n",
              "      <th>2018-10-01</th>\n",
              "      <td>92.1321</td>\n",
              "      <td>77.182603</td>\n",
              "    </tr>\n",
              "    <tr>\n",
              "      <th>2018-11-01</th>\n",
              "      <td>82.4347</td>\n",
              "      <td>69.645810</td>\n",
              "    </tr>\n",
              "  </tbody>\n",
              "</table>\n",
              "</div>"
            ],
            "text/plain": [
              "            Production   predicted\n",
              "DATE                              \n",
              "2016-10-01    101.3836   88.834514\n",
              "2016-11-01     86.6647   79.308996\n",
              "2016-12-01     81.2569   75.444387\n",
              "2017-01-01     94.2454   83.922785\n",
              "2017-02-01    112.3879   95.254637\n",
              "2017-03-01    119.6982  106.509870\n",
              "2017-04-01    123.2282  114.669252\n",
              "2017-05-01    116.0635  121.119302\n",
              "2017-06-01    123.0870  125.070917\n",
              "2017-07-01    116.2639  121.984058\n",
              "2017-08-01    113.1717  114.256195\n",
              "2017-09-01     97.9125   98.928584\n",
              "2017-10-01     90.4732   82.479238\n",
              "2017-11-01     77.4378   73.877246\n",
              "2017-12-01     75.8118   70.817117\n",
              "2018-01-01     83.4343   76.510568\n",
              "2018-02-01     99.4899   87.722798\n",
              "2018-03-01    107.3152   99.227739\n",
              "2018-04-01    112.4309  108.861309\n",
              "2018-05-01    110.3544  116.503982\n",
              "2018-06-01    124.5841  120.109120\n",
              "2018-07-01    117.2215  117.510143\n",
              "2018-08-01    112.6779  107.926690\n",
              "2018-09-01    103.3118   91.150022\n",
              "2018-10-01     92.1321   77.182603\n",
              "2018-11-01     82.4347   69.645810"
            ]
          },
          "metadata": {
            "tags": []
          },
          "execution_count": 178
        }
      ]
    },
    {
      "cell_type": "markdown",
      "metadata": {
        "id": "STpC3F9Tjloo",
        "colab_type": "text"
      },
      "source": [
        "**TASK: Plot your predictions versus the True test values. (Your plot may look different than ours).**"
      ]
    },
    {
      "cell_type": "code",
      "metadata": {
        "id": "Pm8F0eD8jloq",
        "colab_type": "code",
        "colab": {
          "base_uri": "https://localhost:8080/",
          "height": 308
        },
        "outputId": "102c01d3-227e-4701-d176-51cdd23bfa4c"
      },
      "source": [
        "test.plot()"
      ],
      "execution_count": 179,
      "outputs": [
        {
          "output_type": "execute_result",
          "data": {
            "text/plain": [
              "<matplotlib.axes._subplots.AxesSubplot at 0x7fed5f164ba8>"
            ]
          },
          "metadata": {
            "tags": []
          },
          "execution_count": 179
        },
        {
          "output_type": "display_data",
          "data": {
            "image/png": "[encoded data removed]",
            "text/plain": [
              "<Figure size 432x288 with 1 Axes>"
            ]
          },
          "metadata": {
            "tags": []
          }
        }
      ]
    },
    {
      "cell_type": "code",
      "metadata": {
        "id": "EfMADZi1jlos",
        "colab_type": "code",
        "colab": {}
      },
      "source": [
        ""
      ],
      "execution_count": 0,
      "outputs": []
    },
    {
      "cell_type": "markdown",
      "metadata": {
        "id": "HaJ_icl2jloy",
        "colab_type": "text"
      },
      "source": [
        "**TASK: Calculate your RMSE.**"
      ]
    },
    {
      "cell_type": "code",
      "metadata": {
        "id": "MB1qx7usjlo0",
        "colab_type": "code",
        "colab": {}
      },
      "source": [
        "from sklearn.metrics import mean_squared_error"
      ],
      "execution_count": 0,
      "outputs": []
    },
    {
      "cell_type": "code",
      "metadata": {
        "id": "5zUgzI2Ejlo2",
        "colab_type": "code",
        "colab": {
          "base_uri": "https://localhost:8080/",
          "height": 34
        },
        "outputId": "80d14bd7-5696-4cac-906e-44d276ac1275"
      },
      "source": [
        "mse = mean_squared_error(test['Production'], test['predicted'])\n",
        "mse"
      ],
      "execution_count": 181,
      "outputs": [
        {
          "output_type": "execute_result",
          "data": {
            "text/plain": [
              "100.66165671720925"
            ]
          },
          "metadata": {
            "tags": []
          },
          "execution_count": 181
        }
      ]
    },
    {
      "cell_type": "code",
      "metadata": {
        "id": "dniYFYGMwQA1",
        "colab_type": "code",
        "colab": {
          "base_uri": "https://localhost:8080/",
          "height": 34
        },
        "outputId": "baf3f52b-f777-4d5d-dff2-a48cf97cc051"
      },
      "source": [
        "rmse = np.sqrt(rmse)\n",
        "rmse"
      ],
      "execution_count": 182,
      "outputs": [
        {
          "output_type": "execute_result",
          "data": {
            "text/plain": [
              "10.033028292455336"
            ]
          },
          "metadata": {
            "tags": []
          },
          "execution_count": 182
        }
      ]
    },
    {
      "cell_type": "code",
      "metadata": {
        "id": "muo2zISzwVSe",
        "colab_type": "code",
        "colab": {
          "base_uri": "https://localhost:8080/",
          "height": 297
        },
        "outputId": "8a09995d-87b5-4e6e-c1c0-983ea3ca71e3"
      },
      "source": [
        "df.describe()"
      ],
      "execution_count": 183,
      "outputs": [
        {
          "output_type": "execute_result",
          "data": {
            "text/html": [
              "<div>\n",
              "<style scoped>\n",
              "    .dataframe tbody tr th:only-of-type {\n",
              "        vertical-align: middle;\n",
              "    }\n",
              "\n",
              "    .dataframe tbody tr th {\n",
              "        vertical-align: top;\n",
              "    }\n",
              "\n",
              "    .dataframe thead th {\n",
              "        text-align: right;\n",
              "    }\n",
              "</style>\n",
              "<table border=\"1\" class=\"dataframe\">\n",
              "  <thead>\n",
              "    <tr style=\"text-align: right;\">\n",
              "      <th></th>\n",
              "      <th>Production</th>\n",
              "    </tr>\n",
              "  </thead>\n",
              "  <tbody>\n",
              "    <tr>\n",
              "      <th>count</th>\n",
              "      <td>573.000000</td>\n",
              "    </tr>\n",
              "    <tr>\n",
              "      <th>mean</th>\n",
              "      <td>109.895545</td>\n",
              "    </tr>\n",
              "    <tr>\n",
              "      <th>std</th>\n",
              "      <td>27.950571</td>\n",
              "    </tr>\n",
              "    <tr>\n",
              "      <th>min</th>\n",
              "      <td>58.659800</td>\n",
              "    </tr>\n",
              "    <tr>\n",
              "      <th>25%</th>\n",
              "      <td>88.935500</td>\n",
              "    </tr>\n",
              "    <tr>\n",
              "      <th>50%</th>\n",
              "      <td>107.643000</td>\n",
              "    </tr>\n",
              "    <tr>\n",
              "      <th>75%</th>\n",
              "      <td>128.277700</td>\n",
              "    </tr>\n",
              "    <tr>\n",
              "      <th>max</th>\n",
              "      <td>196.173700</td>\n",
              "    </tr>\n",
              "  </tbody>\n",
              "</table>\n",
              "</div>"
            ],
            "text/plain": [
              "       Production\n",
              "count  573.000000\n",
              "mean   109.895545\n",
              "std     27.950571\n",
              "min     58.659800\n",
              "25%     88.935500\n",
              "50%    107.643000\n",
              "75%    128.277700\n",
              "max    196.173700"
            ]
          },
          "metadata": {
            "tags": []
          },
          "execution_count": 183
        }
      ]
    },
    {
      "cell_type": "code",
      "metadata": {
        "id": "-PyBX0Fhwige",
        "colab_type": "code",
        "colab": {}
      },
      "source": [
        "forecast = []\n",
        "amount = 50\n",
        "\n",
        "first_eval_batch = scaled_train[-length:]\n",
        "current_batch = first_eval_batch.reshape((1,length, n_features))\n",
        "\n",
        "for i in range((amount)):\n",
        "\n",
        "  current_pred = model.predict(current_batch)[0]\n",
        "  forecast.append(current_pred)\n",
        "  current_batch = np.append(current_batch[:,1:,:], [[current_pred]], axis=1)"
      ],
      "execution_count": 0,
      "outputs": []
    },
    {
      "cell_type": "code",
      "metadata": {
        "id": "c9wJrUd4yuP_",
        "colab_type": "code",
        "colab": {}
      },
      "source": [
        "forecast = scaler.inverse_transform(forecast)"
      ],
      "execution_count": 0,
      "outputs": []
    },
    {
      "cell_type": "code",
      "metadata": {
        "id": "h5kKLrVAzBln",
        "colab_type": "code",
        "colab": {}
      },
      "source": [
        "forecast_df = pd.DataFrame(forecast)"
      ],
      "execution_count": 0,
      "outputs": []
    },
    {
      "cell_type": "code",
      "metadata": {
        "id": "y5SvqjZgzYsv",
        "colab_type": "code",
        "colab": {
          "base_uri": "https://localhost:8080/",
          "height": 544
        },
        "outputId": "47e2add7-c25b-4ec5-a762-e480cc8bfe56"
      },
      "source": [
        "df.plot()\n",
        "forecast_df.plot(color='red')"
      ],
      "execution_count": 246,
      "outputs": [
        {
          "output_type": "execute_result",
          "data": {
            "text/plain": [
              "<matplotlib.axes._subplots.AxesSubplot at 0x7fed5d4499e8>"
            ]
          },
          "metadata": {
            "tags": []
          },
          "execution_count": 246
        },
        {
          "output_type": "display_data",
          "data": {
            "image/png": "[encoded data removed]",
            "text/plain": [
              "<Figure size 432x288 with 1 Axes>"
            ]
          },
          "metadata": {
            "tags": []
          }
        },
        {
          "output_type": "display_data",
          "data": {
            "image/png": "[encoded data removed]",
            "text/plain": [
              "<Figure size 432x288 with 1 Axes>"
            ]
          },
          "metadata": {
            "tags": []
          }
        }
      ]
    },
    {
      "cell_type": "code",
      "metadata": {
        "id": "rgUQ1RoGzlFH",
        "colab_type": "code",
        "colab": {
          "base_uri": "https://localhost:8080/",
          "height": 71
        },
        "outputId": "0dc25c1c-886f-4b11-ee8a-4292f3c39aac"
      },
      "source": [
        "forecast_df.index = pd.to_datetime(forecast_df.index, origin=pd.Timestamp('2019-10-01'), unit='M').date"
      ],
      "execution_count": 247,
      "outputs": [
        {
          "output_type": "stream",
          "text": [
            "/usr/local/lib/python3.6/dist-packages/pandas/core/tools/datetimes.py:551: FutureWarning: M and Y units are deprecated and will be removed in a future version.\n",
            "  offset = offset // tslibs.Timedelta(1, unit=unit)\n"
          ],
          "name": "stderr"
        }
      ]
    },
    {
      "cell_type": "code",
      "metadata": {
        "id": "hDPbpLhd0BUn",
        "colab_type": "code",
        "colab": {
          "base_uri": "https://localhost:8080/",
          "height": 282
        },
        "outputId": "dda94c8e-b978-4b14-83b6-e7a2dfdc6299"
      },
      "source": [
        "plt.plot(df)\n",
        "plt.plot(forecast_df)"
      ],
      "execution_count": 248,
      "outputs": [
        {
          "output_type": "execute_result",
          "data": {
            "text/plain": [
              "[<matplotlib.lines.Line2D at 0x7fed5d278668>]"
            ]
          },
          "metadata": {
            "tags": []
          },
          "execution_count": 248
        },
        {
          "output_type": "display_data",
          "data": {
            "image/png": "[encoded data removed]",
            "text/plain": [
              "<Figure size 432x288 with 1 Axes>"
            ]
          },
          "metadata": {
            "tags": []
          }
        }
      ]
    },
    {
      "cell_type": "code",
      "metadata": {
        "id": "FbEW9azD2giv",
        "colab_type": "code",
        "colab": {}
      },
      "source": [
        ""
      ],
      "execution_count": 0,
      "outputs": []
    }
  ]
}