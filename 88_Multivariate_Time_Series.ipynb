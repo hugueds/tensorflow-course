{
  "nbformat": 4,
  "nbformat_minor": 0,
  "metadata": {
    "colab": {
      "name": "88_Multivariate_Time_Series.ipynb",
      "provenance": [],
      "collapsed_sections": [],
      "toc_visible": true,
      "authorship_tag": "ABX9TyP6qQYbCObWtbpR1/tYonr/",
      "include_colab_link": true
    },
    "kernelspec": {
      "name": "python3",
      "display_name": "Python 3"
    },
    "accelerator": "TPU"
  },
  "cells": [
    {
      "cell_type": "markdown",
      "metadata": {
        "id": "view-in-github",
        "colab_type": "text"
      },
      "source": [
        "<a href=\"https://colab.research.google.com/github/hugueds/tensorflow-course/blob/master/88_Multivariate_Time_Series.ipynb\" target=\"_parent\"><img src=\"https://colab.research.google.com/assets/colab-badge.svg\" alt=\"Open In Colab\"/></a>"
      ]
    },
    {
      "cell_type": "markdown",
      "metadata": {
        "id": "XqzVohfB5ZQf",
        "colab_type": "text"
      },
      "source": [
        "## Multivariate Time Series"
      ]
    },
    {
      "cell_type": "code",
      "metadata": {
        "id": "nqgZOQSL5R5E",
        "colab_type": "code",
        "colab": {
          "base_uri": "https://localhost:8080/",
          "height": 102
        },
        "outputId": "d04b8bef-31c5-4502-d4fd-43641c6b6fdb"
      },
      "source": [
        "%tensorflow_version 2\n",
        "import matplotlib.pyplot as plt\n",
        "import pandas as pd\n",
        "import numpy as np\n",
        "import tensorflow as tf"
      ],
      "execution_count": 1,
      "outputs": [
        {
          "output_type": "stream",
          "text": [
            "`%tensorflow_version` only switches the major version: `1.x` or `2.x`.\n",
            "You set: `2`. This will be interpreted as: `2.x`.\n",
            "\n",
            "\n",
            "TensorFlow 2.x selected.\n"
          ],
          "name": "stdout"
        }
      ]
    },
    {
      "cell_type": "code",
      "metadata": {
        "id": "ZgJrb3Bu5cBv",
        "colab_type": "code",
        "colab": {}
      },
      "source": [
        "raw_df = pd.read_csv('energydata_complete.csv', index_col='date', infer_datetime_format=True)"
      ],
      "execution_count": 0,
      "outputs": []
    },
    {
      "cell_type": "code",
      "metadata": {
        "id": "oviZWTubNuPB",
        "colab_type": "code",
        "colab": {
          "base_uri": "https://localhost:8080/",
          "height": 425
        },
        "outputId": "7f94949f-ffa9-4e09-b5cb-faba0cd9d3f7"
      },
      "source": [
        "raw_df.tail()"
      ],
      "execution_count": 3,
      "outputs": [
        {
          "output_type": "execute_result",
          "data": {
            "text/html": [
              "<div>\n",
              "<style scoped>\n",
              "    .dataframe tbody tr th:only-of-type {\n",
              "        vertical-align: middle;\n",
              "    }\n",
              "\n",
              "    .dataframe tbody tr th {\n",
              "        vertical-align: top;\n",
              "    }\n",
              "\n",
              "    .dataframe thead th {\n",
              "        text-align: right;\n",
              "    }\n",
              "</style>\n",
              "<table border=\"1\" class=\"dataframe\">\n",
              "  <thead>\n",
              "    <tr style=\"text-align: right;\">\n",
              "      <th></th>\n",
              "      <th>Appliances</th>\n",
              "      <th>lights</th>\n",
              "      <th>T1</th>\n",
              "      <th>RH_1</th>\n",
              "      <th>T2</th>\n",
              "      <th>RH_2</th>\n",
              "      <th>T3</th>\n",
              "      <th>RH_3</th>\n",
              "      <th>T4</th>\n",
              "      <th>RH_4</th>\n",
              "      <th>T5</th>\n",
              "      <th>RH_5</th>\n",
              "      <th>T6</th>\n",
              "      <th>RH_6</th>\n",
              "      <th>T7</th>\n",
              "      <th>RH_7</th>\n",
              "      <th>T8</th>\n",
              "      <th>RH_8</th>\n",
              "      <th>T9</th>\n",
              "      <th>RH_9</th>\n",
              "      <th>T_out</th>\n",
              "      <th>Press_mm_hg</th>\n",
              "      <th>RH_out</th>\n",
              "      <th>Windspeed</th>\n",
              "      <th>Visibility</th>\n",
              "      <th>Tdewpoint</th>\n",
              "      <th>rv1</th>\n",
              "      <th>rv2</th>\n",
              "    </tr>\n",
              "    <tr>\n",
              "      <th>date</th>\n",
              "      <th></th>\n",
              "      <th></th>\n",
              "      <th></th>\n",
              "      <th></th>\n",
              "      <th></th>\n",
              "      <th></th>\n",
              "      <th></th>\n",
              "      <th></th>\n",
              "      <th></th>\n",
              "      <th></th>\n",
              "      <th></th>\n",
              "      <th></th>\n",
              "      <th></th>\n",
              "      <th></th>\n",
              "      <th></th>\n",
              "      <th></th>\n",
              "      <th></th>\n",
              "      <th></th>\n",
              "      <th></th>\n",
              "      <th></th>\n",
              "      <th></th>\n",
              "      <th></th>\n",
              "      <th></th>\n",
              "      <th></th>\n",
              "      <th></th>\n",
              "      <th></th>\n",
              "      <th></th>\n",
              "      <th></th>\n",
              "    </tr>\n",
              "  </thead>\n",
              "  <tbody>\n",
              "    <tr>\n",
              "      <th>2016-05-27 17:20:00</th>\n",
              "      <td>100</td>\n",
              "      <td>0</td>\n",
              "      <td>25.566667</td>\n",
              "      <td>46.560000</td>\n",
              "      <td>25.890000</td>\n",
              "      <td>42.025714</td>\n",
              "      <td>27.200000</td>\n",
              "      <td>41.163333</td>\n",
              "      <td>24.7</td>\n",
              "      <td>45.590000</td>\n",
              "      <td>23.20</td>\n",
              "      <td>52.400000</td>\n",
              "      <td>24.796667</td>\n",
              "      <td>1.0</td>\n",
              "      <td>24.500000</td>\n",
              "      <td>44.500000</td>\n",
              "      <td>24.7000</td>\n",
              "      <td>50.07400</td>\n",
              "      <td>23.2</td>\n",
              "      <td>46.7900</td>\n",
              "      <td>22.733333</td>\n",
              "      <td>755.2</td>\n",
              "      <td>55.666667</td>\n",
              "      <td>3.333333</td>\n",
              "      <td>23.666667</td>\n",
              "      <td>13.333333</td>\n",
              "      <td>43.096812</td>\n",
              "      <td>43.096812</td>\n",
              "    </tr>\n",
              "    <tr>\n",
              "      <th>2016-05-27 17:30:00</th>\n",
              "      <td>90</td>\n",
              "      <td>0</td>\n",
              "      <td>25.500000</td>\n",
              "      <td>46.500000</td>\n",
              "      <td>25.754000</td>\n",
              "      <td>42.080000</td>\n",
              "      <td>27.133333</td>\n",
              "      <td>41.223333</td>\n",
              "      <td>24.7</td>\n",
              "      <td>45.590000</td>\n",
              "      <td>23.23</td>\n",
              "      <td>52.326667</td>\n",
              "      <td>24.196667</td>\n",
              "      <td>1.0</td>\n",
              "      <td>24.557143</td>\n",
              "      <td>44.414286</td>\n",
              "      <td>24.7000</td>\n",
              "      <td>49.79000</td>\n",
              "      <td>23.2</td>\n",
              "      <td>46.7900</td>\n",
              "      <td>22.600000</td>\n",
              "      <td>755.2</td>\n",
              "      <td>56.000000</td>\n",
              "      <td>3.500000</td>\n",
              "      <td>24.500000</td>\n",
              "      <td>13.300000</td>\n",
              "      <td>49.282940</td>\n",
              "      <td>49.282940</td>\n",
              "    </tr>\n",
              "    <tr>\n",
              "      <th>2016-05-27 17:40:00</th>\n",
              "      <td>270</td>\n",
              "      <td>10</td>\n",
              "      <td>25.500000</td>\n",
              "      <td>46.596667</td>\n",
              "      <td>25.628571</td>\n",
              "      <td>42.768571</td>\n",
              "      <td>27.050000</td>\n",
              "      <td>41.690000</td>\n",
              "      <td>24.7</td>\n",
              "      <td>45.730000</td>\n",
              "      <td>23.23</td>\n",
              "      <td>52.266667</td>\n",
              "      <td>23.626667</td>\n",
              "      <td>1.0</td>\n",
              "      <td>24.540000</td>\n",
              "      <td>44.400000</td>\n",
              "      <td>24.7000</td>\n",
              "      <td>49.66000</td>\n",
              "      <td>23.2</td>\n",
              "      <td>46.7900</td>\n",
              "      <td>22.466667</td>\n",
              "      <td>755.2</td>\n",
              "      <td>56.333333</td>\n",
              "      <td>3.666667</td>\n",
              "      <td>25.333333</td>\n",
              "      <td>13.266667</td>\n",
              "      <td>29.199117</td>\n",
              "      <td>29.199117</td>\n",
              "    </tr>\n",
              "    <tr>\n",
              "      <th>2016-05-27 17:50:00</th>\n",
              "      <td>420</td>\n",
              "      <td>10</td>\n",
              "      <td>25.500000</td>\n",
              "      <td>46.990000</td>\n",
              "      <td>25.414000</td>\n",
              "      <td>43.036000</td>\n",
              "      <td>26.890000</td>\n",
              "      <td>41.290000</td>\n",
              "      <td>24.7</td>\n",
              "      <td>45.790000</td>\n",
              "      <td>23.20</td>\n",
              "      <td>52.200000</td>\n",
              "      <td>22.433333</td>\n",
              "      <td>1.0</td>\n",
              "      <td>24.500000</td>\n",
              "      <td>44.295714</td>\n",
              "      <td>24.6625</td>\n",
              "      <td>49.51875</td>\n",
              "      <td>23.2</td>\n",
              "      <td>46.8175</td>\n",
              "      <td>22.333333</td>\n",
              "      <td>755.2</td>\n",
              "      <td>56.666667</td>\n",
              "      <td>3.833333</td>\n",
              "      <td>26.166667</td>\n",
              "      <td>13.233333</td>\n",
              "      <td>6.322784</td>\n",
              "      <td>6.322784</td>\n",
              "    </tr>\n",
              "    <tr>\n",
              "      <th>2016-05-27 18:00:00</th>\n",
              "      <td>430</td>\n",
              "      <td>10</td>\n",
              "      <td>25.500000</td>\n",
              "      <td>46.600000</td>\n",
              "      <td>25.264286</td>\n",
              "      <td>42.971429</td>\n",
              "      <td>26.823333</td>\n",
              "      <td>41.156667</td>\n",
              "      <td>24.7</td>\n",
              "      <td>45.963333</td>\n",
              "      <td>23.20</td>\n",
              "      <td>52.200000</td>\n",
              "      <td>21.026667</td>\n",
              "      <td>1.0</td>\n",
              "      <td>24.500000</td>\n",
              "      <td>44.054000</td>\n",
              "      <td>24.7360</td>\n",
              "      <td>49.73600</td>\n",
              "      <td>23.2</td>\n",
              "      <td>46.8450</td>\n",
              "      <td>22.200000</td>\n",
              "      <td>755.2</td>\n",
              "      <td>57.000000</td>\n",
              "      <td>4.000000</td>\n",
              "      <td>27.000000</td>\n",
              "      <td>13.200000</td>\n",
              "      <td>34.118851</td>\n",
              "      <td>34.118851</td>\n",
              "    </tr>\n",
              "  </tbody>\n",
              "</table>\n",
              "</div>"
            ],
            "text/plain": [
              "                     Appliances  lights  ...        rv1        rv2\n",
              "date                                     ...                      \n",
              "2016-05-27 17:20:00         100       0  ...  43.096812  43.096812\n",
              "2016-05-27 17:30:00          90       0  ...  49.282940  49.282940\n",
              "2016-05-27 17:40:00         270      10  ...  29.199117  29.199117\n",
              "2016-05-27 17:50:00         420      10  ...   6.322784   6.322784\n",
              "2016-05-27 18:00:00         430      10  ...  34.118851  34.118851\n",
              "\n",
              "[5 rows x 28 columns]"
            ]
          },
          "metadata": {
            "tags": []
          },
          "execution_count": 3
        }
      ]
    },
    {
      "cell_type": "code",
      "metadata": {
        "id": "pFIBm9OnNupu",
        "colab_type": "code",
        "colab": {
          "base_uri": "https://localhost:8080/",
          "height": 917
        },
        "outputId": "45a2b5bc-34cc-417b-e2b6-96302fcd1f47"
      },
      "source": [
        "raw_df.describe().transpose()"
      ],
      "execution_count": 4,
      "outputs": [
        {
          "output_type": "execute_result",
          "data": {
            "text/html": [
              "<div>\n",
              "<style scoped>\n",
              "    .dataframe tbody tr th:only-of-type {\n",
              "        vertical-align: middle;\n",
              "    }\n",
              "\n",
              "    .dataframe tbody tr th {\n",
              "        vertical-align: top;\n",
              "    }\n",
              "\n",
              "    .dataframe thead th {\n",
              "        text-align: right;\n",
              "    }\n",
              "</style>\n",
              "<table border=\"1\" class=\"dataframe\">\n",
              "  <thead>\n",
              "    <tr style=\"text-align: right;\">\n",
              "      <th></th>\n",
              "      <th>count</th>\n",
              "      <th>mean</th>\n",
              "      <th>std</th>\n",
              "      <th>min</th>\n",
              "      <th>25%</th>\n",
              "      <th>50%</th>\n",
              "      <th>75%</th>\n",
              "      <th>max</th>\n",
              "    </tr>\n",
              "  </thead>\n",
              "  <tbody>\n",
              "    <tr>\n",
              "      <th>Appliances</th>\n",
              "      <td>19735.0</td>\n",
              "      <td>97.694958</td>\n",
              "      <td>102.524891</td>\n",
              "      <td>10.000000</td>\n",
              "      <td>50.000000</td>\n",
              "      <td>60.000000</td>\n",
              "      <td>100.000000</td>\n",
              "      <td>1080.000000</td>\n",
              "    </tr>\n",
              "    <tr>\n",
              "      <th>lights</th>\n",
              "      <td>19735.0</td>\n",
              "      <td>3.801875</td>\n",
              "      <td>7.935988</td>\n",
              "      <td>0.000000</td>\n",
              "      <td>0.000000</td>\n",
              "      <td>0.000000</td>\n",
              "      <td>0.000000</td>\n",
              "      <td>70.000000</td>\n",
              "    </tr>\n",
              "    <tr>\n",
              "      <th>T1</th>\n",
              "      <td>19735.0</td>\n",
              "      <td>21.686571</td>\n",
              "      <td>1.606066</td>\n",
              "      <td>16.790000</td>\n",
              "      <td>20.760000</td>\n",
              "      <td>21.600000</td>\n",
              "      <td>22.600000</td>\n",
              "      <td>26.260000</td>\n",
              "    </tr>\n",
              "    <tr>\n",
              "      <th>RH_1</th>\n",
              "      <td>19735.0</td>\n",
              "      <td>40.259739</td>\n",
              "      <td>3.979299</td>\n",
              "      <td>27.023333</td>\n",
              "      <td>37.333333</td>\n",
              "      <td>39.656667</td>\n",
              "      <td>43.066667</td>\n",
              "      <td>63.360000</td>\n",
              "    </tr>\n",
              "    <tr>\n",
              "      <th>T2</th>\n",
              "      <td>19735.0</td>\n",
              "      <td>20.341219</td>\n",
              "      <td>2.192974</td>\n",
              "      <td>16.100000</td>\n",
              "      <td>18.790000</td>\n",
              "      <td>20.000000</td>\n",
              "      <td>21.500000</td>\n",
              "      <td>29.856667</td>\n",
              "    </tr>\n",
              "    <tr>\n",
              "      <th>RH_2</th>\n",
              "      <td>19735.0</td>\n",
              "      <td>40.420420</td>\n",
              "      <td>4.069813</td>\n",
              "      <td>20.463333</td>\n",
              "      <td>37.900000</td>\n",
              "      <td>40.500000</td>\n",
              "      <td>43.260000</td>\n",
              "      <td>56.026667</td>\n",
              "    </tr>\n",
              "    <tr>\n",
              "      <th>T3</th>\n",
              "      <td>19735.0</td>\n",
              "      <td>22.267611</td>\n",
              "      <td>2.006111</td>\n",
              "      <td>17.200000</td>\n",
              "      <td>20.790000</td>\n",
              "      <td>22.100000</td>\n",
              "      <td>23.290000</td>\n",
              "      <td>29.236000</td>\n",
              "    </tr>\n",
              "    <tr>\n",
              "      <th>RH_3</th>\n",
              "      <td>19735.0</td>\n",
              "      <td>39.242500</td>\n",
              "      <td>3.254576</td>\n",
              "      <td>28.766667</td>\n",
              "      <td>36.900000</td>\n",
              "      <td>38.530000</td>\n",
              "      <td>41.760000</td>\n",
              "      <td>50.163333</td>\n",
              "    </tr>\n",
              "    <tr>\n",
              "      <th>T4</th>\n",
              "      <td>19735.0</td>\n",
              "      <td>20.855335</td>\n",
              "      <td>2.042884</td>\n",
              "      <td>15.100000</td>\n",
              "      <td>19.530000</td>\n",
              "      <td>20.666667</td>\n",
              "      <td>22.100000</td>\n",
              "      <td>26.200000</td>\n",
              "    </tr>\n",
              "    <tr>\n",
              "      <th>RH_4</th>\n",
              "      <td>19735.0</td>\n",
              "      <td>39.026904</td>\n",
              "      <td>4.341321</td>\n",
              "      <td>27.660000</td>\n",
              "      <td>35.530000</td>\n",
              "      <td>38.400000</td>\n",
              "      <td>42.156667</td>\n",
              "      <td>51.090000</td>\n",
              "    </tr>\n",
              "    <tr>\n",
              "      <th>T5</th>\n",
              "      <td>19735.0</td>\n",
              "      <td>19.592106</td>\n",
              "      <td>1.844623</td>\n",
              "      <td>15.330000</td>\n",
              "      <td>18.277500</td>\n",
              "      <td>19.390000</td>\n",
              "      <td>20.619643</td>\n",
              "      <td>25.795000</td>\n",
              "    </tr>\n",
              "    <tr>\n",
              "      <th>RH_5</th>\n",
              "      <td>19735.0</td>\n",
              "      <td>50.949283</td>\n",
              "      <td>9.022034</td>\n",
              "      <td>29.815000</td>\n",
              "      <td>45.400000</td>\n",
              "      <td>49.090000</td>\n",
              "      <td>53.663333</td>\n",
              "      <td>96.321667</td>\n",
              "    </tr>\n",
              "    <tr>\n",
              "      <th>T6</th>\n",
              "      <td>19735.0</td>\n",
              "      <td>7.910939</td>\n",
              "      <td>6.090347</td>\n",
              "      <td>-6.065000</td>\n",
              "      <td>3.626667</td>\n",
              "      <td>7.300000</td>\n",
              "      <td>11.256000</td>\n",
              "      <td>28.290000</td>\n",
              "    </tr>\n",
              "    <tr>\n",
              "      <th>RH_6</th>\n",
              "      <td>19735.0</td>\n",
              "      <td>54.609083</td>\n",
              "      <td>31.149806</td>\n",
              "      <td>1.000000</td>\n",
              "      <td>30.025000</td>\n",
              "      <td>55.290000</td>\n",
              "      <td>83.226667</td>\n",
              "      <td>99.900000</td>\n",
              "    </tr>\n",
              "    <tr>\n",
              "      <th>T7</th>\n",
              "      <td>19735.0</td>\n",
              "      <td>20.267106</td>\n",
              "      <td>2.109993</td>\n",
              "      <td>15.390000</td>\n",
              "      <td>18.700000</td>\n",
              "      <td>20.033333</td>\n",
              "      <td>21.600000</td>\n",
              "      <td>26.000000</td>\n",
              "    </tr>\n",
              "    <tr>\n",
              "      <th>RH_7</th>\n",
              "      <td>19735.0</td>\n",
              "      <td>35.388200</td>\n",
              "      <td>5.114208</td>\n",
              "      <td>23.200000</td>\n",
              "      <td>31.500000</td>\n",
              "      <td>34.863333</td>\n",
              "      <td>39.000000</td>\n",
              "      <td>51.400000</td>\n",
              "    </tr>\n",
              "    <tr>\n",
              "      <th>T8</th>\n",
              "      <td>19735.0</td>\n",
              "      <td>22.029107</td>\n",
              "      <td>1.956162</td>\n",
              "      <td>16.306667</td>\n",
              "      <td>20.790000</td>\n",
              "      <td>22.100000</td>\n",
              "      <td>23.390000</td>\n",
              "      <td>27.230000</td>\n",
              "    </tr>\n",
              "    <tr>\n",
              "      <th>RH_8</th>\n",
              "      <td>19735.0</td>\n",
              "      <td>42.936165</td>\n",
              "      <td>5.224361</td>\n",
              "      <td>29.600000</td>\n",
              "      <td>39.066667</td>\n",
              "      <td>42.375000</td>\n",
              "      <td>46.536000</td>\n",
              "      <td>58.780000</td>\n",
              "    </tr>\n",
              "    <tr>\n",
              "      <th>T9</th>\n",
              "      <td>19735.0</td>\n",
              "      <td>19.485828</td>\n",
              "      <td>2.014712</td>\n",
              "      <td>14.890000</td>\n",
              "      <td>18.000000</td>\n",
              "      <td>19.390000</td>\n",
              "      <td>20.600000</td>\n",
              "      <td>24.500000</td>\n",
              "    </tr>\n",
              "    <tr>\n",
              "      <th>RH_9</th>\n",
              "      <td>19735.0</td>\n",
              "      <td>41.552401</td>\n",
              "      <td>4.151497</td>\n",
              "      <td>29.166667</td>\n",
              "      <td>38.500000</td>\n",
              "      <td>40.900000</td>\n",
              "      <td>44.338095</td>\n",
              "      <td>53.326667</td>\n",
              "    </tr>\n",
              "    <tr>\n",
              "      <th>T_out</th>\n",
              "      <td>19735.0</td>\n",
              "      <td>7.411665</td>\n",
              "      <td>5.317409</td>\n",
              "      <td>-5.000000</td>\n",
              "      <td>3.666667</td>\n",
              "      <td>6.916667</td>\n",
              "      <td>10.408333</td>\n",
              "      <td>26.100000</td>\n",
              "    </tr>\n",
              "    <tr>\n",
              "      <th>Press_mm_hg</th>\n",
              "      <td>19735.0</td>\n",
              "      <td>755.522602</td>\n",
              "      <td>7.399441</td>\n",
              "      <td>729.300000</td>\n",
              "      <td>750.933333</td>\n",
              "      <td>756.100000</td>\n",
              "      <td>760.933333</td>\n",
              "      <td>772.300000</td>\n",
              "    </tr>\n",
              "    <tr>\n",
              "      <th>RH_out</th>\n",
              "      <td>19735.0</td>\n",
              "      <td>79.750418</td>\n",
              "      <td>14.901088</td>\n",
              "      <td>24.000000</td>\n",
              "      <td>70.333333</td>\n",
              "      <td>83.666667</td>\n",
              "      <td>91.666667</td>\n",
              "      <td>100.000000</td>\n",
              "    </tr>\n",
              "    <tr>\n",
              "      <th>Windspeed</th>\n",
              "      <td>19735.0</td>\n",
              "      <td>4.039752</td>\n",
              "      <td>2.451221</td>\n",
              "      <td>0.000000</td>\n",
              "      <td>2.000000</td>\n",
              "      <td>3.666667</td>\n",
              "      <td>5.500000</td>\n",
              "      <td>14.000000</td>\n",
              "    </tr>\n",
              "    <tr>\n",
              "      <th>Visibility</th>\n",
              "      <td>19735.0</td>\n",
              "      <td>38.330834</td>\n",
              "      <td>11.794719</td>\n",
              "      <td>1.000000</td>\n",
              "      <td>29.000000</td>\n",
              "      <td>40.000000</td>\n",
              "      <td>40.000000</td>\n",
              "      <td>66.000000</td>\n",
              "    </tr>\n",
              "    <tr>\n",
              "      <th>Tdewpoint</th>\n",
              "      <td>19735.0</td>\n",
              "      <td>3.760707</td>\n",
              "      <td>4.194648</td>\n",
              "      <td>-6.600000</td>\n",
              "      <td>0.900000</td>\n",
              "      <td>3.433333</td>\n",
              "      <td>6.566667</td>\n",
              "      <td>15.500000</td>\n",
              "    </tr>\n",
              "    <tr>\n",
              "      <th>rv1</th>\n",
              "      <td>19735.0</td>\n",
              "      <td>24.988033</td>\n",
              "      <td>14.496634</td>\n",
              "      <td>0.005322</td>\n",
              "      <td>12.497889</td>\n",
              "      <td>24.897653</td>\n",
              "      <td>37.583769</td>\n",
              "      <td>49.996530</td>\n",
              "    </tr>\n",
              "    <tr>\n",
              "      <th>rv2</th>\n",
              "      <td>19735.0</td>\n",
              "      <td>24.988033</td>\n",
              "      <td>14.496634</td>\n",
              "      <td>0.005322</td>\n",
              "      <td>12.497889</td>\n",
              "      <td>24.897653</td>\n",
              "      <td>37.583769</td>\n",
              "      <td>49.996530</td>\n",
              "    </tr>\n",
              "  </tbody>\n",
              "</table>\n",
              "</div>"
            ],
            "text/plain": [
              "               count        mean  ...         75%          max\n",
              "Appliances   19735.0   97.694958  ...  100.000000  1080.000000\n",
              "lights       19735.0    3.801875  ...    0.000000    70.000000\n",
              "T1           19735.0   21.686571  ...   22.600000    26.260000\n",
              "RH_1         19735.0   40.259739  ...   43.066667    63.360000\n",
              "T2           19735.0   20.341219  ...   21.500000    29.856667\n",
              "RH_2         19735.0   40.420420  ...   43.260000    56.026667\n",
              "T3           19735.0   22.267611  ...   23.290000    29.236000\n",
              "RH_3         19735.0   39.242500  ...   41.760000    50.163333\n",
              "T4           19735.0   20.855335  ...   22.100000    26.200000\n",
              "RH_4         19735.0   39.026904  ...   42.156667    51.090000\n",
              "T5           19735.0   19.592106  ...   20.619643    25.795000\n",
              "RH_5         19735.0   50.949283  ...   53.663333    96.321667\n",
              "T6           19735.0    7.910939  ...   11.256000    28.290000\n",
              "RH_6         19735.0   54.609083  ...   83.226667    99.900000\n",
              "T7           19735.0   20.267106  ...   21.600000    26.000000\n",
              "RH_7         19735.0   35.388200  ...   39.000000    51.400000\n",
              "T8           19735.0   22.029107  ...   23.390000    27.230000\n",
              "RH_8         19735.0   42.936165  ...   46.536000    58.780000\n",
              "T9           19735.0   19.485828  ...   20.600000    24.500000\n",
              "RH_9         19735.0   41.552401  ...   44.338095    53.326667\n",
              "T_out        19735.0    7.411665  ...   10.408333    26.100000\n",
              "Press_mm_hg  19735.0  755.522602  ...  760.933333   772.300000\n",
              "RH_out       19735.0   79.750418  ...   91.666667   100.000000\n",
              "Windspeed    19735.0    4.039752  ...    5.500000    14.000000\n",
              "Visibility   19735.0   38.330834  ...   40.000000    66.000000\n",
              "Tdewpoint    19735.0    3.760707  ...    6.566667    15.500000\n",
              "rv1          19735.0   24.988033  ...   37.583769    49.996530\n",
              "rv2          19735.0   24.988033  ...   37.583769    49.996530\n",
              "\n",
              "[28 rows x 8 columns]"
            ]
          },
          "metadata": {
            "tags": []
          },
          "execution_count": 4
        }
      ]
    },
    {
      "cell_type": "code",
      "metadata": {
        "id": "r17guSq6OYm9",
        "colab_type": "code",
        "colab": {
          "base_uri": "https://localhost:8080/",
          "height": 578
        },
        "outputId": "74ca963c-c6c6-497c-dbd0-0d198faab36a"
      },
      "source": [
        "raw_df.info()"
      ],
      "execution_count": 5,
      "outputs": [
        {
          "output_type": "stream",
          "text": [
            "<class 'pandas.core.frame.DataFrame'>\n",
            "Index: 19735 entries, 2016-01-11 17:00:00 to 2016-05-27 18:00:00\n",
            "Data columns (total 28 columns):\n",
            "Appliances     19735 non-null int64\n",
            "lights         19735 non-null int64\n",
            "T1             19735 non-null float64\n",
            "RH_1           19735 non-null float64\n",
            "T2             19735 non-null float64\n",
            "RH_2           19735 non-null float64\n",
            "T3             19735 non-null float64\n",
            "RH_3           19735 non-null float64\n",
            "T4             19735 non-null float64\n",
            "RH_4           19735 non-null float64\n",
            "T5             19735 non-null float64\n",
            "RH_5           19735 non-null float64\n",
            "T6             19735 non-null float64\n",
            "RH_6           19735 non-null float64\n",
            "T7             19735 non-null float64\n",
            "RH_7           19735 non-null float64\n",
            "T8             19735 non-null float64\n",
            "RH_8           19735 non-null float64\n",
            "T9             19735 non-null float64\n",
            "RH_9           19735 non-null float64\n",
            "T_out          19735 non-null float64\n",
            "Press_mm_hg    19735 non-null float64\n",
            "RH_out         19735 non-null float64\n",
            "Windspeed      19735 non-null float64\n",
            "Visibility     19735 non-null float64\n",
            "Tdewpoint      19735 non-null float64\n",
            "rv1            19735 non-null float64\n",
            "rv2            19735 non-null float64\n",
            "dtypes: float64(26), int64(2)\n",
            "memory usage: 4.4+ MB\n"
          ],
          "name": "stdout"
        }
      ]
    },
    {
      "cell_type": "code",
      "metadata": {
        "id": "e6yt8i_IOcC2",
        "colab_type": "code",
        "colab": {
          "base_uri": "https://localhost:8080/",
          "height": 643
        },
        "outputId": "43bd87c8-d984-448d-fb44-dc0bf1a8fd3f"
      },
      "source": [
        "raw_df[:300].plot(figsize=(30,10))"
      ],
      "execution_count": 6,
      "outputs": [
        {
          "output_type": "execute_result",
          "data": {
            "text/plain": [
              "<matplotlib.axes._subplots.AxesSubplot at 0x7f22d1e30358>"
            ]
          },
          "metadata": {
            "tags": []
          },
          "execution_count": 6
        },
        {
          "output_type": "display_data",
          "data": {
            "image/png": "[encoded data removed]",
            "text/plain": [
              "<Figure size 2160x720 with 1 Axes>"
            ]
          },
          "metadata": {
            "tags": []
          }
        }
      ]
    },
    {
      "cell_type": "code",
      "metadata": {
        "id": "NnqBQWuUNzaG",
        "colab_type": "code",
        "colab": {}
      },
      "source": [
        "lenght = len(raw_df)"
      ],
      "execution_count": 0,
      "outputs": []
    },
    {
      "cell_type": "code",
      "metadata": {
        "id": "TfkljEzLOHif",
        "colab_type": "code",
        "colab": {
          "base_uri": "https://localhost:8080/",
          "height": 810
        },
        "outputId": "e25dd21a-5e2e-4b04-8c94-8ed3961cbe37"
      },
      "source": [
        "raw_df.loc['2016-05-01':]"
      ],
      "execution_count": 8,
      "outputs": [
        {
          "output_type": "execute_result",
          "data": {
            "text/html": [
              "<div>\n",
              "<style scoped>\n",
              "    .dataframe tbody tr th:only-of-type {\n",
              "        vertical-align: middle;\n",
              "    }\n",
              "\n",
              "    .dataframe tbody tr th {\n",
              "        vertical-align: top;\n",
              "    }\n",
              "\n",
              "    .dataframe thead th {\n",
              "        text-align: right;\n",
              "    }\n",
              "</style>\n",
              "<table border=\"1\" class=\"dataframe\">\n",
              "  <thead>\n",
              "    <tr style=\"text-align: right;\">\n",
              "      <th></th>\n",
              "      <th>Appliances</th>\n",
              "      <th>lights</th>\n",
              "      <th>T1</th>\n",
              "      <th>RH_1</th>\n",
              "      <th>T2</th>\n",
              "      <th>RH_2</th>\n",
              "      <th>T3</th>\n",
              "      <th>RH_3</th>\n",
              "      <th>T4</th>\n",
              "      <th>RH_4</th>\n",
              "      <th>T5</th>\n",
              "      <th>RH_5</th>\n",
              "      <th>T6</th>\n",
              "      <th>RH_6</th>\n",
              "      <th>T7</th>\n",
              "      <th>RH_7</th>\n",
              "      <th>T8</th>\n",
              "      <th>RH_8</th>\n",
              "      <th>T9</th>\n",
              "      <th>RH_9</th>\n",
              "      <th>T_out</th>\n",
              "      <th>Press_mm_hg</th>\n",
              "      <th>RH_out</th>\n",
              "      <th>Windspeed</th>\n",
              "      <th>Visibility</th>\n",
              "      <th>Tdewpoint</th>\n",
              "      <th>rv1</th>\n",
              "      <th>rv2</th>\n",
              "    </tr>\n",
              "    <tr>\n",
              "      <th>date</th>\n",
              "      <th></th>\n",
              "      <th></th>\n",
              "      <th></th>\n",
              "      <th></th>\n",
              "      <th></th>\n",
              "      <th></th>\n",
              "      <th></th>\n",
              "      <th></th>\n",
              "      <th></th>\n",
              "      <th></th>\n",
              "      <th></th>\n",
              "      <th></th>\n",
              "      <th></th>\n",
              "      <th></th>\n",
              "      <th></th>\n",
              "      <th></th>\n",
              "      <th></th>\n",
              "      <th></th>\n",
              "      <th></th>\n",
              "      <th></th>\n",
              "      <th></th>\n",
              "      <th></th>\n",
              "      <th></th>\n",
              "      <th></th>\n",
              "      <th></th>\n",
              "      <th></th>\n",
              "      <th></th>\n",
              "      <th></th>\n",
              "    </tr>\n",
              "  </thead>\n",
              "  <tbody>\n",
              "    <tr>\n",
              "      <th>2016-05-01 00:00:00</th>\n",
              "      <td>50</td>\n",
              "      <td>0</td>\n",
              "      <td>21.200000</td>\n",
              "      <td>38.200000</td>\n",
              "      <td>18.390000</td>\n",
              "      <td>41.400000</td>\n",
              "      <td>23.200000</td>\n",
              "      <td>36.400000</td>\n",
              "      <td>19.73</td>\n",
              "      <td>37.730000</td>\n",
              "      <td>19.50</td>\n",
              "      <td>47.290000</td>\n",
              "      <td>4.800000</td>\n",
              "      <td>40.060000</td>\n",
              "      <td>19.500000</td>\n",
              "      <td>31.600000</td>\n",
              "      <td>22.2000</td>\n",
              "      <td>40.000000</td>\n",
              "      <td>19.166667</td>\n",
              "      <td>38.200000</td>\n",
              "      <td>4.300000</td>\n",
              "      <td>763.700000</td>\n",
              "      <td>86.000000</td>\n",
              "      <td>2.000000</td>\n",
              "      <td>40.000000</td>\n",
              "      <td>2.200000</td>\n",
              "      <td>15.310003</td>\n",
              "      <td>15.310003</td>\n",
              "    </tr>\n",
              "    <tr>\n",
              "      <th>2016-05-01 00:10:00</th>\n",
              "      <td>60</td>\n",
              "      <td>0</td>\n",
              "      <td>21.150000</td>\n",
              "      <td>38.172500</td>\n",
              "      <td>18.390000</td>\n",
              "      <td>41.500000</td>\n",
              "      <td>23.133333</td>\n",
              "      <td>36.466667</td>\n",
              "      <td>19.70</td>\n",
              "      <td>37.663333</td>\n",
              "      <td>19.50</td>\n",
              "      <td>47.290000</td>\n",
              "      <td>4.800000</td>\n",
              "      <td>40.090000</td>\n",
              "      <td>19.500000</td>\n",
              "      <td>31.600000</td>\n",
              "      <td>22.2000</td>\n",
              "      <td>40.400000</td>\n",
              "      <td>19.133333</td>\n",
              "      <td>38.290000</td>\n",
              "      <td>4.283333</td>\n",
              "      <td>763.716667</td>\n",
              "      <td>86.333333</td>\n",
              "      <td>2.166667</td>\n",
              "      <td>38.166667</td>\n",
              "      <td>2.216667</td>\n",
              "      <td>11.240067</td>\n",
              "      <td>11.240067</td>\n",
              "    </tr>\n",
              "    <tr>\n",
              "      <th>2016-05-01 00:20:00</th>\n",
              "      <td>50</td>\n",
              "      <td>0</td>\n",
              "      <td>21.133333</td>\n",
              "      <td>38.090000</td>\n",
              "      <td>18.323333</td>\n",
              "      <td>41.500000</td>\n",
              "      <td>23.200000</td>\n",
              "      <td>36.500000</td>\n",
              "      <td>19.70</td>\n",
              "      <td>37.590000</td>\n",
              "      <td>19.50</td>\n",
              "      <td>47.260000</td>\n",
              "      <td>4.660000</td>\n",
              "      <td>40.030000</td>\n",
              "      <td>19.500000</td>\n",
              "      <td>31.600000</td>\n",
              "      <td>22.2000</td>\n",
              "      <td>41.000000</td>\n",
              "      <td>19.133333</td>\n",
              "      <td>38.363333</td>\n",
              "      <td>4.266667</td>\n",
              "      <td>763.733333</td>\n",
              "      <td>86.666667</td>\n",
              "      <td>2.333333</td>\n",
              "      <td>36.333333</td>\n",
              "      <td>2.233333</td>\n",
              "      <td>21.808814</td>\n",
              "      <td>21.808814</td>\n",
              "    </tr>\n",
              "    <tr>\n",
              "      <th>2016-05-01 00:30:00</th>\n",
              "      <td>50</td>\n",
              "      <td>0</td>\n",
              "      <td>21.100000</td>\n",
              "      <td>38.090000</td>\n",
              "      <td>18.290000</td>\n",
              "      <td>41.500000</td>\n",
              "      <td>23.200000</td>\n",
              "      <td>36.500000</td>\n",
              "      <td>19.70</td>\n",
              "      <td>37.500000</td>\n",
              "      <td>19.50</td>\n",
              "      <td>47.260000</td>\n",
              "      <td>4.530000</td>\n",
              "      <td>41.300000</td>\n",
              "      <td>19.500000</td>\n",
              "      <td>31.600000</td>\n",
              "      <td>22.2000</td>\n",
              "      <td>41.333333</td>\n",
              "      <td>19.166667</td>\n",
              "      <td>38.500000</td>\n",
              "      <td>4.250000</td>\n",
              "      <td>763.750000</td>\n",
              "      <td>87.000000</td>\n",
              "      <td>2.500000</td>\n",
              "      <td>34.500000</td>\n",
              "      <td>2.250000</td>\n",
              "      <td>47.000534</td>\n",
              "      <td>47.000534</td>\n",
              "    </tr>\n",
              "    <tr>\n",
              "      <th>2016-05-01 00:40:00</th>\n",
              "      <td>60</td>\n",
              "      <td>0</td>\n",
              "      <td>21.100000</td>\n",
              "      <td>38.030000</td>\n",
              "      <td>18.290000</td>\n",
              "      <td>41.560000</td>\n",
              "      <td>23.200000</td>\n",
              "      <td>36.500000</td>\n",
              "      <td>19.70</td>\n",
              "      <td>37.500000</td>\n",
              "      <td>19.50</td>\n",
              "      <td>47.200000</td>\n",
              "      <td>4.590000</td>\n",
              "      <td>41.833333</td>\n",
              "      <td>19.500000</td>\n",
              "      <td>31.600000</td>\n",
              "      <td>22.2000</td>\n",
              "      <td>41.626667</td>\n",
              "      <td>19.166667</td>\n",
              "      <td>38.633333</td>\n",
              "      <td>4.233333</td>\n",
              "      <td>763.766667</td>\n",
              "      <td>87.333333</td>\n",
              "      <td>2.666667</td>\n",
              "      <td>32.666667</td>\n",
              "      <td>2.266667</td>\n",
              "      <td>8.059441</td>\n",
              "      <td>8.059441</td>\n",
              "    </tr>\n",
              "    <tr>\n",
              "      <th>...</th>\n",
              "      <td>...</td>\n",
              "      <td>...</td>\n",
              "      <td>...</td>\n",
              "      <td>...</td>\n",
              "      <td>...</td>\n",
              "      <td>...</td>\n",
              "      <td>...</td>\n",
              "      <td>...</td>\n",
              "      <td>...</td>\n",
              "      <td>...</td>\n",
              "      <td>...</td>\n",
              "      <td>...</td>\n",
              "      <td>...</td>\n",
              "      <td>...</td>\n",
              "      <td>...</td>\n",
              "      <td>...</td>\n",
              "      <td>...</td>\n",
              "      <td>...</td>\n",
              "      <td>...</td>\n",
              "      <td>...</td>\n",
              "      <td>...</td>\n",
              "      <td>...</td>\n",
              "      <td>...</td>\n",
              "      <td>...</td>\n",
              "      <td>...</td>\n",
              "      <td>...</td>\n",
              "      <td>...</td>\n",
              "      <td>...</td>\n",
              "    </tr>\n",
              "    <tr>\n",
              "      <th>2016-05-27 17:20:00</th>\n",
              "      <td>100</td>\n",
              "      <td>0</td>\n",
              "      <td>25.566667</td>\n",
              "      <td>46.560000</td>\n",
              "      <td>25.890000</td>\n",
              "      <td>42.025714</td>\n",
              "      <td>27.200000</td>\n",
              "      <td>41.163333</td>\n",
              "      <td>24.70</td>\n",
              "      <td>45.590000</td>\n",
              "      <td>23.20</td>\n",
              "      <td>52.400000</td>\n",
              "      <td>24.796667</td>\n",
              "      <td>1.000000</td>\n",
              "      <td>24.500000</td>\n",
              "      <td>44.500000</td>\n",
              "      <td>24.7000</td>\n",
              "      <td>50.074000</td>\n",
              "      <td>23.200000</td>\n",
              "      <td>46.790000</td>\n",
              "      <td>22.733333</td>\n",
              "      <td>755.200000</td>\n",
              "      <td>55.666667</td>\n",
              "      <td>3.333333</td>\n",
              "      <td>23.666667</td>\n",
              "      <td>13.333333</td>\n",
              "      <td>43.096812</td>\n",
              "      <td>43.096812</td>\n",
              "    </tr>\n",
              "    <tr>\n",
              "      <th>2016-05-27 17:30:00</th>\n",
              "      <td>90</td>\n",
              "      <td>0</td>\n",
              "      <td>25.500000</td>\n",
              "      <td>46.500000</td>\n",
              "      <td>25.754000</td>\n",
              "      <td>42.080000</td>\n",
              "      <td>27.133333</td>\n",
              "      <td>41.223333</td>\n",
              "      <td>24.70</td>\n",
              "      <td>45.590000</td>\n",
              "      <td>23.23</td>\n",
              "      <td>52.326667</td>\n",
              "      <td>24.196667</td>\n",
              "      <td>1.000000</td>\n",
              "      <td>24.557143</td>\n",
              "      <td>44.414286</td>\n",
              "      <td>24.7000</td>\n",
              "      <td>49.790000</td>\n",
              "      <td>23.200000</td>\n",
              "      <td>46.790000</td>\n",
              "      <td>22.600000</td>\n",
              "      <td>755.200000</td>\n",
              "      <td>56.000000</td>\n",
              "      <td>3.500000</td>\n",
              "      <td>24.500000</td>\n",
              "      <td>13.300000</td>\n",
              "      <td>49.282940</td>\n",
              "      <td>49.282940</td>\n",
              "    </tr>\n",
              "    <tr>\n",
              "      <th>2016-05-27 17:40:00</th>\n",
              "      <td>270</td>\n",
              "      <td>10</td>\n",
              "      <td>25.500000</td>\n",
              "      <td>46.596667</td>\n",
              "      <td>25.628571</td>\n",
              "      <td>42.768571</td>\n",
              "      <td>27.050000</td>\n",
              "      <td>41.690000</td>\n",
              "      <td>24.70</td>\n",
              "      <td>45.730000</td>\n",
              "      <td>23.23</td>\n",
              "      <td>52.266667</td>\n",
              "      <td>23.626667</td>\n",
              "      <td>1.000000</td>\n",
              "      <td>24.540000</td>\n",
              "      <td>44.400000</td>\n",
              "      <td>24.7000</td>\n",
              "      <td>49.660000</td>\n",
              "      <td>23.200000</td>\n",
              "      <td>46.790000</td>\n",
              "      <td>22.466667</td>\n",
              "      <td>755.200000</td>\n",
              "      <td>56.333333</td>\n",
              "      <td>3.666667</td>\n",
              "      <td>25.333333</td>\n",
              "      <td>13.266667</td>\n",
              "      <td>29.199117</td>\n",
              "      <td>29.199117</td>\n",
              "    </tr>\n",
              "    <tr>\n",
              "      <th>2016-05-27 17:50:00</th>\n",
              "      <td>420</td>\n",
              "      <td>10</td>\n",
              "      <td>25.500000</td>\n",
              "      <td>46.990000</td>\n",
              "      <td>25.414000</td>\n",
              "      <td>43.036000</td>\n",
              "      <td>26.890000</td>\n",
              "      <td>41.290000</td>\n",
              "      <td>24.70</td>\n",
              "      <td>45.790000</td>\n",
              "      <td>23.20</td>\n",
              "      <td>52.200000</td>\n",
              "      <td>22.433333</td>\n",
              "      <td>1.000000</td>\n",
              "      <td>24.500000</td>\n",
              "      <td>44.295714</td>\n",
              "      <td>24.6625</td>\n",
              "      <td>49.518750</td>\n",
              "      <td>23.200000</td>\n",
              "      <td>46.817500</td>\n",
              "      <td>22.333333</td>\n",
              "      <td>755.200000</td>\n",
              "      <td>56.666667</td>\n",
              "      <td>3.833333</td>\n",
              "      <td>26.166667</td>\n",
              "      <td>13.233333</td>\n",
              "      <td>6.322784</td>\n",
              "      <td>6.322784</td>\n",
              "    </tr>\n",
              "    <tr>\n",
              "      <th>2016-05-27 18:00:00</th>\n",
              "      <td>430</td>\n",
              "      <td>10</td>\n",
              "      <td>25.500000</td>\n",
              "      <td>46.600000</td>\n",
              "      <td>25.264286</td>\n",
              "      <td>42.971429</td>\n",
              "      <td>26.823333</td>\n",
              "      <td>41.156667</td>\n",
              "      <td>24.70</td>\n",
              "      <td>45.963333</td>\n",
              "      <td>23.20</td>\n",
              "      <td>52.200000</td>\n",
              "      <td>21.026667</td>\n",
              "      <td>1.000000</td>\n",
              "      <td>24.500000</td>\n",
              "      <td>44.054000</td>\n",
              "      <td>24.7360</td>\n",
              "      <td>49.736000</td>\n",
              "      <td>23.200000</td>\n",
              "      <td>46.845000</td>\n",
              "      <td>22.200000</td>\n",
              "      <td>755.200000</td>\n",
              "      <td>57.000000</td>\n",
              "      <td>4.000000</td>\n",
              "      <td>27.000000</td>\n",
              "      <td>13.200000</td>\n",
              "      <td>34.118851</td>\n",
              "      <td>34.118851</td>\n",
              "    </tr>\n",
              "  </tbody>\n",
              "</table>\n",
              "<p>3853 rows × 28 columns</p>\n",
              "</div>"
            ],
            "text/plain": [
              "                     Appliances  lights  ...        rv1        rv2\n",
              "date                                     ...                      \n",
              "2016-05-01 00:00:00          50       0  ...  15.310003  15.310003\n",
              "2016-05-01 00:10:00          60       0  ...  11.240067  11.240067\n",
              "2016-05-01 00:20:00          50       0  ...  21.808814  21.808814\n",
              "2016-05-01 00:30:00          50       0  ...  47.000534  47.000534\n",
              "2016-05-01 00:40:00          60       0  ...   8.059441   8.059441\n",
              "...                         ...     ...  ...        ...        ...\n",
              "2016-05-27 17:20:00         100       0  ...  43.096812  43.096812\n",
              "2016-05-27 17:30:00          90       0  ...  49.282940  49.282940\n",
              "2016-05-27 17:40:00         270      10  ...  29.199117  29.199117\n",
              "2016-05-27 17:50:00         420      10  ...   6.322784   6.322784\n",
              "2016-05-27 18:00:00         430      10  ...  34.118851  34.118851\n",
              "\n",
              "[3853 rows x 28 columns]"
            ]
          },
          "metadata": {
            "tags": []
          },
          "execution_count": 8
        }
      ]
    },
    {
      "cell_type": "code",
      "metadata": {
        "id": "HZs5abhDPS0F",
        "colab_type": "code",
        "colab": {}
      },
      "source": [
        "df = raw_df.loc['2016-05-01':].round(2)"
      ],
      "execution_count": 0,
      "outputs": []
    },
    {
      "cell_type": "code",
      "metadata": {
        "id": "8CcGG0O7Pcxn",
        "colab_type": "code",
        "colab": {
          "base_uri": "https://localhost:8080/",
          "height": 34
        },
        "outputId": "4503743e-1671-4a4b-cfc8-b8a371dc0ea5"
      },
      "source": [
        "lenght = len(df)\n",
        "lenght"
      ],
      "execution_count": 10,
      "outputs": [
        {
          "output_type": "execute_result",
          "data": {
            "text/plain": [
              "3853"
            ]
          },
          "metadata": {
            "tags": []
          },
          "execution_count": 10
        }
      ]
    },
    {
      "cell_type": "code",
      "metadata": {
        "id": "NnsdoBRWPy6m",
        "colab_type": "code",
        "colab": {}
      },
      "source": [
        "# grab 1 day\n",
        "rows_per_day = 24 * 60 / 10"
      ],
      "execution_count": 0,
      "outputs": []
    },
    {
      "cell_type": "code",
      "metadata": {
        "id": "i-NNHslNQBrG",
        "colab_type": "code",
        "colab": {
          "base_uri": "https://localhost:8080/",
          "height": 34
        },
        "outputId": "1e097680-e34a-4caa-b63f-dea7f1189368"
      },
      "source": [
        "test_days = 2\n",
        "test_index = int(test_days * rows_per_day)\n",
        "test_index"
      ],
      "execution_count": 12,
      "outputs": [
        {
          "output_type": "execute_result",
          "data": {
            "text/plain": [
              "288"
            ]
          },
          "metadata": {
            "tags": []
          },
          "execution_count": 12
        }
      ]
    },
    {
      "cell_type": "code",
      "metadata": {
        "id": "QFq7SZh6RHrM",
        "colab_type": "code",
        "colab": {
          "base_uri": "https://localhost:8080/",
          "height": 578
        },
        "outputId": "c453f600-315d-44a0-95d4-015faf63f43b"
      },
      "source": [
        "df.info()"
      ],
      "execution_count": 13,
      "outputs": [
        {
          "output_type": "stream",
          "text": [
            "<class 'pandas.core.frame.DataFrame'>\n",
            "Index: 3853 entries, 2016-05-01 00:00:00 to 2016-05-27 18:00:00\n",
            "Data columns (total 28 columns):\n",
            "Appliances     3853 non-null int64\n",
            "lights         3853 non-null int64\n",
            "T1             3853 non-null float64\n",
            "RH_1           3853 non-null float64\n",
            "T2             3853 non-null float64\n",
            "RH_2           3853 non-null float64\n",
            "T3             3853 non-null float64\n",
            "RH_3           3853 non-null float64\n",
            "T4             3853 non-null float64\n",
            "RH_4           3853 non-null float64\n",
            "T5             3853 non-null float64\n",
            "RH_5           3853 non-null float64\n",
            "T6             3853 non-null float64\n",
            "RH_6           3853 non-null float64\n",
            "T7             3853 non-null float64\n",
            "RH_7           3853 non-null float64\n",
            "T8             3853 non-null float64\n",
            "RH_8           3853 non-null float64\n",
            "T9             3853 non-null float64\n",
            "RH_9           3853 non-null float64\n",
            "T_out          3853 non-null float64\n",
            "Press_mm_hg    3853 non-null float64\n",
            "RH_out         3853 non-null float64\n",
            "Windspeed      3853 non-null float64\n",
            "Visibility     3853 non-null float64\n",
            "Tdewpoint      3853 non-null float64\n",
            "rv1            3853 non-null float64\n",
            "rv2            3853 non-null float64\n",
            "dtypes: float64(26), int64(2)\n",
            "memory usage: 872.9+ KB\n"
          ],
          "name": "stdout"
        }
      ]
    },
    {
      "cell_type": "code",
      "metadata": {
        "id": "WfgToYzwQHjN",
        "colab_type": "code",
        "colab": {}
      },
      "source": [
        "train = df.iloc[:-test_index]\n",
        "test = df.iloc[-test_index:]"
      ],
      "execution_count": 0,
      "outputs": []
    },
    {
      "cell_type": "code",
      "metadata": {
        "id": "lBr_zeUIQIcV",
        "colab_type": "code",
        "colab": {}
      },
      "source": [
        "from sklearn.preprocessing import MinMaxScaler"
      ],
      "execution_count": 0,
      "outputs": []
    },
    {
      "cell_type": "code",
      "metadata": {
        "id": "ezMIwh0PRSYm",
        "colab_type": "code",
        "colab": {}
      },
      "source": [
        "scaler = MinMaxScaler()"
      ],
      "execution_count": 0,
      "outputs": []
    },
    {
      "cell_type": "code",
      "metadata": {
        "id": "4BOn6qtLRTaB",
        "colab_type": "code",
        "colab": {
          "base_uri": "https://localhost:8080/",
          "height": 34
        },
        "outputId": "1d7fd839-17df-4cc8-f2fa-8bba75f88e43"
      },
      "source": [
        "scaler.fit(train)"
      ],
      "execution_count": 17,
      "outputs": [
        {
          "output_type": "execute_result",
          "data": {
            "text/plain": [
              "MinMaxScaler(copy=True, feature_range=(0, 1))"
            ]
          },
          "metadata": {
            "tags": []
          },
          "execution_count": 17
        }
      ]
    },
    {
      "cell_type": "code",
      "metadata": {
        "id": "Apb_snpRRVq_",
        "colab_type": "code",
        "colab": {}
      },
      "source": [
        "scaled_train = scaler.transform(train)\n",
        "scaled_test = scaler.transform(test)"
      ],
      "execution_count": 0,
      "outputs": []
    },
    {
      "cell_type": "code",
      "metadata": {
        "id": "l0CWLAGQRb9e",
        "colab_type": "code",
        "colab": {}
      },
      "source": [
        "from tensorflow.keras.preprocessing.sequence import TimeseriesGenerator\n",
        "from tensorflow.keras.models import Sequential\n",
        "from tensorflow.keras.layers import Dense, SimpleRNN, LSTM\n",
        "from tensorflow.keras.callbacks import EarlyStopping"
      ],
      "execution_count": 0,
      "outputs": []
    },
    {
      "cell_type": "code",
      "metadata": {
        "id": "yP_0zweNRw9f",
        "colab_type": "code",
        "colab": {}
      },
      "source": [
        "lenght = 144 # one day\n",
        "length = lenght\n",
        "n_features = scaled_train.shape[1]\n",
        "batch_size = 1\n",
        "generator = TimeseriesGenerator(scaled_train, scaled_train, batch_size=batch_size, length=lenght)\n",
        "val_generator = TimeseriesGenerator(scaled_test, scaled_test, batch_size=batch_size, length=lenght)"
      ],
      "execution_count": 0,
      "outputs": []
    },
    {
      "cell_type": "code",
      "metadata": {
        "id": "llW0jefBZW6V",
        "colab_type": "code",
        "colab": {
          "base_uri": "https://localhost:8080/",
          "height": 34
        },
        "outputId": "5d332ca4-907c-48fc-b9fc-1658304063d5"
      },
      "source": [
        "scaled_train.shape"
      ],
      "execution_count": 47,
      "outputs": [
        {
          "output_type": "execute_result",
          "data": {
            "text/plain": [
              "(3565, 28)"
            ]
          },
          "metadata": {
            "tags": []
          },
          "execution_count": 47
        }
      ]
    },
    {
      "cell_type": "code",
      "metadata": {
        "id": "WkvwCiicZlKO",
        "colab_type": "code",
        "colab": {}
      },
      "source": [
        "model = Sequential()"
      ],
      "execution_count": 0,
      "outputs": []
    },
    {
      "cell_type": "code",
      "metadata": {
        "id": "DGWM6IAdZomd",
        "colab_type": "code",
        "colab": {}
      },
      "source": [
        "model.add(LSTM(50, input_shape=[lenght, scaled_train.shape[1]]))\n",
        "model.add(Dense(scaled_train.shape[1]))\n",
        "model.compile(optimizer='adam', loss='mse')"
      ],
      "execution_count": 0,
      "outputs": []
    },
    {
      "cell_type": "code",
      "metadata": {
        "id": "USGDZ-QcZ-Lx",
        "colab_type": "code",
        "colab": {
          "base_uri": "https://localhost:8080/",
          "height": 221
        },
        "outputId": "12cc1c84-0ffe-4259-d388-96c64d3be247"
      },
      "source": [
        "model.summary()"
      ],
      "execution_count": 50,
      "outputs": [
        {
          "output_type": "stream",
          "text": [
            "Model: \"sequential_2\"\n",
            "_________________________________________________________________\n",
            "Layer (type)                 Output Shape              Param #   \n",
            "=================================================================\n",
            "lstm_2 (LSTM)                (None, 50)                15800     \n",
            "_________________________________________________________________\n",
            "dense_1 (Dense)              (None, 28)                1428      \n",
            "=================================================================\n",
            "Total params: 17,228\n",
            "Trainable params: 17,228\n",
            "Non-trainable params: 0\n",
            "_________________________________________________________________\n"
          ],
          "name": "stdout"
        }
      ]
    },
    {
      "cell_type": "code",
      "metadata": {
        "id": "Y8hxdcD4aEM-",
        "colab_type": "code",
        "colab": {}
      },
      "source": [
        "es = EarlyStopping(monitor='val_loss', patience=2)"
      ],
      "execution_count": 0,
      "outputs": []
    },
    {
      "cell_type": "code",
      "metadata": {
        "id": "-MZVpXy_aUMO",
        "colab_type": "code",
        "colab": {
          "base_uri": "https://localhost:8080/",
          "height": 326
        },
        "outputId": "ec2e6fe3-4ecf-4339-a253-2dd5e6c50c55"
      },
      "source": [
        "model.fit_generator(generator, epochs=2, validation_data=val_generator, callbacks=[es])"
      ],
      "execution_count": 53,
      "outputs": [
        {
          "output_type": "stream",
          "text": [
            "3421/3421 [==============================] - 198s 58ms/step - loss: 0.0132 - val_loss: 0.0124\n",
            "Epoch 2/2\n",
            "3421/3421 [==============================] - 178s 52ms/step - loss: 0.0083 - val_loss: 0.0097\n"
          ],
          "name": "stdout"
        },
        {
          "output_type": "execute_result",
          "data": {
            "text/plain": [
              "<tensorflow.python.keras.callbacks.History at 0x7f223b7a8e80>"
            ]
          },
          "metadata": {
            "tags": []
          },
          "execution_count": 52
        },
        {
          "output_type": "stream",
          "text": [
            "WARNING:tensorflow:sample_weight modes were coerced from\n",
            "  ...\n",
            "    to  \n",
            "  ['...']\n",
            "WARNING:tensorflow:sample_weight modes were coerced from\n",
            "  ...\n",
            "    to  \n",
            "  ['...']\n",
            "Train for 3421 steps, validate for 144 steps\n",
            "Epoch 1/2\n",
            "3421/3421 [==============================] - 178s 52ms/step - loss: 0.0076 - val_loss: 0.0085\n",
            "Epoch 2/2\n",
            "3421/3421 [==============================] - 177s 52ms/step - loss: 0.0074 - val_loss: 0.0083\n"
          ],
          "name": "stdout"
        },
        {
          "output_type": "execute_result",
          "data": {
            "text/plain": [
              "<tensorflow.python.keras.callbacks.History at 0x7f223a6d05f8>"
            ]
          },
          "metadata": {
            "tags": []
          },
          "execution_count": 53
        }
      ]
    },
    {
      "cell_type": "code",
      "metadata": {
        "id": "z727HE6Iaa2_",
        "colab_type": "code",
        "colab": {
          "base_uri": "https://localhost:8080/",
          "height": 282
        },
        "outputId": "26740af8-094a-452d-80c0-b8ea46cb78be"
      },
      "source": [
        "losses = pd.DataFrame(model.history.history)\n",
        "losses.plot()"
      ],
      "execution_count": 54,
      "outputs": [
        {
          "output_type": "execute_result",
          "data": {
            "text/plain": [
              "<matplotlib.axes._subplots.AxesSubplot at 0x7f2242e5c978>"
            ]
          },
          "metadata": {
            "tags": []
          },
          "execution_count": 54
        },
        {
          "output_type": "display_data",
          "data": {
            "image/png": "[encoded data removed]",
            "text/plain": [
              "<Figure size 432x288 with 1 Axes>"
            ]
          },
          "metadata": {
            "tags": []
          }
        }
      ]
    },
    {
      "cell_type": "code",
      "metadata": {
        "id": "3qv1NxMOgl7g",
        "colab_type": "code",
        "colab": {}
      },
      "source": [
        "n_features = scaled_train.shape[1]\n",
        "\n",
        "test_pred = []\n",
        "\n",
        "first_eval_batch = scaled_train[-length:]\n",
        "current_batch = first_eval_batch.reshape((1, length, n_features))\n",
        "\n",
        "for i in range(len(test)):\n",
        "\n",
        "  current_pred = model.predict(current_batch)[0]\n",
        "  test_pred.append(current_pred)\n",
        "  current_batch = np.append(current_batch[:,1:,:], [[current_pred]], axis=1)"
      ],
      "execution_count": 0,
      "outputs": []
    },
    {
      "cell_type": "code",
      "metadata": {
        "id": "1xF4ccURgvu2",
        "colab_type": "code",
        "colab": {}
      },
      "source": [
        "true_p = scaler.inverse_transform(test_pred)\n",
        "true_p = pd.DataFrame(data=true_p, columns=test.columns)"
      ],
      "execution_count": 0,
      "outputs": []
    },
    {
      "cell_type": "code",
      "metadata": {
        "id": "9ZexpQMthItm",
        "colab_type": "code",
        "colab": {
          "base_uri": "https://localhost:8080/",
          "height": 282
        },
        "outputId": "e9fdcc83-8cd0-47b7-e9cf-f9afecbd095d"
      },
      "source": [
        "plt.plot(test['Appliances'])\n",
        "plt.plot(true_p['Appliances'])"
      ],
      "execution_count": 57,
      "outputs": [
        {
          "output_type": "execute_result",
          "data": {
            "text/plain": [
              "[<matplotlib.lines.Line2D at 0x7f223b523c88>]"
            ]
          },
          "metadata": {
            "tags": []
          },
          "execution_count": 57
        },
        {
          "output_type": "display_data",
          "data": {
            "image/png": "[encoded data removed]",
            "text/plain": [
              "<Figure size 432x288 with 1 Axes>"
            ]
          },
          "metadata": {
            "tags": []
          }
        }
      ]
    },
    {
      "cell_type": "code",
      "metadata": {
        "id": "8dbY-PnAiPSP",
        "colab_type": "code",
        "colab": {}
      },
      "source": [
        ""
      ],
      "execution_count": 0,
      "outputs": []
    },
    {
      "cell_type": "code",
      "metadata": {
        "id": "PVjWbVx1iXB2",
        "colab_type": "code",
        "colab": {}
      },
      "source": [
        ""
      ],
      "execution_count": 0,
      "outputs": []
    }
  ]
}